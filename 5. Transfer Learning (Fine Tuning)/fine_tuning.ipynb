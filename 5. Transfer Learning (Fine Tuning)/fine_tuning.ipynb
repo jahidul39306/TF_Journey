{
  "nbformat": 4,
  "nbformat_minor": 0,
  "metadata": {
    "colab": {
      "provenance": [],
      "gpuType": "T4"
    },
    "kernelspec": {
      "name": "python3",
      "display_name": "Python 3"
    },
    "language_info": {
      "name": "python"
    },
    "accelerator": "GPU"
  },
  "cells": [
    {
      "cell_type": "code",
      "execution_count": 2,
      "metadata": {
        "colab": {
          "base_uri": "https://localhost:8080/"
        },
        "id": "onRmth5UFiwQ",
        "outputId": "b11c3056-c9f7-4c71-b070-a884e3011281"
      },
      "outputs": [
        {
          "output_type": "stream",
          "name": "stdout",
          "text": [
            "--2023-06-05 23:45:52--  https://raw.githubusercontent.com/mrdbourke/tensorflow-deep-learning/main/extras/helper_functions.py\n",
            "Resolving raw.githubusercontent.com (raw.githubusercontent.com)... 185.199.108.133, 185.199.109.133, 185.199.110.133, ...\n",
            "Connecting to raw.githubusercontent.com (raw.githubusercontent.com)|185.199.108.133|:443... connected.\n",
            "HTTP request sent, awaiting response... 200 OK\n",
            "Length: 10246 (10K) [text/plain]\n",
            "Saving to: ‘helper_functions.py’\n",
            "\n",
            "helper_functions.py 100%[===================>]  10.01K  --.-KB/s    in 0s      \n",
            "\n",
            "2023-06-05 23:45:52 (86.7 MB/s) - ‘helper_functions.py’ saved [10246/10246]\n",
            "\n"
          ]
        }
      ],
      "source": [
        "!wget https://raw.githubusercontent.com/mrdbourke/tensorflow-deep-learning/main/extras/helper_functions.py"
      ]
    },
    {
      "cell_type": "code",
      "source": [
        "from helper_functions import create_tensorboard_callback, plot_loss_curves, unzip_data, walk_through_dir"
      ],
      "metadata": {
        "id": "2p7FHoKiFwpo"
      },
      "execution_count": 3,
      "outputs": []
    },
    {
      "cell_type": "code",
      "source": [
        "!wget https://storage.googleapis.com/ztm_tf_course/food_vision/10_food_classes_10_percent.zip"
      ],
      "metadata": {
        "colab": {
          "base_uri": "https://localhost:8080/"
        },
        "id": "4Dr3kjlwFzUY",
        "outputId": "d329bbb4-9d38-4b17-bb59-2d7ab2e16c57"
      },
      "execution_count": 4,
      "outputs": [
        {
          "output_type": "stream",
          "name": "stdout",
          "text": [
            "--2023-06-05 23:45:56--  https://storage.googleapis.com/ztm_tf_course/food_vision/10_food_classes_10_percent.zip\n",
            "Resolving storage.googleapis.com (storage.googleapis.com)... 74.125.68.128, 64.233.170.128, 74.125.24.128, ...\n",
            "Connecting to storage.googleapis.com (storage.googleapis.com)|74.125.68.128|:443... connected.\n",
            "HTTP request sent, awaiting response... 200 OK\n",
            "Length: 168546183 (161M) [application/zip]\n",
            "Saving to: ‘10_food_classes_10_percent.zip’\n",
            "\n",
            "10_food_classes_10_ 100%[===================>] 160.74M  23.2MB/s    in 8.1s    \n",
            "\n",
            "2023-06-05 23:46:05 (19.9 MB/s) - ‘10_food_classes_10_percent.zip’ saved [168546183/168546183]\n",
            "\n"
          ]
        }
      ]
    },
    {
      "cell_type": "code",
      "source": [
        "unzip_data(\"10_food_classes_10_percent.zip\")"
      ],
      "metadata": {
        "id": "Mk0HxkxBF5Rh"
      },
      "execution_count": 5,
      "outputs": []
    },
    {
      "cell_type": "code",
      "source": [
        "walk_through_dir(\"10_food_classes_10_percent\")"
      ],
      "metadata": {
        "colab": {
          "base_uri": "https://localhost:8080/"
        },
        "id": "vjvfULMoGFdE",
        "outputId": "0147a27d-13cb-4b31-e210-32c0084defab"
      },
      "execution_count": 6,
      "outputs": [
        {
          "output_type": "stream",
          "name": "stdout",
          "text": [
            "There are 2 directories and 0 images in '10_food_classes_10_percent'.\n",
            "There are 10 directories and 0 images in '10_food_classes_10_percent/test'.\n",
            "There are 0 directories and 250 images in '10_food_classes_10_percent/test/ice_cream'.\n",
            "There are 0 directories and 250 images in '10_food_classes_10_percent/test/steak'.\n",
            "There are 0 directories and 250 images in '10_food_classes_10_percent/test/chicken_wings'.\n",
            "There are 0 directories and 250 images in '10_food_classes_10_percent/test/fried_rice'.\n",
            "There are 0 directories and 250 images in '10_food_classes_10_percent/test/pizza'.\n",
            "There are 0 directories and 250 images in '10_food_classes_10_percent/test/hamburger'.\n",
            "There are 0 directories and 250 images in '10_food_classes_10_percent/test/grilled_salmon'.\n",
            "There are 0 directories and 250 images in '10_food_classes_10_percent/test/ramen'.\n",
            "There are 0 directories and 250 images in '10_food_classes_10_percent/test/sushi'.\n",
            "There are 0 directories and 250 images in '10_food_classes_10_percent/test/chicken_curry'.\n",
            "There are 10 directories and 0 images in '10_food_classes_10_percent/train'.\n",
            "There are 0 directories and 75 images in '10_food_classes_10_percent/train/ice_cream'.\n",
            "There are 0 directories and 75 images in '10_food_classes_10_percent/train/steak'.\n",
            "There are 0 directories and 75 images in '10_food_classes_10_percent/train/chicken_wings'.\n",
            "There are 0 directories and 75 images in '10_food_classes_10_percent/train/fried_rice'.\n",
            "There are 0 directories and 75 images in '10_food_classes_10_percent/train/pizza'.\n",
            "There are 0 directories and 75 images in '10_food_classes_10_percent/train/hamburger'.\n",
            "There are 0 directories and 75 images in '10_food_classes_10_percent/train/grilled_salmon'.\n",
            "There are 0 directories and 75 images in '10_food_classes_10_percent/train/ramen'.\n",
            "There are 0 directories and 75 images in '10_food_classes_10_percent/train/sushi'.\n",
            "There are 0 directories and 75 images in '10_food_classes_10_percent/train/chicken_curry'.\n"
          ]
        }
      ]
    },
    {
      "cell_type": "code",
      "source": [
        "train_dir = \"10_food_classes_10_percent/train/\"\n",
        "test_dir = \"10_food_classes_10_percent/test/\""
      ],
      "metadata": {
        "id": "LCGBy1llGOpO"
      },
      "execution_count": 7,
      "outputs": []
    },
    {
      "cell_type": "code",
      "source": [
        "import tensorflow as tf\n",
        "IMG_SIZE = (224, 224)"
      ],
      "metadata": {
        "id": "7Tymo5wXGbfQ"
      },
      "execution_count": 8,
      "outputs": []
    },
    {
      "cell_type": "code",
      "source": [
        "train_data_10_percent = tf.keras.preprocessing.image_dataset_from_directory(directory=train_dir,\n",
        "                                                                            image_size=IMG_SIZE,\n",
        "                                                                            label_mode=\"categorical\",\n",
        "                                                                            batch_size=32)\n",
        "\n",
        "test_data_10_percent = tf.keras.preprocessing.image_dataset_from_directory(directory=test_dir,\n",
        "                                                                            image_size=IMG_SIZE,\n",
        "                                                                            label_mode=\"categorical\",\n",
        "                                                                            batch_size=32)"
      ],
      "metadata": {
        "colab": {
          "base_uri": "https://localhost:8080/"
        },
        "id": "iuDQVD8pG1aL",
        "outputId": "18b44f7e-22d9-4c37-d524-469bbb5c897e"
      },
      "execution_count": 9,
      "outputs": [
        {
          "output_type": "stream",
          "name": "stdout",
          "text": [
            "Found 750 files belonging to 10 classes.\n",
            "Found 2500 files belonging to 10 classes.\n"
          ]
        }
      ]
    },
    {
      "cell_type": "code",
      "source": [
        "train_data_10_percent"
      ],
      "metadata": {
        "colab": {
          "base_uri": "https://localhost:8080/"
        },
        "id": "M-cjRm9kH6Xr",
        "outputId": "c76ab4c6-fdfb-45b5-8bdb-1e4b437fedea"
      },
      "execution_count": 10,
      "outputs": [
        {
          "output_type": "execute_result",
          "data": {
            "text/plain": [
              "<_BatchDataset element_spec=(TensorSpec(shape=(None, 224, 224, 3), dtype=tf.float32, name=None), TensorSpec(shape=(None, 10), dtype=tf.float32, name=None))>"
            ]
          },
          "metadata": {},
          "execution_count": 10
        }
      ]
    },
    {
      "cell_type": "code",
      "source": [
        "train_data_10_percent.class_names"
      ],
      "metadata": {
        "colab": {
          "base_uri": "https://localhost:8080/"
        },
        "id": "Zlx8nOKsH80c",
        "outputId": "e4c5f55b-8073-4619-9365-a76c268f5867"
      },
      "execution_count": 11,
      "outputs": [
        {
          "output_type": "execute_result",
          "data": {
            "text/plain": [
              "['chicken_curry',\n",
              " 'chicken_wings',\n",
              " 'fried_rice',\n",
              " 'grilled_salmon',\n",
              " 'hamburger',\n",
              " 'ice_cream',\n",
              " 'pizza',\n",
              " 'ramen',\n",
              " 'steak',\n",
              " 'sushi']"
            ]
          },
          "metadata": {},
          "execution_count": 11
        }
      ]
    },
    {
      "cell_type": "code",
      "source": [
        "for images, labels in train_data_10_percent.take(1):\n",
        "    print(images, labels)"
      ],
      "metadata": {
        "colab": {
          "base_uri": "https://localhost:8080/"
        },
        "id": "DXNFoxu0IBba",
        "outputId": "1c971886-f3cf-45c5-ba61-0d5f8ee69e61"
      },
      "execution_count": 12,
      "outputs": [
        {
          "output_type": "stream",
          "name": "stdout",
          "text": [
            "tf.Tensor(\n",
            "[[[[1.00000000e+01 7.00000000e+00 2.00000000e+00]\n",
            "   [1.00000000e+01 7.00000000e+00 2.00000000e+00]\n",
            "   [1.00000000e+01 7.00000000e+00 2.00000000e+00]\n",
            "   ...\n",
            "   [1.00000000e+00 1.00000000e+00 3.00000000e+00]\n",
            "   [1.00000000e+00 1.00000000e+00 3.00000000e+00]\n",
            "   [1.00000000e+00 1.00000000e+00 3.00000000e+00]]\n",
            "\n",
            "  [[1.00000000e+01 7.00000000e+00 2.00000000e+00]\n",
            "   [1.00000000e+01 7.00000000e+00 2.00000000e+00]\n",
            "   [1.00000000e+01 7.00000000e+00 2.00000000e+00]\n",
            "   ...\n",
            "   [1.00000000e+00 1.00000000e+00 3.00000000e+00]\n",
            "   [1.00000000e+00 1.00000000e+00 3.00000000e+00]\n",
            "   [1.00000000e+00 1.00000000e+00 3.00000000e+00]]\n",
            "\n",
            "  [[1.00000000e+01 7.00000000e+00 2.00000000e+00]\n",
            "   [1.00000000e+01 7.00000000e+00 2.00000000e+00]\n",
            "   [1.00000000e+01 7.00000000e+00 2.00000000e+00]\n",
            "   ...\n",
            "   [1.00000000e+00 1.00000000e+00 3.00000000e+00]\n",
            "   [1.00000000e+00 1.00000000e+00 3.00000000e+00]\n",
            "   [1.00000000e+00 1.00000000e+00 3.00000000e+00]]\n",
            "\n",
            "  ...\n",
            "\n",
            "  [[1.79785736e+02 1.70785736e+02 1.63785736e+02]\n",
            "   [1.80198959e+02 1.71198959e+02 1.64198959e+02]\n",
            "   [1.81168365e+02 1.72168365e+02 1.65168365e+02]\n",
            "   ...\n",
            "   [1.56811142e+02 1.51045914e+02 1.45045914e+02]\n",
            "   [1.56642792e+02 1.51214264e+02 1.45214264e+02]\n",
            "   [1.57428528e+02 1.52000000e+02 1.46000000e+02]]\n",
            "\n",
            "  [[1.80260193e+02 1.71260193e+02 1.64260193e+02]\n",
            "   [1.79066330e+02 1.70066330e+02 1.63066330e+02]\n",
            "   [1.81142838e+02 1.72142838e+02 1.65142838e+02]\n",
            "   ...\n",
            "   [1.57642792e+02 1.52214264e+02 1.46214264e+02]\n",
            "   [1.55857117e+02 1.50857117e+02 1.44857117e+02]\n",
            "   [1.53928558e+02 1.48928558e+02 1.42928558e+02]]\n",
            "\n",
            "  [[1.77642822e+02 1.68642822e+02 1.61642822e+02]\n",
            "   [1.79928574e+02 1.70928574e+02 1.63928574e+02]\n",
            "   [1.79923462e+02 1.70923462e+02 1.63923462e+02]\n",
            "   ...\n",
            "   [1.55928436e+02 1.50499908e+02 1.44499908e+02]\n",
            "   [1.53974487e+02 1.48974487e+02 1.42974487e+02]\n",
            "   [1.52000000e+02 1.49000000e+02 1.42000000e+02]]]\n",
            "\n",
            "\n",
            " [[[2.20000000e+01 1.20000000e+01 1.00000000e+01]\n",
            "   [2.17142849e+01 1.17142859e+01 9.71428585e+00]\n",
            "   [2.30612240e+01 1.18469391e+01 1.02755108e+01]\n",
            "   ...\n",
            "   [1.38775497e+02 6.77755051e+01 2.53469753e+01]\n",
            "   [1.40163300e+02 6.91632919e+01 2.71632957e+01]\n",
            "   [1.41800980e+02 6.98009720e+01 2.98009739e+01]]\n",
            "\n",
            "  [[2.07602024e+01 1.07602043e+01 8.76020432e+00]\n",
            "   [1.80714283e+01 8.07142830e+00 6.07142830e+00]\n",
            "   [2.36428566e+01 1.24285717e+01 1.08571434e+01]\n",
            "   ...\n",
            "   [1.32443848e+02 6.14438553e+01 1.94438534e+01]\n",
            "   [1.42010223e+02 7.10102158e+01 2.90102196e+01]\n",
            "   [1.41454010e+02 7.04540100e+01 2.84540138e+01]]\n",
            "\n",
            "  [[1.99234695e+01 1.01377554e+01 7.49489784e+00]\n",
            "   [2.21428566e+01 1.19285717e+01 9.50000000e+00]\n",
            "   [2.35510216e+01 1.14030609e+01 9.78571415e+00]\n",
            "   ...\n",
            "   [1.33214279e+02 6.02142868e+01 1.92142868e+01]\n",
            "   [1.43198944e+02 7.01989517e+01 2.91989498e+01]\n",
            "   [1.39295975e+02 6.62959671e+01 2.52959690e+01]]\n",
            "\n",
            "  ...\n",
            "\n",
            "  [[1.24296120e+02 7.43674393e+01 4.48672867e+01]\n",
            "   [1.25872772e+02 7.41583557e+01 4.42296753e+01]\n",
            "   [1.31117538e+02 7.71888580e+01 4.70459137e+01]\n",
            "   ...\n",
            "   [1.48571472e+02 8.53113022e+01 4.15714722e+01]\n",
            "   [1.51239777e+02 8.93520508e+01 4.21836510e+01]\n",
            "   [1.51163239e+02 9.07347107e+01 4.09489746e+01]]\n",
            "\n",
            "  [[1.32122421e+02 7.81938629e+01 4.00509758e+01]\n",
            "   [1.36709137e+02 8.07805710e+01 4.36376877e+01]\n",
            "   [1.31443817e+02 7.34131927e+01 3.63570633e+01]\n",
            "   ...\n",
            "   [1.47561203e+02 8.67295990e+01 4.15611992e+01]\n",
            "   [1.46489883e+02 8.84898834e+01 3.84898834e+01]\n",
            "   [1.50122269e+02 9.31222610e+01 4.01222610e+01]]\n",
            "\n",
            "  [[1.30770279e+02 7.77702789e+01 3.77702827e+01]\n",
            "   [1.30142685e+02 7.71426849e+01 3.71426849e+01]\n",
            "   [1.26790756e+02 7.11478958e+01 3.23621826e+01]\n",
            "   ...\n",
            "   [1.42071350e+02 8.40713501e+01 3.64998779e+01]\n",
            "   [1.48306137e+02 9.23775864e+01 4.11632614e+01]\n",
            "   [1.46897980e+02 9.18979721e+01 3.78979759e+01]]]\n",
            "\n",
            "\n",
            " [[[4.74540825e+01 3.44540825e+01 1.74540825e+01]\n",
            "   [5.34948959e+01 4.04948959e+01 2.34948978e+01]\n",
            "   [4.99234695e+01 3.69234695e+01 1.99234695e+01]\n",
            "   ...\n",
            "   [1.16986980e+01 1.39129620e+01 8.48443413e+00]\n",
            "   [1.37780324e-01 2.11226535e+00 9.18535441e-02]\n",
            "   [8.26485753e-01 2.23972869e+00 1.23972869e+00]]\n",
            "\n",
            "  [[4.47397957e+01 3.17397957e+01 1.47397957e+01]\n",
            "   [4.98622475e+01 3.68622475e+01 1.98622456e+01]\n",
            "   [5.87142830e+01 4.57142830e+01 2.87142849e+01]\n",
            "   ...\n",
            "   [2.84794712e+01 3.07498589e+01 2.51784725e+01]\n",
            "   [3.18362856e+00 5.11728954e+00 2.25507021e+00]\n",
            "   [3.82690430e-01 1.73986816e+00 7.39868164e-01]]\n",
            "\n",
            "  [[5.20153046e+01 3.90153046e+01 2.20153046e+01]\n",
            "   [5.51836739e+01 4.21836739e+01 2.51836739e+01]\n",
            "   [5.93367348e+01 4.63367348e+01 2.93367348e+01]\n",
            "   ...\n",
            "   [2.90918713e+01 3.20918732e+01 2.46633434e+01]\n",
            "   [1.53723202e+01 1.73723202e+01 1.28162003e+01]\n",
            "   [6.58150792e-01 2.23976350e+00 2.29614377e-01]]\n",
            "\n",
            "  ...\n",
            "\n",
            "  [[1.32989777e+02 1.26989777e+02 1.12989777e+02]\n",
            "   [1.32428589e+02 1.26428589e+02 1.12428589e+02]\n",
            "   [1.33188751e+02 1.27188751e+02 1.13188751e+02]\n",
            "   ...\n",
            "   [8.29999695e+01 8.49999695e+01 7.24285583e+01]\n",
            "   [8.16580734e+01 8.38723679e+01 7.13009567e+01]\n",
            "   [7.22855835e+01 7.60712891e+01 6.27141724e+01]]\n",
            "\n",
            "  [[1.29454041e+02 1.23454041e+02 1.09454041e+02]\n",
            "   [1.31280563e+02 1.25280556e+02 1.11280556e+02]\n",
            "   [1.27484627e+02 1.21484627e+02 1.07484627e+02]\n",
            "   ...\n",
            "   [8.20153046e+01 8.40153046e+01 7.30153046e+01]\n",
            "   [7.60611801e+01 7.90611801e+01 6.80611801e+01]\n",
            "   [7.08570557e+01 7.38570557e+01 6.28570557e+01]]\n",
            "\n",
            "  [[1.29459183e+02 1.23459183e+02 1.09459183e+02]\n",
            "   [1.26739807e+02 1.20739807e+02 1.06739807e+02]\n",
            "   [1.27147949e+02 1.21147949e+02 1.07147949e+02]\n",
            "   ...\n",
            "   [7.78571167e+01 8.06428528e+01 6.96428528e+01]\n",
            "   [7.15000305e+01 7.45000305e+01 6.35000305e+01]\n",
            "   [7.06427612e+01 7.36427612e+01 6.26427612e+01]]]\n",
            "\n",
            "\n",
            " ...\n",
            "\n",
            "\n",
            " [[[2.00841843e+02 1.84841843e+02 1.95841843e+02]\n",
            "   [1.95571426e+02 1.79571426e+02 1.90571426e+02]\n",
            "   [1.86142853e+02 1.70142853e+02 1.81142853e+02]\n",
            "   ...\n",
            "   [5.29286156e+01 2.79286156e+01 2.29286156e+01]\n",
            "   [5.49999886e+01 2.99999866e+01 2.29999866e+01]\n",
            "   [5.27142525e+01 2.77142506e+01 2.07142506e+01]]\n",
            "\n",
            "  [[2.00688766e+02 1.84688766e+02 1.95688766e+02]\n",
            "   [1.94285706e+02 1.78285706e+02 1.89285706e+02]\n",
            "   [1.83030609e+02 1.67030609e+02 1.78030609e+02]\n",
            "   ...\n",
            "   [4.81275520e+01 2.35560799e+01 1.83418159e+01]\n",
            "   [4.81377525e+01 2.31377544e+01 1.61377544e+01]\n",
            "   [4.90000000e+01 2.40000000e+01 1.70000000e+01]]\n",
            "\n",
            "  [[2.02500000e+02 1.86500000e+02 1.97285706e+02]\n",
            "   [1.94341843e+02 1.78341843e+02 1.89127548e+02]\n",
            "   [1.80142853e+02 1.64142853e+02 1.74928574e+02]\n",
            "   ...\n",
            "   [4.73367424e+01 2.44285717e+01 1.84744854e+01]\n",
            "   [4.90714417e+01 2.45000134e+01 1.92857285e+01]\n",
            "   [5.15714264e+01 2.70000000e+01 2.17857132e+01]]\n",
            "\n",
            "  ...\n",
            "\n",
            "  [[2.07418427e+02 1.96204163e+02 1.99775635e+02]\n",
            "   [2.08928574e+02 1.97928574e+02 2.01928574e+02]\n",
            "   [2.08617371e+02 1.99188843e+02 2.02403107e+02]\n",
            "   ...\n",
            "   [1.21683550e+01 1.11683550e+01 7.59688282e+00]\n",
            "   [1.19846926e+01 1.09846926e+01 5.98469257e+00]\n",
            "   [1.17857361e+01 1.17857361e+01 3.78573608e+00]]\n",
            "\n",
            "  [[2.06403076e+02 1.95403076e+02 1.99403076e+02]\n",
            "   [2.08000031e+02 1.97000031e+02 2.01000031e+02]\n",
            "   [2.12729584e+02 2.03729584e+02 2.06729584e+02]\n",
            "   ...\n",
            "   [1.18571167e+01 1.08571167e+01 7.28564453e+00]\n",
            "   [1.17907791e+01 1.07907791e+01 5.79077911e+00]\n",
            "   [1.08571167e+01 1.08571167e+01 2.85711670e+00]]\n",
            "\n",
            "  [[2.12714432e+02 2.01714432e+02 2.05714432e+02]\n",
            "   [2.14097046e+02 2.05097046e+02 2.08097046e+02]\n",
            "   [2.09275467e+02 2.00275467e+02 2.03275467e+02]\n",
            "   ...\n",
            "   [1.14337082e+01 1.04337082e+01 6.86223602e+00]\n",
            "   [1.07143555e+01 9.71435547e+00 4.71435547e+00]\n",
            "   [1.07143555e+01 1.07143555e+01 2.71435547e+00]]]\n",
            "\n",
            "\n",
            " [[[1.22790817e+02 9.77908173e+01 6.77908173e+01]\n",
            "   [1.80561234e+02 1.55561234e+02 1.24561234e+02]\n",
            "   [2.00494904e+02 1.75494904e+02 1.44494904e+02]\n",
            "   ...\n",
            "   [4.09183846e+01 2.13469105e+01 2.02856922e+01]\n",
            "   [4.03367310e+01 2.13367310e+01 1.73367310e+01]\n",
            "   [3.99744530e+01 2.09744530e+01 1.69744530e+01]]\n",
            "\n",
            "  [[1.70775513e+02 1.45775513e+02 1.15775520e+02]\n",
            "   [2.00015305e+02 1.75015305e+02 1.44015305e+02]\n",
            "   [1.99454086e+02 1.74454086e+02 1.43454086e+02]\n",
            "   ...\n",
            "   [3.62142639e+01 1.73724041e+01 1.35713844e+01]\n",
            "   [3.93723755e+01 2.03723736e+01 1.45050249e+01]\n",
            "   [3.64951363e+01 1.94951344e+01 1.24951344e+01]]\n",
            "\n",
            "  [[1.96234695e+02 1.71234695e+02 1.40234695e+02]\n",
            "   [1.96484695e+02 1.71484695e+02 1.40484695e+02]\n",
            "   [2.04760208e+02 1.79760208e+02 1.48760208e+02]\n",
            "   ...\n",
            "   [3.70204201e+01 1.86173420e+01 1.27397566e+01]\n",
            "   [3.85611954e+01 2.15611954e+01 1.43469095e+01]\n",
            "   [3.67705231e+01 2.04133816e+01 1.21990967e+01]]\n",
            "\n",
            "  ...\n",
            "\n",
            "  [[1.95785690e+02 1.66494904e+02 1.34857193e+02]\n",
            "   [1.98316391e+02 1.67530655e+02 1.35887863e+02]\n",
            "   [1.94357162e+02 1.63209259e+02 1.29591888e+02]\n",
            "   ...\n",
            "   [1.83097031e+02 1.40836868e+02 9.07144165e+01]\n",
            "   [1.91214325e+02 1.49056198e+02 9.87296600e+01]\n",
            "   [1.96775589e+02 1.55347061e+02 1.03408264e+02]]\n",
            "\n",
            "  [[1.98336746e+02 1.68933670e+02 1.39739807e+02]\n",
            "   [1.95862213e+02 1.66862213e+02 1.35137756e+02]\n",
            "   [1.94556122e+02 1.63770416e+02 1.32127548e+02]\n",
            "   ...\n",
            "   [1.83571533e+02 1.41571533e+02 9.31430054e+01]\n",
            "   [1.92209229e+02 1.50209229e+02 1.02209221e+02]\n",
            "   [1.98194016e+02 1.56194016e+02 1.07530685e+02]]\n",
            "\n",
            "  [[2.00714386e+02 1.73714386e+02 1.45428680e+02]\n",
            "   [1.99831802e+02 1.70806290e+02 1.40857315e+02]\n",
            "   [1.96709320e+02 1.67495026e+02 1.34505173e+02]\n",
            "   ...\n",
            "   [1.83209518e+02 1.41209518e+02 9.32095108e+01]\n",
            "   [1.96474640e+02 1.53474640e+02 1.08474632e+02]\n",
            "   [2.01857422e+02 1.58857422e+02 1.13857422e+02]]]\n",
            "\n",
            "\n",
            " [[[2.53357147e+02 1.89000000e+02 6.70714264e+01]\n",
            "   [2.51117340e+02 1.86045914e+02 6.03316307e+01]\n",
            "   [2.51795914e+02 1.82214279e+02 5.44387741e+01]\n",
            "   ...\n",
            "   [1.78994476e+02 1.10147514e+02 1.55763044e+01]\n",
            "   [1.39260117e+02 6.88570404e+01 2.63780642e+00]\n",
            "   [1.18443344e+02 4.43872414e+01 4.22426081e+00]]\n",
            "\n",
            "  [[2.53285721e+02 1.91285721e+02 6.90000000e+01]\n",
            "   [2.52867355e+02 1.89000000e+02 6.48061218e+01]\n",
            "   [2.52413269e+02 1.86586746e+02 5.88265305e+01]\n",
            "   ...\n",
            "   [1.67489456e+02 9.08312988e+01 1.59743767e+01]\n",
            "   [1.30586609e+02 5.27243462e+01 3.80611372e+00]\n",
            "   [1.08305695e+02 2.79026718e+01 8.26485157e-01]]\n",
            "\n",
            "  [[2.52647964e+02 1.95290817e+02 6.98622437e+01]\n",
            "   [2.51984695e+02 1.93301025e+02 6.72857132e+01]\n",
            "   [2.52260193e+02 1.93428574e+02 6.49234695e+01]\n",
            "   ...\n",
            "   [1.34795624e+02 5.37955971e+01 1.01010108e+00]\n",
            "   [1.08403030e+02 2.63315887e+01 0.00000000e+00]\n",
            "   [1.10301041e+02 2.60204048e+01 2.58682728e+00]]\n",
            "\n",
            "  ...\n",
            "\n",
            "  [[0.00000000e+00 0.00000000e+00 2.00000000e+00]\n",
            "   [0.00000000e+00 0.00000000e+00 2.00000000e+00]\n",
            "   [0.00000000e+00 0.00000000e+00 2.00000000e+00]\n",
            "   ...\n",
            "   [0.00000000e+00 0.00000000e+00 2.00000000e+00]\n",
            "   [0.00000000e+00 0.00000000e+00 2.00000000e+00]\n",
            "   [0.00000000e+00 0.00000000e+00 2.00000000e+00]]\n",
            "\n",
            "  [[0.00000000e+00 0.00000000e+00 2.00000000e+00]\n",
            "   [0.00000000e+00 0.00000000e+00 2.00000000e+00]\n",
            "   [0.00000000e+00 0.00000000e+00 2.00000000e+00]\n",
            "   ...\n",
            "   [0.00000000e+00 0.00000000e+00 2.00000000e+00]\n",
            "   [0.00000000e+00 0.00000000e+00 2.00000000e+00]\n",
            "   [0.00000000e+00 0.00000000e+00 2.00000000e+00]]\n",
            "\n",
            "  [[0.00000000e+00 0.00000000e+00 2.00000000e+00]\n",
            "   [0.00000000e+00 0.00000000e+00 2.00000000e+00]\n",
            "   [0.00000000e+00 0.00000000e+00 2.00000000e+00]\n",
            "   ...\n",
            "   [0.00000000e+00 0.00000000e+00 2.00000000e+00]\n",
            "   [0.00000000e+00 0.00000000e+00 2.00000000e+00]\n",
            "   [0.00000000e+00 0.00000000e+00 2.00000000e+00]]]], shape=(32, 224, 224, 3), dtype=float32) tf.Tensor(\n",
            "[[0. 0. 0. 0. 1. 0. 0. 0. 0. 0.]\n",
            " [0. 0. 0. 0. 0. 1. 0. 0. 0. 0.]\n",
            " [0. 0. 0. 1. 0. 0. 0. 0. 0. 0.]\n",
            " [0. 0. 1. 0. 0. 0. 0. 0. 0. 0.]\n",
            " [0. 0. 0. 0. 0. 1. 0. 0. 0. 0.]\n",
            " [0. 0. 0. 0. 1. 0. 0. 0. 0. 0.]\n",
            " [0. 0. 0. 1. 0. 0. 0. 0. 0. 0.]\n",
            " [0. 0. 0. 0. 0. 0. 0. 1. 0. 0.]\n",
            " [0. 0. 1. 0. 0. 0. 0. 0. 0. 0.]\n",
            " [0. 0. 0. 0. 1. 0. 0. 0. 0. 0.]\n",
            " [1. 0. 0. 0. 0. 0. 0. 0. 0. 0.]\n",
            " [0. 1. 0. 0. 0. 0. 0. 0. 0. 0.]\n",
            " [0. 1. 0. 0. 0. 0. 0. 0. 0. 0.]\n",
            " [0. 0. 0. 0. 0. 0. 1. 0. 0. 0.]\n",
            " [0. 0. 0. 0. 0. 0. 1. 0. 0. 0.]\n",
            " [0. 0. 0. 0. 0. 0. 0. 0. 0. 1.]\n",
            " [0. 0. 0. 0. 0. 0. 0. 0. 0. 1.]\n",
            " [0. 0. 0. 0. 0. 0. 0. 0. 1. 0.]\n",
            " [0. 0. 0. 0. 0. 1. 0. 0. 0. 0.]\n",
            " [0. 0. 0. 0. 0. 0. 0. 1. 0. 0.]\n",
            " [0. 0. 0. 1. 0. 0. 0. 0. 0. 0.]\n",
            " [0. 1. 0. 0. 0. 0. 0. 0. 0. 0.]\n",
            " [1. 0. 0. 0. 0. 0. 0. 0. 0. 0.]\n",
            " [0. 0. 0. 0. 0. 1. 0. 0. 0. 0.]\n",
            " [0. 0. 0. 0. 0. 0. 0. 0. 0. 1.]\n",
            " [0. 0. 0. 0. 0. 0. 0. 0. 1. 0.]\n",
            " [1. 0. 0. 0. 0. 0. 0. 0. 0. 0.]\n",
            " [0. 0. 0. 0. 0. 0. 0. 1. 0. 0.]\n",
            " [0. 1. 0. 0. 0. 0. 0. 0. 0. 0.]\n",
            " [0. 0. 0. 0. 0. 1. 0. 0. 0. 0.]\n",
            " [0. 0. 0. 0. 0. 0. 0. 0. 0. 1.]\n",
            " [1. 0. 0. 0. 0. 0. 0. 0. 0. 0.]], shape=(32, 10), dtype=float32)\n"
          ]
        }
      ]
    },
    {
      "cell_type": "code",
      "source": [
        "IMG_SIZE+(3,)"
      ],
      "metadata": {
        "colab": {
          "base_uri": "https://localhost:8080/"
        },
        "id": "E6Vut9L6J2c3",
        "outputId": "d7a4ae8b-77ab-4f33-fc00-b744859be799"
      },
      "execution_count": 13,
      "outputs": [
        {
          "output_type": "execute_result",
          "data": {
            "text/plain": [
              "(224, 224, 3)"
            ]
          },
          "metadata": {},
          "execution_count": 13
        }
      ]
    },
    {
      "cell_type": "code",
      "source": [
        "base_model = tf.keras.applications.efficientnet.EfficientNetB0(include_top=False)\n",
        "\n",
        "# 2. Freeze the base model (so the pre-learned patterns remain)\n",
        "base_model.trainable = False\n",
        "\n",
        "inputs = tf.keras.layers.Input(shape=IMG_SIZE+(3,), name=\"input_layer\")\n",
        "\n",
        "x = base_model(inputs)\n",
        "\n",
        "print(f\"Shape after base_model: {x.shape}\")\n",
        "\n",
        "x = tf.keras.layers.GlobalAveragePooling2D(name=\"global_average_pooling_layer\")(x)\n",
        "\n",
        "print(f\"Shape after GlobalAveragePooling2D(): {x.shape}\")"
      ],
      "metadata": {
        "colab": {
          "base_uri": "https://localhost:8080/"
        },
        "id": "YIlbtC-jIUiu",
        "outputId": "9886aeef-c0e6-4c46-a0c8-ab4a5d04d416"
      },
      "execution_count": 14,
      "outputs": [
        {
          "metadata": {
            "tags": null
          },
          "name": "stdout",
          "output_type": "stream",
          "text": [
            "Downloading data from https://storage.googleapis.com/keras-applications/efficientnetb0_notop.h5\n",
            "16705208/16705208 [==============================] - 2s 0us/step\n",
            "Shape after base_model: (None, 7, 7, 1280)\n",
            "Shape after GlobalAveragePooling2D(): (None, 1280)\n"
          ]
        }
      ]
    },
    {
      "cell_type": "code",
      "source": [
        "outputs = tf.keras.layers.Dense(10, activation=\"softmax\", name=\"output_layer\")(x)"
      ],
      "metadata": {
        "id": "7sLGfYC5NfQ7"
      },
      "execution_count": 15,
      "outputs": []
    },
    {
      "cell_type": "code",
      "source": [
        "model_0 = tf.keras.Model(inputs, outputs)"
      ],
      "metadata": {
        "id": "isshqRZ2N-SF"
      },
      "execution_count": 16,
      "outputs": []
    },
    {
      "cell_type": "code",
      "source": [
        "model_0.compile(loss=\"categorical_crossentropy\",\n",
        "                       optimizer=tf.keras.optimizers.Adam(),\n",
        "                       metrics=['accuracy'])"
      ],
      "metadata": {
        "id": "7S_QkkUVKFSZ"
      },
      "execution_count": 17,
      "outputs": []
    },
    {
      "cell_type": "code",
      "source": [
        "model_0_history = model_0.fit(train_data_10_percent,\n",
        "                                epochs=5,\n",
        "                                steps_per_epoch=len(train_data_10_percent),\n",
        "                                validation_data=test_data_10_percent,\n",
        "                                validation_steps=int(0.25 * len(test_data_10_percent)),\n",
        "                                callbacks=[create_tensorboard_callback(\"transfer_learning\", \"10_percent_feature_extract\")])"
      ],
      "metadata": {
        "colab": {
          "base_uri": "https://localhost:8080/"
        },
        "id": "4zEX2CVtKnoZ",
        "outputId": "32cba8c9-b0e1-4908-b9fd-7e0699edf559"
      },
      "execution_count": 18,
      "outputs": [
        {
          "metadata": {
            "tags": null
          },
          "name": "stderr",
          "output_type": "stream",
          "text": [
            "WARNING:tensorflow:Model failed to serialize as JSON. Ignoring... Unable to serialize [2.0896919 2.1128857 2.1081853] to JSON. Unrecognized type <class 'tensorflow.python.framework.ops.EagerTensor'>.\n"
          ]
        },
        {
          "output_type": "stream",
          "name": "stdout",
          "text": [
            "Saving TensorBoard log files to: transfer_learning/10_percent_feature_extract/20230605-234617\n",
            "Epoch 1/5\n",
            "24/24 [==============================] - 19s 228ms/step - loss: 1.9009 - accuracy: 0.3947 - val_loss: 1.3117 - val_accuracy: 0.7368\n",
            "Epoch 2/5\n",
            "24/24 [==============================] - 4s 145ms/step - loss: 1.1002 - accuracy: 0.7747 - val_loss: 0.8385 - val_accuracy: 0.8372\n",
            "Epoch 3/5\n",
            "24/24 [==============================] - 4s 173ms/step - loss: 0.7761 - accuracy: 0.8293 - val_loss: 0.6704 - val_accuracy: 0.8635\n",
            "Epoch 4/5\n",
            "24/24 [==============================] - 5s 176ms/step - loss: 0.6341 - accuracy: 0.8600 - val_loss: 0.5802 - val_accuracy: 0.8717\n",
            "Epoch 5/5\n",
            "24/24 [==============================] - 4s 153ms/step - loss: 0.5443 - accuracy: 0.8813 - val_loss: 0.5057 - val_accuracy: 0.8931\n"
          ]
        }
      ]
    },
    {
      "cell_type": "code",
      "source": [
        "plot_loss_curves(model_0_history)"
      ],
      "metadata": {
        "id": "R24GQbbyQoep"
      },
      "execution_count": null,
      "outputs": []
    },
    {
      "cell_type": "code",
      "source": [
        "base_model.summary()"
      ],
      "metadata": {
        "id": "s9Kj2dj4RQ1l"
      },
      "execution_count": null,
      "outputs": []
    },
    {
      "cell_type": "code",
      "source": [
        "len(base_model.layers)"
      ],
      "metadata": {
        "colab": {
          "base_uri": "https://localhost:8080/"
        },
        "id": "PlM97YN183Nb",
        "outputId": "a42fb5ab-91ce-464f-cf7a-627a247a6f27"
      },
      "execution_count": 21,
      "outputs": [
        {
          "output_type": "execute_result",
          "data": {
            "text/plain": [
              "238"
            ]
          },
          "metadata": {},
          "execution_count": 21
        }
      ]
    },
    {
      "cell_type": "code",
      "source": [
        "model_0.summary()"
      ],
      "metadata": {
        "colab": {
          "base_uri": "https://localhost:8080/"
        },
        "id": "Asufuawk9ZDs",
        "outputId": "666b13b7-db07-4927-ba49-c9ad80a7da2e"
      },
      "execution_count": 22,
      "outputs": [
        {
          "output_type": "stream",
          "name": "stdout",
          "text": [
            "Model: \"model\"\n",
            "_________________________________________________________________\n",
            " Layer (type)                Output Shape              Param #   \n",
            "=================================================================\n",
            " input_layer (InputLayer)    [(None, 224, 224, 3)]     0         \n",
            "                                                                 \n",
            " efficientnetb0 (Functional)  (None, None, None, 1280)  4049571  \n",
            "                                                                 \n",
            " global_average_pooling_laye  (None, 1280)             0         \n",
            " r (GlobalAveragePooling2D)                                      \n",
            "                                                                 \n",
            " output_layer (Dense)        (None, 10)                12810     \n",
            "                                                                 \n",
            "=================================================================\n",
            "Total params: 4,062,381\n",
            "Trainable params: 12,810\n",
            "Non-trainable params: 4,049,571\n",
            "_________________________________________________________________\n"
          ]
        }
      ]
    },
    {
      "cell_type": "code",
      "source": [
        "len(model_0.layers)"
      ],
      "metadata": {
        "colab": {
          "base_uri": "https://localhost:8080/"
        },
        "id": "iOIWTpwH-Saa",
        "outputId": "133c4238-ad63-4641-a432-2909024920bf"
      },
      "execution_count": 23,
      "outputs": [
        {
          "output_type": "execute_result",
          "data": {
            "text/plain": [
              "4"
            ]
          },
          "metadata": {},
          "execution_count": 23
        }
      ]
    },
    {
      "cell_type": "markdown",
      "source": [
        "### Feature vector and `tf.keras.layers.GlobalAveragePooling2D()`"
      ],
      "metadata": {
        "id": "WKnqpjrg-gTZ"
      }
    },
    {
      "cell_type": "code",
      "source": [
        "input_shape = (1, 4, 5, 3)\n",
        "\n",
        "tf.random.set_seed(42)\n",
        "\n",
        "input_tensor = tf.random.normal(input_shape)\n",
        "print(f\"Random tensor: \\n {input_tensor} \\n\")\n",
        "\n",
        "average_pooling_2D = tf.keras.layers.GlobalAveragePooling2D()(input_tensor)\n",
        "\n",
        "print(f\"After global 2D pooling: \\n {average_pooling_2D} \\n\")"
      ],
      "metadata": {
        "colab": {
          "base_uri": "https://localhost:8080/"
        },
        "id": "vB3XEx4Q-c5h",
        "outputId": "ab387756-5847-4b9d-cdbf-30fa6bf8281e"
      },
      "execution_count": 28,
      "outputs": [
        {
          "output_type": "stream",
          "name": "stdout",
          "text": [
            "Random tensor: \n",
            " [[[[ 0.3274685  -0.8426258   0.3194337 ]\n",
            "   [-1.4075519  -2.3880599  -1.0392479 ]\n",
            "   [-0.5573232   0.539707    1.6994323 ]\n",
            "   [ 0.28893656 -1.5066116  -0.2645474 ]\n",
            "   [-0.59722406 -1.9171132  -0.62044144]]\n",
            "\n",
            "  [[ 0.8504023  -0.40604794 -3.0258412 ]\n",
            "   [ 0.9058464   0.29855987 -0.22561555]\n",
            "   [-0.7616443  -1.8917141  -0.93847126]\n",
            "   [ 0.77852213 -0.47338897  0.97772694]\n",
            "   [ 0.24694404  0.20573747 -0.5256233 ]]\n",
            "\n",
            "  [[ 0.32410017  0.02545409 -0.10638497]\n",
            "   [-0.6369475   1.1603122   0.2507359 ]\n",
            "   [-0.41728503  0.4012578  -1.4145443 ]\n",
            "   [-0.5931857  -1.6617213   0.33567193]\n",
            "   [ 0.10815629  0.23479682 -0.56668764]]\n",
            "\n",
            "  [[-0.35819843  0.88698614  0.52744764]\n",
            "   [ 0.70402247 -0.33421248  0.21639644]\n",
            "   [-0.97485447 -0.20757681 -0.03647729]\n",
            "   [-1.3353444   0.6885855   1.1110833 ]\n",
            "   [ 0.40130252  0.6320586  -0.39030614]]]] \n",
            "\n",
            "After global 2D pooling: \n",
            " [[-0.13519286 -0.32778087 -0.18581301]] \n",
            "\n"
          ]
        }
      ]
    },
    {
      "cell_type": "code",
      "source": [
        "print(f\"average_pooling_2D shape: {average_pooling_2D.shape}\")\n",
        "print(f\"random tensor shape: {input_tensor.shape}\")"
      ],
      "metadata": {
        "colab": {
          "base_uri": "https://localhost:8080/"
        },
        "id": "NJ3xBtuPAeUb",
        "outputId": "23124201-5e73-4bee-ba65-d46e6fa1fc48"
      },
      "execution_count": 29,
      "outputs": [
        {
          "output_type": "stream",
          "name": "stdout",
          "text": [
            "average_pooling_2D shape: (1, 3)\n",
            "random tensor shape: (1, 4, 5, 3)\n"
          ]
        }
      ]
    },
    {
      "cell_type": "markdown",
      "source": [
        "As we can see `GlobalAveragePooling2D()` converts the tensor to a vector ( (4, 5) is gone after average poling).<br>  "
      ],
      "metadata": {
        "id": "wpUxzXJAA0fn"
      }
    },
    {
      "cell_type": "code",
      "source": [
        "cstom_reduce = tf.reduce_mean(input_tensor, axis=[1, 2])\n",
        "print(f\"Custom reduce: {cstom_reduce} \\n\")\n",
        "print(f\"After global 2D pooling: {average_pooling_2D} \\n\")"
      ],
      "metadata": {
        "colab": {
          "base_uri": "https://localhost:8080/"
        },
        "id": "VCNZAAtK_1mY",
        "outputId": "19e80899-c893-4f9f-9958-7503b485b63a"
      },
      "execution_count": 32,
      "outputs": [
        {
          "output_type": "stream",
          "name": "stdout",
          "text": [
            "Custom reduce: [[-0.13519286 -0.32778087 -0.18581301]] \n",
            "\n",
            "After global 2D pooling: [[-0.13519286 -0.32778087 -0.18581301]] \n",
            "\n"
          ]
        }
      ]
    },
    {
      "cell_type": "markdown",
      "source": [
        "Let's do a quick experiment with `tf.keras.layers.GlobalMaxPool2D()`"
      ],
      "metadata": {
        "id": "Z_tfx4QSCYTR"
      }
    },
    {
      "cell_type": "code",
      "source": [
        "pooling_2D = tf.keras.layers.GlobalMaxPool2D()(input_tensor)\n",
        "print(f\"After max pool 2D: {pooling_2D}\")\n",
        "print(f\"After global 2D pooling: {average_pooling_2D} \")"
      ],
      "metadata": {
        "colab": {
          "base_uri": "https://localhost:8080/"
        },
        "id": "YQR-UIMcBxAG",
        "outputId": "5c61437f-7f21-4bd8-a0a0-b91ae473ee90"
      },
      "execution_count": 34,
      "outputs": [
        {
          "output_type": "stream",
          "name": "stdout",
          "text": [
            "After max pool 2D: [[0.9058464 1.1603122 1.6994323]]\n",
            "After global 2D pooling: [[-0.13519286 -0.32778087 -0.18581301]] \n"
          ]
        }
      ]
    },
    {
      "cell_type": "code",
      "source": [],
      "metadata": {
        "id": "HOaER7MSDVob"
      },
      "execution_count": null,
      "outputs": []
    }
  ]
}