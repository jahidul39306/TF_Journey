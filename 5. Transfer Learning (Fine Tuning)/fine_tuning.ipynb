{
  "nbformat": 4,
  "nbformat_minor": 0,
  "metadata": {
    "colab": {
      "provenance": [],
      "gpuType": "T4"
    },
    "kernelspec": {
      "name": "python3",
      "display_name": "Python 3"
    },
    "language_info": {
      "name": "python"
    },
    "accelerator": "GPU"
  },
  "cells": [
    {
      "cell_type": "code",
      "execution_count": 1,
      "metadata": {
        "colab": {
          "base_uri": "https://localhost:8080/"
        },
        "id": "onRmth5UFiwQ",
        "outputId": "55242ba7-a76d-4fdd-ef72-e40ee396f028"
      },
      "outputs": [
        {
          "output_type": "stream",
          "name": "stdout",
          "text": [
            "--2023-06-03 21:33:35--  https://raw.githubusercontent.com/mrdbourke/tensorflow-deep-learning/main/extras/helper_functions.py\n",
            "Resolving raw.githubusercontent.com (raw.githubusercontent.com)... 185.199.108.133, 185.199.109.133, 185.199.110.133, ...\n",
            "Connecting to raw.githubusercontent.com (raw.githubusercontent.com)|185.199.108.133|:443... connected.\n",
            "HTTP request sent, awaiting response... 200 OK\n",
            "Length: 10246 (10K) [text/plain]\n",
            "Saving to: ‘helper_functions.py’\n",
            "\n",
            "\rhelper_functions.py   0%[                    ]       0  --.-KB/s               \rhelper_functions.py 100%[===================>]  10.01K  --.-KB/s    in 0s      \n",
            "\n",
            "2023-06-03 21:33:36 (96.9 MB/s) - ‘helper_functions.py’ saved [10246/10246]\n",
            "\n"
          ]
        }
      ],
      "source": [
        "!wget https://raw.githubusercontent.com/mrdbourke/tensorflow-deep-learning/main/extras/helper_functions.py"
      ]
    },
    {
      "cell_type": "code",
      "source": [
        "from helper_functions import create_tensorboard_callback, plot_loss_curves, unzip_data, walk_through_dir"
      ],
      "metadata": {
        "id": "2p7FHoKiFwpo"
      },
      "execution_count": 2,
      "outputs": []
    },
    {
      "cell_type": "code",
      "source": [
        "!wget https://storage.googleapis.com/ztm_tf_course/food_vision/10_food_classes_10_percent.zip"
      ],
      "metadata": {
        "colab": {
          "base_uri": "https://localhost:8080/"
        },
        "id": "4Dr3kjlwFzUY",
        "outputId": "ba3153de-2b67-4f95-90cb-0d5f12a1e46c"
      },
      "execution_count": 3,
      "outputs": [
        {
          "output_type": "stream",
          "name": "stdout",
          "text": [
            "--2023-06-03 21:33:40--  https://storage.googleapis.com/ztm_tf_course/food_vision/10_food_classes_10_percent.zip\n",
            "Resolving storage.googleapis.com (storage.googleapis.com)... 173.194.215.128, 173.194.216.128, 173.194.217.128, ...\n",
            "Connecting to storage.googleapis.com (storage.googleapis.com)|173.194.215.128|:443... connected.\n",
            "HTTP request sent, awaiting response... 200 OK\n",
            "Length: 168546183 (161M) [application/zip]\n",
            "Saving to: ‘10_food_classes_10_percent.zip’\n",
            "\n",
            "10_food_classes_10_ 100%[===================>] 160.74M   142MB/s    in 1.1s    \n",
            "\n",
            "2023-06-03 21:33:42 (142 MB/s) - ‘10_food_classes_10_percent.zip’ saved [168546183/168546183]\n",
            "\n"
          ]
        }
      ]
    },
    {
      "cell_type": "code",
      "source": [
        "unzip_data(\"10_food_classes_10_percent.zip\")"
      ],
      "metadata": {
        "id": "Mk0HxkxBF5Rh"
      },
      "execution_count": 4,
      "outputs": []
    },
    {
      "cell_type": "code",
      "source": [
        "walk_through_dir(\"10_food_classes_10_percent\")"
      ],
      "metadata": {
        "colab": {
          "base_uri": "https://localhost:8080/"
        },
        "id": "vjvfULMoGFdE",
        "outputId": "fcb394e9-21ba-4bd8-f39f-db009c22ec18"
      },
      "execution_count": 5,
      "outputs": [
        {
          "output_type": "stream",
          "name": "stdout",
          "text": [
            "There are 2 directories and 0 images in '10_food_classes_10_percent'.\n",
            "There are 10 directories and 0 images in '10_food_classes_10_percent/train'.\n",
            "There are 0 directories and 75 images in '10_food_classes_10_percent/train/chicken_wings'.\n",
            "There are 0 directories and 75 images in '10_food_classes_10_percent/train/steak'.\n",
            "There are 0 directories and 75 images in '10_food_classes_10_percent/train/ramen'.\n",
            "There are 0 directories and 75 images in '10_food_classes_10_percent/train/grilled_salmon'.\n",
            "There are 0 directories and 75 images in '10_food_classes_10_percent/train/pizza'.\n",
            "There are 0 directories and 75 images in '10_food_classes_10_percent/train/fried_rice'.\n",
            "There are 0 directories and 75 images in '10_food_classes_10_percent/train/chicken_curry'.\n",
            "There are 0 directories and 75 images in '10_food_classes_10_percent/train/hamburger'.\n",
            "There are 0 directories and 75 images in '10_food_classes_10_percent/train/ice_cream'.\n",
            "There are 0 directories and 75 images in '10_food_classes_10_percent/train/sushi'.\n",
            "There are 10 directories and 0 images in '10_food_classes_10_percent/test'.\n",
            "There are 0 directories and 250 images in '10_food_classes_10_percent/test/chicken_wings'.\n",
            "There are 0 directories and 250 images in '10_food_classes_10_percent/test/steak'.\n",
            "There are 0 directories and 250 images in '10_food_classes_10_percent/test/ramen'.\n",
            "There are 0 directories and 250 images in '10_food_classes_10_percent/test/grilled_salmon'.\n",
            "There are 0 directories and 250 images in '10_food_classes_10_percent/test/pizza'.\n",
            "There are 0 directories and 250 images in '10_food_classes_10_percent/test/fried_rice'.\n",
            "There are 0 directories and 250 images in '10_food_classes_10_percent/test/chicken_curry'.\n",
            "There are 0 directories and 250 images in '10_food_classes_10_percent/test/hamburger'.\n",
            "There are 0 directories and 250 images in '10_food_classes_10_percent/test/ice_cream'.\n",
            "There are 0 directories and 250 images in '10_food_classes_10_percent/test/sushi'.\n"
          ]
        }
      ]
    },
    {
      "cell_type": "code",
      "source": [
        "train_dir = \"10_food_classes_10_percent/train/\"\n",
        "test_dir = \"10_food_classes_10_percent/test/\""
      ],
      "metadata": {
        "id": "LCGBy1llGOpO"
      },
      "execution_count": 6,
      "outputs": []
    },
    {
      "cell_type": "code",
      "source": [
        "import tensorflow as tf\n",
        "IMG_SIZE = (224, 224)"
      ],
      "metadata": {
        "id": "7Tymo5wXGbfQ"
      },
      "execution_count": 7,
      "outputs": []
    },
    {
      "cell_type": "code",
      "source": [
        "train_data_10_percent = tf.keras.preprocessing.image_dataset_from_directory(directory=train_dir,\n",
        "                                                                            image_size=IMG_SIZE,\n",
        "                                                                            label_mode=\"categorical\",\n",
        "                                                                            batch_size=32)\n",
        "\n",
        "test_data_10_percent = tf.keras.preprocessing.image_dataset_from_directory(directory=test_dir,\n",
        "                                                                            image_size=IMG_SIZE,\n",
        "                                                                            label_mode=\"categorical\",\n",
        "                                                                            batch_size=32)"
      ],
      "metadata": {
        "colab": {
          "base_uri": "https://localhost:8080/"
        },
        "id": "iuDQVD8pG1aL",
        "outputId": "8640092d-1210-48a3-a085-14ffcf1a2945"
      },
      "execution_count": 8,
      "outputs": [
        {
          "output_type": "stream",
          "name": "stdout",
          "text": [
            "Found 750 files belonging to 10 classes.\n",
            "Found 2500 files belonging to 10 classes.\n"
          ]
        }
      ]
    },
    {
      "cell_type": "code",
      "source": [
        "train_data_10_percent"
      ],
      "metadata": {
        "colab": {
          "base_uri": "https://localhost:8080/"
        },
        "id": "M-cjRm9kH6Xr",
        "outputId": "92722dba-5e2d-4de2-f4f8-639f3e064e36"
      },
      "execution_count": 9,
      "outputs": [
        {
          "output_type": "execute_result",
          "data": {
            "text/plain": [
              "<_BatchDataset element_spec=(TensorSpec(shape=(None, 224, 224, 3), dtype=tf.float32, name=None), TensorSpec(shape=(None, 10), dtype=tf.float32, name=None))>"
            ]
          },
          "metadata": {},
          "execution_count": 9
        }
      ]
    },
    {
      "cell_type": "code",
      "source": [
        "train_data_10_percent.class_names"
      ],
      "metadata": {
        "colab": {
          "base_uri": "https://localhost:8080/"
        },
        "id": "Zlx8nOKsH80c",
        "outputId": "5030999b-c3c5-438c-aa39-589ab58c8190"
      },
      "execution_count": 10,
      "outputs": [
        {
          "output_type": "execute_result",
          "data": {
            "text/plain": [
              "['chicken_curry',\n",
              " 'chicken_wings',\n",
              " 'fried_rice',\n",
              " 'grilled_salmon',\n",
              " 'hamburger',\n",
              " 'ice_cream',\n",
              " 'pizza',\n",
              " 'ramen',\n",
              " 'steak',\n",
              " 'sushi']"
            ]
          },
          "metadata": {},
          "execution_count": 10
        }
      ]
    },
    {
      "cell_type": "code",
      "source": [
        "for images, labels in train_data_10_percent.take(1):\n",
        "    print(images, labels)"
      ],
      "metadata": {
        "colab": {
          "base_uri": "https://localhost:8080/"
        },
        "id": "DXNFoxu0IBba",
        "outputId": "db40bd64-0b54-4ea6-e2a7-e099783bed12"
      },
      "execution_count": 11,
      "outputs": [
        {
          "output_type": "stream",
          "name": "stdout",
          "text": [
            "tf.Tensor(\n",
            "[[[[ 76.07589     39.075893    12.075892  ]\n",
            "   [ 81.40275     44.402744    17.402742  ]\n",
            "   [ 82.74107     45.741074    16.741072  ]\n",
            "   ...\n",
            "   [ 58.736607    23.736607     4.736607  ]\n",
            "   [ 58.736607    23.736607     4.736607  ]\n",
            "   [ 58.736607    23.736607     4.736607  ]]\n",
            "\n",
            "  [[ 79.86607     42.86607     15.866072  ]\n",
            "   [ 84.45249     47.452488    20.452488  ]\n",
            "   [ 85.79465     48.794643    19.794643  ]\n",
            "   ...\n",
            "   [ 58.          23.           4.        ]\n",
            "   [ 58.          23.           4.        ]\n",
            "   [ 58.          23.           4.        ]]\n",
            "\n",
            "  [[ 79.91964     41.96875     15.285714  ]\n",
            "   [ 84.196754    46.245857    19.562819  ]\n",
            "   [ 85.31696     47.683037    18.683035  ]\n",
            "   ...\n",
            "   [ 57.          22.           3.        ]\n",
            "   [ 57.          22.           3.        ]\n",
            "   [ 57.          22.           3.        ]]\n",
            "\n",
            "  ...\n",
            "\n",
            "  [[  7.           3.           0.        ]\n",
            "   [  7.           3.           0.        ]\n",
            "   [  7.           3.           0.        ]\n",
            "   ...\n",
            "   [123.384865   106.59913     28.599133  ]\n",
            "   [120.905914   101.905914    24.905914  ]\n",
            "   [117.95978     98.00891     21.325867  ]]\n",
            "\n",
            "  [[  6.           2.           0.        ]\n",
            "   [  6.           2.           0.        ]\n",
            "   [  6.           2.           0.        ]\n",
            "   ...\n",
            "   [120.7452     103.959465    25.959465  ]\n",
            "   [120.71872    102.1384      24.928558  ]\n",
            "   [119.20984    100.20984     23.209839  ]]\n",
            "\n",
            "  [[  6.           2.           0.        ]\n",
            "   [  6.           2.           0.        ]\n",
            "   [  6.           2.           0.        ]\n",
            "   ...\n",
            "   [118.891304   102.10557     24.10557   ]\n",
            "   [119.92856    102.92856     24.928558  ]\n",
            "   [120.         101.          24.        ]]]\n",
            "\n",
            "\n",
            " [[[ 16.285713    13.285715     4.285714  ]\n",
            "   [ 15.214286    12.214286     3.2142859 ]\n",
            "   [ 14.285714    11.285714     3.8571427 ]\n",
            "   ...\n",
            "   [ 37.066334    28.066332    21.066332  ]\n",
            "   [ 35.44894     26.44894     19.44894   ]\n",
            "   [ 33.816326    24.816328    17.816328  ]]\n",
            "\n",
            "  [[ 14.071428    14.071428     4.0714283 ]\n",
            "   [ 15.          15.           7.        ]\n",
            "   [ 15.          15.           7.        ]\n",
            "   ...\n",
            "   [ 37.17347     28.17347     21.17347   ]\n",
            "   [ 36.22447     27.22447     20.22447   ]\n",
            "   [ 37.147953    28.147951    21.147951  ]]\n",
            "\n",
            "  [[ 13.357142    14.785714     7.        ]\n",
            "   [ 12.32653     13.755102     5.9693875 ]\n",
            "   [ 11.928571    13.357142     6.806122  ]\n",
            "   ...\n",
            "   [ 33.928543    24.928545    18.357117  ]\n",
            "   [ 27.127468    18.127468    11.556039  ]\n",
            "   [ 25.780607    16.780607    10.209179  ]]\n",
            "\n",
            "  ...\n",
            "\n",
            "  [[ 60.867374    43.295902    29.081638  ]\n",
            "   [ 51.974377    33.974377    19.974377  ]\n",
            "   [ 47.739605    30.356968    15.12224   ]\n",
            "   ...\n",
            "   [ 21.025587    12.454115     3.6683788 ]\n",
            "   [ 28.357239    19.785767    11.0000305 ]\n",
            "   [ 26.780655    18.209183     9.423446  ]]\n",
            "\n",
            "  [[ 52.433964    36.433964    21.433962  ]\n",
            "   [ 71.95437     55.954376    40.954376  ]\n",
            "   [ 74.316345    58.316345    42.530632  ]\n",
            "   ...\n",
            "   [ 24.683645    15.469351     6.4693503 ]\n",
            "   [ 22.923426    12.923426     3.9234262 ]\n",
            "   [ 25.943926    15.943927     5.943927  ]]\n",
            "\n",
            "  [[ 68.57594     52.575947    37.575947  ]\n",
            "   [ 80.16235     64.16235     48.162354  ]\n",
            "   [ 59.473656    43.47365     27.473652  ]\n",
            "   ...\n",
            "   [ 26.08167     16.08167      6.867377  ]\n",
            "   [ 24.40819     14.408191     4.4081907 ]\n",
            "   [ 28.351814    18.351814     8.351814  ]]]\n",
            "\n",
            "\n",
            " [[[ 26.086735     6.5          8.142858  ]\n",
            "   [ 17.841835     2.224489     4.5816317 ]\n",
            "   [ 15.831634     5.270408     4.3367343 ]\n",
            "   ...\n",
            "   [ 63.84689     32.84689      3.846889  ]\n",
            "   [ 57.07143     26.071428     0.        ]\n",
            "   [ 60.37254     28.372541     3.3725412 ]]\n",
            "\n",
            "  [[ 28.469389     9.015306     5.933674  ]\n",
            "   [ 18.03061      1.7499979    1.4591821 ]\n",
            "   [ 15.091836     3.4897957    4.8928566 ]\n",
            "   ...\n",
            "   [ 63.999977    32.999977     3.9999783 ]\n",
            "   [ 61.99491     30.99491      2.9949102 ]\n",
            "   [ 66.474556    34.474556     9.474557  ]]\n",
            "\n",
            "  [[ 56.749996    35.249992    19.53061   ]\n",
            "   [ 27.362244     8.505102     3.316327  ]\n",
            "   [ 15.719389     1.867348     4.8214297 ]\n",
            "   ...\n",
            "   [ 59.474487    28.474485     0.26019955]\n",
            "   [ 58.642857    27.642857     0.4285717 ]\n",
            "   [ 59.93368     26.362253     1.3622532 ]]\n",
            "\n",
            "  ...\n",
            "\n",
            "  [[164.43362    169.43362    115.005035  ]\n",
            "   [162.27037    166.28568    115.23975   ]\n",
            "   [160.90308    164.07144    116.56632   ]\n",
            "   ...\n",
            "   [123.97952    123.97952     71.88769   ]\n",
            "   [127.040764   126.82647     77.285675  ]\n",
            "   [125.99994    126.42853     76.51014   ]]\n",
            "\n",
            "  [[160.92859    165.92859    109.92859   ]\n",
            "   [162.65314    167.58682    113.78575   ]\n",
            "   [163.648      167.63269    116.94899   ]\n",
            "   ...\n",
            "   [125.35712    125.556076    71.07141   ]\n",
            "   [130.15807    129.15807     83.15813   ]\n",
            "   [120.52538    121.596794    79.90308   ]]\n",
            "\n",
            "  [[163.31635    168.31635    110.316345  ]\n",
            "   [157.85718    162.85718    107.520454  ]\n",
            "   [162.4847     166.4847     115.69898   ]\n",
            "   ...\n",
            "   [119.64279    119.42853     64.785736  ]\n",
            "   [128.0458     126.974365    82.61728   ]\n",
            "   [118.285645   118.285645    82.285706  ]]]\n",
            "\n",
            "\n",
            " ...\n",
            "\n",
            "\n",
            " [[[233.55612    214.55612    172.55612   ]\n",
            "   [227.09694    208.09694    166.09694   ]\n",
            "   [228.92348    209.92348    167.92348   ]\n",
            "   ...\n",
            "   [250.42859    234.50519    196.13278   ]\n",
            "   [252.07144    238.07144    203.07144   ]\n",
            "   [254.17351    241.42863    206.42863   ]]\n",
            "\n",
            "  [[231.14285    212.14285    170.14285   ]\n",
            "   [226.07143    207.07143    165.07143   ]\n",
            "   [229.07143    210.07143    168.07143   ]\n",
            "   ...\n",
            "   [251.78574    236.14294    196.92868   ]\n",
            "   [253.         239.         202.        ]\n",
            "   [253.02551    239.02551    204.02551   ]]\n",
            "\n",
            "  [[227.13776    207.70918    165.4949    ]\n",
            "   [221.12755    201.69897    159.4847    ]\n",
            "   [223.83163    204.40306    162.18878   ]\n",
            "   ...\n",
            "   [251.18884    233.18884    194.76031   ]\n",
            "   [252.37245    236.37245    200.37245   ]\n",
            "   [252.86226    238.43369    203.21939   ]]\n",
            "\n",
            "  ...\n",
            "\n",
            "  [[128.57141    109.5714      77.5714    ]\n",
            "   [128.         109.          77.        ]\n",
            "   [129.         110.          78.        ]\n",
            "   ...\n",
            "   [ 17.545757    13.545756    14.2855835 ]\n",
            "   [ 15.413098    11.127454    11.897882  ]\n",
            "   [ 15.637611    11.923439    12.632645  ]]\n",
            "\n",
            "  [[127.096954   108.096954    78.096954  ]\n",
            "   [128.07146    109.07146     79.07146   ]\n",
            "   [129.00005    110.00004     80.00004   ]\n",
            "   ...\n",
            "   [ 11.056134    11.056134    13.056134  ]\n",
            "   [ 12.214325    12.214325    14.214325  ]\n",
            "   [ 15.33166     15.33166     17.331661  ]]\n",
            "\n",
            "  [[128.64282    109.64282     79.64282   ]\n",
            "   [130.90306    111.90306     81.90306   ]\n",
            "   [132.70918    113.709175    83.709175  ]\n",
            "   ...\n",
            "   [ 14.214294    15.214294    17.214294  ]\n",
            "   [ 16.617306    17.617306    19.617306  ]\n",
            "   [ 15.158069    16.158068    18.158068  ]]]\n",
            "\n",
            "\n",
            " [[[ 25.           9.           9.        ]\n",
            "   [ 24.954082    10.954082     9.954082  ]\n",
            "   [ 24.280611    10.280612     9.280612  ]\n",
            "   ...\n",
            "   [ 22.770409    14.413201    15.198937  ]\n",
            "   [ 28.398031    18.398031    17.398031  ]\n",
            "   [ 38.566353    26.566355    26.566355  ]]\n",
            "\n",
            "  [[ 23.045918     9.045918     8.045918  ]\n",
            "   [ 24.          10.           9.        ]\n",
            "   [ 23.80102      9.801021     8.801021  ]\n",
            "   ...\n",
            "   [ 28.285759    20.714287    19.142815  ]\n",
            "   [ 29.505167    19.505167    18.505167  ]\n",
            "   [ 36.280537    24.280535    24.280535  ]]\n",
            "\n",
            "  [[ 24.214287    10.214286     9.214286  ]\n",
            "   [ 25.19898     11.198979    10.198979  ]\n",
            "   [ 24.066326    11.214286     9.831633  ]\n",
            "   ...\n",
            "   [ 41.495193    33.969635    32.26042   ]\n",
            "   [ 72.32641     62.29579     61.3111    ]\n",
            "   [ 43.17817     31.17817     31.17817   ]]\n",
            "\n",
            "  ...\n",
            "\n",
            "  [[228.         227.         223.42853   ]\n",
            "   [228.         227.         223.42853   ]\n",
            "   [227.78574    226.78574    223.21426   ]\n",
            "   ...\n",
            "   [181.95409    167.95409    164.95409   ]\n",
            "   [182.84187    168.05614    165.05614   ]\n",
            "   [183.57147    168.78574    165.78574   ]]\n",
            "\n",
            "  [[229.         225.         222.        ]\n",
            "   [229.92856    225.92856    222.92856   ]\n",
            "   [229.92856    225.92856    222.92856   ]\n",
            "   ...\n",
            "   [183.84187    169.05614    166.05614   ]\n",
            "   [185.         170.         167.        ]\n",
            "   [185.         170.         167.        ]]\n",
            "\n",
            "  [[229.         225.         222.        ]\n",
            "   [228.66833    224.66833    221.66833   ]\n",
            "   [227.64282    223.64282    220.64282   ]\n",
            "   ...\n",
            "   [184.78574    170.         167.        ]\n",
            "   [185.4031     170.4031     167.4031    ]\n",
            "   [186.         171.         168.        ]]]\n",
            "\n",
            "\n",
            " [[[205.5        123.5         41.5       ]\n",
            "   [206.52042    123.52041     43.52041   ]\n",
            "   [205.91837    123.13265     47.637753  ]\n",
            "   ...\n",
            "   [250.65309    254.49495    243.21432   ]\n",
            "   [245.4694     252.22961    241.87248   ]\n",
            "   [249.21425    254.87244    246.21425   ]]\n",
            "\n",
            "  [[205.90306    123.90306     39.903057  ]\n",
            "   [204.65816    122.591835    40.724487  ]\n",
            "   [210.37245    127.58673     50.15816   ]\n",
            "   ...\n",
            "   [252.3265     255.         244.12755   ]\n",
            "   [253.3163     254.86736    245.59183   ]\n",
            "   [245.80608    252.52043    240.20918   ]]\n",
            "\n",
            "  [[207.77042    126.19898     39.55612   ]\n",
            "   [204.68877    123.11735     38.87245   ]\n",
            "   [210.49489    129.49489     48.32653   ]\n",
            "   ...\n",
            "   [251.29582    252.53055    242.29582   ]\n",
            "   [253.11731    254.92856    243.11731   ]\n",
            "   [247.79106    252.29097    239.3625    ]]\n",
            "\n",
            "  ...\n",
            "\n",
            "  [[216.89246    123.67819     31.320982  ]\n",
            "   [209.22403    116.00977     23.652563  ]\n",
            "   [203.14775    108.101845    18.239584  ]\n",
            "   ...\n",
            "   [ 48.168354    21.168354     4.168355  ]\n",
            "   [ 46.41322     19.41322      2.4132204 ]\n",
            "   [ 46.357178    19.357178     2.3571777 ]]\n",
            "\n",
            "  [[209.81627    116.81627     21.816267  ]\n",
            "   [211.84683    118.84683     25.846834  ]\n",
            "   [214.6276     119.62759     28.056158  ]\n",
            "   ...\n",
            "   [ 46.229572    19.22957      2.2295713 ]\n",
            "   [ 46.147987    19.147987     2.1479871 ]\n",
            "   [ 48.07144     21.071442     4.0714417 ]]\n",
            "\n",
            "  [[202.69917    109.699165    14.699166  ]\n",
            "   [191.87265     98.87265      3.8726454 ]\n",
            "   [209.27542    114.27542     22.703997  ]\n",
            "   ...\n",
            "   [ 45.49491     18.494911     1.4949113 ]\n",
            "   [ 47.76028     20.76028      3.7602797 ]\n",
            "   [ 47.642822    20.642822     3.6428223 ]]]], shape=(32, 224, 224, 3), dtype=float32) tf.Tensor(\n",
            "[[0. 0. 1. 0. 0. 0. 0. 0. 0. 0.]\n",
            " [0. 0. 0. 0. 0. 0. 0. 1. 0. 0.]\n",
            " [1. 0. 0. 0. 0. 0. 0. 0. 0. 0.]\n",
            " [0. 0. 0. 0. 0. 0. 1. 0. 0. 0.]\n",
            " [1. 0. 0. 0. 0. 0. 0. 0. 0. 0.]\n",
            " [0. 0. 0. 0. 1. 0. 0. 0. 0. 0.]\n",
            " [0. 0. 0. 0. 0. 1. 0. 0. 0. 0.]\n",
            " [0. 0. 1. 0. 0. 0. 0. 0. 0. 0.]\n",
            " [0. 0. 0. 0. 0. 0. 0. 0. 1. 0.]\n",
            " [0. 0. 0. 0. 1. 0. 0. 0. 0. 0.]\n",
            " [0. 0. 0. 0. 0. 0. 1. 0. 0. 0.]\n",
            " [0. 0. 0. 0. 0. 0. 0. 1. 0. 0.]\n",
            " [0. 0. 0. 1. 0. 0. 0. 0. 0. 0.]\n",
            " [0. 0. 0. 0. 0. 1. 0. 0. 0. 0.]\n",
            " [0. 0. 0. 0. 0. 0. 0. 0. 1. 0.]\n",
            " [0. 0. 0. 0. 0. 0. 1. 0. 0. 0.]\n",
            " [0. 0. 0. 0. 0. 1. 0. 0. 0. 0.]\n",
            " [0. 1. 0. 0. 0. 0. 0. 0. 0. 0.]\n",
            " [0. 0. 0. 0. 0. 0. 0. 1. 0. 0.]\n",
            " [0. 0. 0. 0. 0. 0. 0. 1. 0. 0.]\n",
            " [0. 0. 0. 0. 0. 1. 0. 0. 0. 0.]\n",
            " [0. 0. 0. 0. 0. 0. 0. 0. 1. 0.]\n",
            " [0. 0. 0. 1. 0. 0. 0. 0. 0. 0.]\n",
            " [0. 0. 0. 1. 0. 0. 0. 0. 0. 0.]\n",
            " [0. 0. 0. 0. 0. 0. 0. 0. 1. 0.]\n",
            " [0. 0. 0. 0. 0. 0. 0. 0. 1. 0.]\n",
            " [0. 0. 0. 0. 0. 0. 1. 0. 0. 0.]\n",
            " [0. 0. 1. 0. 0. 0. 0. 0. 0. 0.]\n",
            " [0. 0. 0. 0. 0. 1. 0. 0. 0. 0.]\n",
            " [0. 0. 0. 0. 0. 0. 0. 0. 0. 1.]\n",
            " [0. 0. 0. 1. 0. 0. 0. 0. 0. 0.]\n",
            " [0. 0. 0. 1. 0. 0. 0. 0. 0. 0.]], shape=(32, 10), dtype=float32)\n"
          ]
        }
      ]
    },
    {
      "cell_type": "code",
      "source": [
        "IMG_SIZE+(3,)"
      ],
      "metadata": {
        "colab": {
          "base_uri": "https://localhost:8080/"
        },
        "id": "E6Vut9L6J2c3",
        "outputId": "3fb0a54a-7e26-426d-ec71-8beef3f80988"
      },
      "execution_count": 12,
      "outputs": [
        {
          "output_type": "execute_result",
          "data": {
            "text/plain": [
              "(224, 224, 3)"
            ]
          },
          "metadata": {},
          "execution_count": 12
        }
      ]
    },
    {
      "cell_type": "code",
      "source": [
        "base_model = tf.keras.applications.efficientnet.EfficientNetB0(include_top=False)\n",
        "\n",
        "# 2. Freeze the base model (so the pre-learned patterns remain)\n",
        "base_model.trainable = False\n",
        "\n",
        "inputs = tf.keras.layers.Input(shape=IMG_SIZE+(3,), name=\"input_layer\")\n",
        "\n",
        "x = base_model(inputs)\n",
        "\n",
        "print(f\"Shape after base_model: {x.shape}\")\n",
        "\n",
        "x = tf.keras.layers.GlobalAveragePooling2D(name=\"global_average_pooling_layer\")(x)\n",
        "\n",
        "print(f\"Shape after GlobalAveragePooling2D(): {x.shape}\")"
      ],
      "metadata": {
        "colab": {
          "base_uri": "https://localhost:8080/"
        },
        "id": "YIlbtC-jIUiu",
        "outputId": "93bc44ce-cf0e-46c4-8b8d-84ded49233d9"
      },
      "execution_count": 16,
      "outputs": [
        {
          "output_type": "stream",
          "name": "stdout",
          "text": [
            "Shape after base_model: (None, 7, 7, 1280)\n",
            "Shape after GlobalAveragePooling2D(): (None, 1280)\n"
          ]
        }
      ]
    },
    {
      "cell_type": "code",
      "source": [
        "outputs = tf.keras.layers.Dense(10, activation=\"softmax\", name=\"output_layer\")(x)"
      ],
      "metadata": {
        "id": "7sLGfYC5NfQ7"
      },
      "execution_count": 17,
      "outputs": []
    },
    {
      "cell_type": "code",
      "source": [
        "model_0 = tf.keras.Model(inputs, outputs)"
      ],
      "metadata": {
        "id": "isshqRZ2N-SF"
      },
      "execution_count": 18,
      "outputs": []
    },
    {
      "cell_type": "code",
      "source": [
        "model_0.compile(loss=\"categorical_crossentropy\",\n",
        "                       optimizer=tf.keras.optimizers.Adam(),\n",
        "                       metrics=['accuracy'])"
      ],
      "metadata": {
        "id": "7S_QkkUVKFSZ"
      },
      "execution_count": 19,
      "outputs": []
    },
    {
      "cell_type": "code",
      "source": [
        "model_0_history = model_0.fit(train_data_10_percent,\n",
        "                                epochs=5,\n",
        "                                steps_per_epoch=len(train_data_10_percent),\n",
        "                                validation_data=test_data_10_percent,\n",
        "                                validation_steps=int(0.25 * len(test_data_10_percent)),\n",
        "                                callbacks=[create_tensorboard_callback(\"transfer_learning\", \"10_percent_feature_extract\")])"
      ],
      "metadata": {
        "colab": {
          "base_uri": "https://localhost:8080/"
        },
        "id": "4zEX2CVtKnoZ",
        "outputId": "89e0c026-fcfd-4137-df43-8e33f4b01359"
      },
      "execution_count": 20,
      "outputs": [
        {
          "output_type": "stream",
          "name": "stderr",
          "text": [
            "WARNING:tensorflow:Model failed to serialize as JSON. Ignoring... Unable to serialize [2.0896919 2.1128857 2.1081853] to JSON. Unrecognized type <class 'tensorflow.python.framework.ops.EagerTensor'>.\n"
          ]
        },
        {
          "output_type": "stream",
          "name": "stdout",
          "text": [
            "Saving TensorBoard log files to: transfer_learning/10_percent_feature_extract/20230603-215556\n",
            "Epoch 1/5\n",
            "24/24 [==============================] - 21s 251ms/step - loss: 1.9056 - accuracy: 0.4053 - val_loss: 1.3048 - val_accuracy: 0.7368\n",
            "Epoch 2/5\n",
            "24/24 [==============================] - 4s 139ms/step - loss: 1.1077 - accuracy: 0.7587 - val_loss: 0.8544 - val_accuracy: 0.8207\n",
            "Epoch 3/5\n",
            "24/24 [==============================] - 5s 176ms/step - loss: 0.8004 - accuracy: 0.8227 - val_loss: 0.6927 - val_accuracy: 0.8372\n",
            "Epoch 4/5\n",
            "24/24 [==============================] - 5s 177ms/step - loss: 0.6448 - accuracy: 0.8547 - val_loss: 0.6042 - val_accuracy: 0.8487\n",
            "Epoch 5/5\n",
            "24/24 [==============================] - 5s 179ms/step - loss: 0.5571 - accuracy: 0.8853 - val_loss: 0.5647 - val_accuracy: 0.8586\n"
          ]
        }
      ]
    },
    {
      "cell_type": "code",
      "source": [
        "plot_loss_curves(model_0_history)"
      ],
      "metadata": {
        "colab": {
          "base_uri": "https://localhost:8080/",
          "height": 927
        },
        "id": "R24GQbbyQoep",
        "outputId": "a3fa2504-1886-4e51-c5a8-e8cec6d734a3"
      },
      "execution_count": 21,
      "outputs": [
        {
          "output_type": "display_data",
          "data": {
            "text/plain": [
              "<Figure size 640x480 with 1 Axes>"
            ],
            "image/png": "[encoded data removed]"
          },
          "metadata": {}
        },
        {
          "output_type": "display_data",
          "data": {
            "text/plain": [
              "<Figure size 640x480 with 1 Axes>"
            ],
            "image/png": "[encoded data removed]"
          },
          "metadata": {}
        }
      ]
    },
    {
      "cell_type": "code",
      "source": [],
      "metadata": {
        "id": "s9Kj2dj4RQ1l"
      },
      "execution_count": null,
      "outputs": []
    }
  ]
}