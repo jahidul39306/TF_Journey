{
  "metadata": {
    "kernelspec": {
      "display_name": "Python 3",
      "name": "python3"
    },
    "language_info": {
      "name": "python",
      "version": "3.10.10",
      "mimetype": "text/x-python",
      "codemirror_mode": {
        "name": "ipython",
        "version": 3
      },
      "pygments_lexer": "ipython3",
      "nbconvert_exporter": "python",
      "file_extension": ".py"
    },
    "colab": {
      "provenance": [],
      "gpuType": "T4"
    },
    "accelerator": "GPU"
  },
  "nbformat_minor": 0,
  "nbformat": 4,
  "cells": [
    {
      "cell_type": "code",
      "source": [
        "!wget https://raw.githubusercontent.com/mrdbourke/tensorflow-deep-learning/main/extras/helper_functions.py"
      ],
      "metadata": {
        "id": "onRmth5UFiwQ",
        "outputId": "f18ded26-b307-40ff-c23e-66c12667ea60",
        "execution": {
          "iopub.status.busy": "2023-06-09T10:12:31.355487Z",
          "iopub.execute_input": "2023-06-09T10:12:31.356133Z",
          "iopub.status.idle": "2023-06-09T10:12:32.576885Z",
          "shell.execute_reply.started": "2023-06-09T10:12:31.356091Z",
          "shell.execute_reply": "2023-06-09T10:12:32.575773Z"
        },
        "trusted": true,
        "colab": {
          "base_uri": "https://localhost:8080/"
        }
      },
      "execution_count": 1,
      "outputs": [
        {
          "output_type": "stream",
          "name": "stdout",
          "text": [
            "--2023-06-09 15:42:46--  https://raw.githubusercontent.com/mrdbourke/tensorflow-deep-learning/main/extras/helper_functions.py\n",
            "Resolving raw.githubusercontent.com (raw.githubusercontent.com)... 185.199.108.133, 185.199.109.133, 185.199.110.133, ...\n",
            "Connecting to raw.githubusercontent.com (raw.githubusercontent.com)|185.199.108.133|:443... connected.\n",
            "HTTP request sent, awaiting response... 200 OK\n",
            "Length: 10246 (10K) [text/plain]\n",
            "Saving to: ‘helper_functions.py’\n",
            "\n",
            "\rhelper_functions.py   0%[                    ]       0  --.-KB/s               \rhelper_functions.py 100%[===================>]  10.01K  --.-KB/s    in 0s      \n",
            "\n",
            "2023-06-09 15:42:46 (82.3 MB/s) - ‘helper_functions.py’ saved [10246/10246]\n",
            "\n"
          ]
        }
      ]
    },
    {
      "cell_type": "code",
      "source": [
        "from helper_functions import create_tensorboard_callback, plot_loss_curves, unzip_data, walk_through_dir"
      ],
      "metadata": {
        "id": "2p7FHoKiFwpo",
        "execution": {
          "iopub.status.busy": "2023-06-09T10:12:32.578575Z",
          "iopub.execute_input": "2023-06-09T10:12:32.578902Z",
          "iopub.status.idle": "2023-06-09T10:12:42.975629Z",
          "shell.execute_reply.started": "2023-06-09T10:12:32.578871Z",
          "shell.execute_reply": "2023-06-09T10:12:42.974676Z"
        },
        "trusted": true
      },
      "execution_count": 2,
      "outputs": []
    },
    {
      "cell_type": "code",
      "source": [
        "!wget https://storage.googleapis.com/ztm_tf_course/food_vision/10_food_classes_10_percent.zip"
      ],
      "metadata": {
        "id": "4Dr3kjlwFzUY",
        "outputId": "fad5bbbf-7553-45a0-a80e-d90b20487107",
        "execution": {
          "iopub.status.busy": "2023-06-09T10:12:42.977084Z",
          "iopub.execute_input": "2023-06-09T10:12:42.977816Z",
          "iopub.status.idle": "2023-06-09T10:12:45.151268Z",
          "shell.execute_reply.started": "2023-06-09T10:12:42.977781Z",
          "shell.execute_reply": "2023-06-09T10:12:45.150186Z"
        },
        "trusted": true,
        "colab": {
          "base_uri": "https://localhost:8080/"
        }
      },
      "execution_count": 3,
      "outputs": [
        {
          "output_type": "stream",
          "name": "stdout",
          "text": [
            "--2023-06-09 15:42:50--  https://storage.googleapis.com/ztm_tf_course/food_vision/10_food_classes_10_percent.zip\n",
            "Resolving storage.googleapis.com (storage.googleapis.com)... 173.194.79.128, 108.177.119.128, 108.177.126.128, ...\n",
            "Connecting to storage.googleapis.com (storage.googleapis.com)|173.194.79.128|:443... connected.\n",
            "HTTP request sent, awaiting response... 200 OK\n",
            "Length: 168546183 (161M) [application/zip]\n",
            "Saving to: ‘10_food_classes_10_percent.zip’\n",
            "\n",
            "10_food_classes_10_ 100%[===================>] 160.74M  37.5MB/s    in 5.1s    \n",
            "\n",
            "2023-06-09 15:42:56 (31.7 MB/s) - ‘10_food_classes_10_percent.zip’ saved [168546183/168546183]\n",
            "\n"
          ]
        }
      ]
    },
    {
      "cell_type": "code",
      "source": [
        "unzip_data(\"10_food_classes_10_percent.zip\")"
      ],
      "metadata": {
        "id": "Mk0HxkxBF5Rh",
        "execution": {
          "iopub.status.busy": "2023-06-09T10:12:45.155137Z",
          "iopub.execute_input": "2023-06-09T10:12:45.155473Z",
          "iopub.status.idle": "2023-06-09T10:12:46.180851Z",
          "shell.execute_reply.started": "2023-06-09T10:12:45.155442Z",
          "shell.execute_reply": "2023-06-09T10:12:46.179852Z"
        },
        "trusted": true
      },
      "execution_count": 4,
      "outputs": []
    },
    {
      "cell_type": "code",
      "source": [
        "walk_through_dir(\"10_food_classes_10_percent\")"
      ],
      "metadata": {
        "id": "vjvfULMoGFdE",
        "outputId": "e83d5f30-cd6e-497e-a72c-1697a2b7c959",
        "execution": {
          "iopub.status.busy": "2023-06-09T10:12:46.182183Z",
          "iopub.execute_input": "2023-06-09T10:12:46.183016Z",
          "iopub.status.idle": "2023-06-09T10:12:46.196175Z",
          "shell.execute_reply.started": "2023-06-09T10:12:46.182982Z",
          "shell.execute_reply": "2023-06-09T10:12:46.195126Z"
        },
        "trusted": true,
        "colab": {
          "base_uri": "https://localhost:8080/"
        }
      },
      "execution_count": 5,
      "outputs": [
        {
          "output_type": "stream",
          "name": "stdout",
          "text": [
            "There are 2 directories and 0 images in '10_food_classes_10_percent'.\n",
            "There are 10 directories and 0 images in '10_food_classes_10_percent/train'.\n",
            "There are 0 directories and 75 images in '10_food_classes_10_percent/train/pizza'.\n",
            "There are 0 directories and 75 images in '10_food_classes_10_percent/train/ramen'.\n",
            "There are 0 directories and 75 images in '10_food_classes_10_percent/train/fried_rice'.\n",
            "There are 0 directories and 75 images in '10_food_classes_10_percent/train/chicken_curry'.\n",
            "There are 0 directories and 75 images in '10_food_classes_10_percent/train/grilled_salmon'.\n",
            "There are 0 directories and 75 images in '10_food_classes_10_percent/train/steak'.\n",
            "There are 0 directories and 75 images in '10_food_classes_10_percent/train/chicken_wings'.\n",
            "There are 0 directories and 75 images in '10_food_classes_10_percent/train/hamburger'.\n",
            "There are 0 directories and 75 images in '10_food_classes_10_percent/train/ice_cream'.\n",
            "There are 0 directories and 75 images in '10_food_classes_10_percent/train/sushi'.\n",
            "There are 10 directories and 0 images in '10_food_classes_10_percent/test'.\n",
            "There are 0 directories and 250 images in '10_food_classes_10_percent/test/pizza'.\n",
            "There are 0 directories and 250 images in '10_food_classes_10_percent/test/ramen'.\n",
            "There are 0 directories and 250 images in '10_food_classes_10_percent/test/fried_rice'.\n",
            "There are 0 directories and 250 images in '10_food_classes_10_percent/test/chicken_curry'.\n",
            "There are 0 directories and 250 images in '10_food_classes_10_percent/test/grilled_salmon'.\n",
            "There are 0 directories and 250 images in '10_food_classes_10_percent/test/steak'.\n",
            "There are 0 directories and 250 images in '10_food_classes_10_percent/test/chicken_wings'.\n",
            "There are 0 directories and 250 images in '10_food_classes_10_percent/test/hamburger'.\n",
            "There are 0 directories and 250 images in '10_food_classes_10_percent/test/ice_cream'.\n",
            "There are 0 directories and 250 images in '10_food_classes_10_percent/test/sushi'.\n"
          ]
        }
      ]
    },
    {
      "cell_type": "code",
      "source": [
        "train_dir = \"10_food_classes_10_percent/train/\"\n",
        "test_dir = \"10_food_classes_10_percent/test/\""
      ],
      "metadata": {
        "id": "LCGBy1llGOpO",
        "execution": {
          "iopub.status.busy": "2023-06-09T10:12:46.197392Z",
          "iopub.execute_input": "2023-06-09T10:12:46.197787Z",
          "iopub.status.idle": "2023-06-09T10:12:46.203452Z",
          "shell.execute_reply.started": "2023-06-09T10:12:46.197757Z",
          "shell.execute_reply": "2023-06-09T10:12:46.201523Z"
        },
        "trusted": true
      },
      "execution_count": 6,
      "outputs": []
    },
    {
      "cell_type": "code",
      "source": [
        "import tensorflow as tf\n",
        "IMG_SIZE = (224, 224)"
      ],
      "metadata": {
        "id": "7Tymo5wXGbfQ",
        "execution": {
          "iopub.status.busy": "2023-06-09T10:12:46.205228Z",
          "iopub.execute_input": "2023-06-09T10:12:46.205926Z",
          "iopub.status.idle": "2023-06-09T10:12:46.212831Z",
          "shell.execute_reply.started": "2023-06-09T10:12:46.205896Z",
          "shell.execute_reply": "2023-06-09T10:12:46.211904Z"
        },
        "trusted": true
      },
      "execution_count": 7,
      "outputs": []
    },
    {
      "cell_type": "code",
      "source": [
        "train_data_10_percent = tf.keras.preprocessing.image_dataset_from_directory(directory=train_dir,\n",
        "                                                                            image_size=IMG_SIZE,\n",
        "                                                                            label_mode=\"categorical\",\n",
        "                                                                            batch_size=32)\n",
        "\n",
        "test_data_10_percent = tf.keras.preprocessing.image_dataset_from_directory(directory=test_dir,\n",
        "                                                                            image_size=IMG_SIZE,\n",
        "                                                                            label_mode=\"categorical\",\n",
        "                                                                            batch_size=32)"
      ],
      "metadata": {
        "id": "iuDQVD8pG1aL",
        "outputId": "12ab8f96-7310-4370-f54d-ad4d1b01576f",
        "execution": {
          "iopub.status.busy": "2023-06-09T10:12:46.214149Z",
          "iopub.execute_input": "2023-06-09T10:12:46.215093Z",
          "iopub.status.idle": "2023-06-09T10:12:51.037561Z",
          "shell.execute_reply.started": "2023-06-09T10:12:46.215040Z",
          "shell.execute_reply": "2023-06-09T10:12:51.036682Z"
        },
        "trusted": true,
        "colab": {
          "base_uri": "https://localhost:8080/"
        }
      },
      "execution_count": 8,
      "outputs": [
        {
          "output_type": "stream",
          "name": "stdout",
          "text": [
            "Found 750 files belonging to 10 classes.\n",
            "Found 2500 files belonging to 10 classes.\n"
          ]
        }
      ]
    },
    {
      "cell_type": "code",
      "source": [
        "train_data_10_percent"
      ],
      "metadata": {
        "id": "M-cjRm9kH6Xr",
        "outputId": "120efa50-8863-4b04-92b2-aff97854a332",
        "execution": {
          "iopub.status.busy": "2023-06-09T10:12:51.038784Z",
          "iopub.execute_input": "2023-06-09T10:12:51.039103Z",
          "iopub.status.idle": "2023-06-09T10:12:51.047480Z",
          "shell.execute_reply.started": "2023-06-09T10:12:51.039072Z",
          "shell.execute_reply": "2023-06-09T10:12:51.046535Z"
        },
        "trusted": true,
        "colab": {
          "base_uri": "https://localhost:8080/"
        }
      },
      "execution_count": 9,
      "outputs": [
        {
          "output_type": "execute_result",
          "data": {
            "text/plain": [
              "<_BatchDataset element_spec=(TensorSpec(shape=(None, 224, 224, 3), dtype=tf.float32, name=None), TensorSpec(shape=(None, 10), dtype=tf.float32, name=None))>"
            ]
          },
          "metadata": {},
          "execution_count": 9
        }
      ]
    },
    {
      "cell_type": "code",
      "source": [
        "train_data_10_percent.class_names"
      ],
      "metadata": {
        "id": "Zlx8nOKsH80c",
        "outputId": "b59e52ae-b994-451b-b2c4-378fb82e1d03",
        "execution": {
          "iopub.status.busy": "2023-06-09T10:12:51.049080Z",
          "iopub.execute_input": "2023-06-09T10:12:51.049881Z",
          "iopub.status.idle": "2023-06-09T10:12:51.058753Z",
          "shell.execute_reply.started": "2023-06-09T10:12:51.049846Z",
          "shell.execute_reply": "2023-06-09T10:12:51.057604Z"
        },
        "trusted": true,
        "colab": {
          "base_uri": "https://localhost:8080/"
        }
      },
      "execution_count": 10,
      "outputs": [
        {
          "output_type": "execute_result",
          "data": {
            "text/plain": [
              "['chicken_curry',\n",
              " 'chicken_wings',\n",
              " 'fried_rice',\n",
              " 'grilled_salmon',\n",
              " 'hamburger',\n",
              " 'ice_cream',\n",
              " 'pizza',\n",
              " 'ramen',\n",
              " 'steak',\n",
              " 'sushi']"
            ]
          },
          "metadata": {},
          "execution_count": 10
        }
      ]
    },
    {
      "cell_type": "code",
      "source": [
        "for images, labels in train_data_10_percent.take(1):\n",
        "    print(images, labels)"
      ],
      "metadata": {
        "id": "DXNFoxu0IBba",
        "outputId": "7c0c5b7b-e45f-4482-ea07-99d5aa3157ba",
        "execution": {
          "iopub.status.busy": "2023-06-09T10:12:51.060545Z",
          "iopub.execute_input": "2023-06-09T10:12:51.060875Z",
          "iopub.status.idle": "2023-06-09T10:12:51.700405Z",
          "shell.execute_reply.started": "2023-06-09T10:12:51.060844Z",
          "shell.execute_reply": "2023-06-09T10:12:51.699448Z"
        },
        "trusted": true,
        "colab": {
          "base_uri": "https://localhost:8080/"
        }
      },
      "execution_count": 11,
      "outputs": [
        {
          "output_type": "stream",
          "name": "stdout",
          "text": [
            "tf.Tensor(\n",
            "[[[[164.60715   133.60715    76.60714  ]\n",
            "   [162.93367   131.93367    76.841835 ]\n",
            "   [159.88776   126.168365   76.04082  ]\n",
            "   ...\n",
            "   [ 84.21437    21.214373   12.214373 ]\n",
            "   [ 83.5306     21.739813   12.336744 ]\n",
            "   [ 85.74494    25.744944   15.744943 ]]\n",
            "\n",
            "  [[169.94388   139.94388    77.42347  ]\n",
            "   [167.7653    137.69897    77.765305 ]\n",
            "   [161.63774   127.994896   74.5102   ]\n",
            "   ...\n",
            "   [ 84.413315   20.413311   11.413311 ]\n",
            "   [ 90.306046   26.443815   17.443815 ]\n",
            "   [ 89.54616    25.949253   16.949253 ]]\n",
            "\n",
            "  [[167.36224   138.14795    69.71939  ]\n",
            "   [165.15816   134.15816    69.85714  ]\n",
            "   [166.19388   133.55103    75.19388  ]\n",
            "   ...\n",
            "   [ 90.59697    23.168394   15.38268  ]\n",
            "   [ 96.831604   29.40303    21.617315 ]\n",
            "   [ 94.97967    27.551094   19.76538  ]]\n",
            "\n",
            "  ...\n",
            "\n",
            "  [[242.56633   218.56633   182.99486  ]\n",
            "   [240.15816   216.15816   182.04591  ]\n",
            "   [239.78572   214.78572   183.95409  ]\n",
            "   ...\n",
            "   [203.29596   148.7756     74.607254 ]\n",
            "   [189.51527   139.65816    69.44389  ]\n",
            "   [216.13792   171.2808    109.85224  ]]\n",
            "\n",
            "  [[241.26529   217.26529   179.26529  ]\n",
            "   [239.92346   215.92346   179.92346  ]\n",
            "   [238.0153    213.0153    182.22958  ]\n",
            "   ...\n",
            "   [188.41856   142.82162    69.418434 ]\n",
            "   [186.40823   136.54091    63.47457  ]\n",
            "   [202.81104   153.7396     86.928375 ]]\n",
            "\n",
            "  [[238.71425   215.71425   174.71425  ]\n",
            "   [238.83163   214.83163   178.68878  ]\n",
            "   [238.29082   213.21428   182.65819  ]\n",
            "   ...\n",
            "   [177.23979   136.52042    65.7448   ]\n",
            "   [187.16325   139.09181    63.09182  ]\n",
            "   [186.58183   133.22466    62.765457 ]]]\n",
            "\n",
            "\n",
            " [[[148.13266   194.13266   218.13266  ]\n",
            "   [161.0051    207.0051    233.0051   ]\n",
            "   [157.81633   205.2449    233.82654  ]\n",
            "   ...\n",
            "   [144.1633    149.23982   178.79599  ]\n",
            "   [135.551     141.551     175.551    ]\n",
            "   [131.50511   137.50511   173.50511  ]]\n",
            "\n",
            "  [[159.70918   205.70918   228.70918  ]\n",
            "   [161.4949    207.4949    231.4949   ]\n",
            "   [160.45918   207.45918   234.03061  ]\n",
            "   ...\n",
            "   [129.16304   135.0049    166.3927   ]\n",
            "   [137.72446   143.65811   179.65814  ]\n",
            "   [126.3879    131.38791   170.05124  ]]\n",
            "\n",
            "  [[164.35713   211.35713   230.92857  ]\n",
            "   [159.65817   205.87245   228.2296   ]\n",
            "   [155.66837   203.45407   227.09694  ]\n",
            "   ...\n",
            "   [125.81147   131.5972    165.16867  ]\n",
            "   [124.943855  132.8724    172.08673  ]\n",
            "   [128.83163   135.83163   179.98471  ]]\n",
            "\n",
            "  ...\n",
            "\n",
            "  [[186.2144    175.65315   174.93378  ]\n",
            "   [166.89278   157.2907    156.09174  ]\n",
            "   [191.63249   182.63249   184.06107  ]\n",
            "   ...\n",
            "   [109.85184   133.02019   173.85184  ]\n",
            "   [117.39274   138.74994   177.9642   ]\n",
            "   [113.403175  132.18892   171.76039  ]]\n",
            "\n",
            "  [[195.648     183.648     183.648    ]\n",
            "   [171.1174    159.1174    159.1174   ]\n",
            "   [181.73485   171.94913   173.3777   ]\n",
            "   ...\n",
            "   [105.08178   130.72456   170.5103   ]\n",
            "   [112.57135   135.57135   176.57135  ]\n",
            "   [108.14778   130.14778   171.14778  ]]\n",
            "\n",
            "  [[201.55614   187.55614   187.55614  ]\n",
            "   [183.9546    171.9546    171.9546   ]\n",
            "   [190.92847   181.14275   182.57132  ]\n",
            "   ...\n",
            "   [113.795944  142.22447   181.79594  ]\n",
            "   [111.96965   134.96965   176.96965  ]\n",
            "   [104.06098   127.06098   169.06099  ]]]\n",
            "\n",
            "\n",
            " [[[144.97449   139.26021   133.26021  ]\n",
            "   [138.94388   133.2296    127.22959  ]\n",
            "   [138.62245   129.63264   127.12755  ]\n",
            "   ...\n",
            "   [ 84.86226    83.07652    88.07652  ]\n",
            "   [ 87.07139    85.07139    90.07139  ]\n",
            "   [ 84.05614    80.12756    86.41328  ]]\n",
            "\n",
            "  [[126.07653   114.79082   110.86224  ]\n",
            "   [138.54591   127.331635  123.40306  ]\n",
            "   [128.80612   118.78061   116.765305 ]\n",
            "   ...\n",
            "   [ 84.01528    82.55606    86.744896 ]\n",
            "   [ 81.438736   79.51017    84.51017  ]\n",
            "   [ 80.64803    78.71947    83.71947  ]]\n",
            "\n",
            "  [[121.938774  106.938774  103.938774 ]\n",
            "   [128.29082   114.29082   111.29082  ]\n",
            "   [131.64796   121.908165  119.69388  ]\n",
            "   ...\n",
            "   [ 81.59688    81.59688    83.59688  ]\n",
            "   [ 77.77041    77.55612    80.198975 ]\n",
            "   [ 82.14303    81.92874    84.5716   ]]\n",
            "\n",
            "  ...\n",
            "\n",
            "  [[ 51.28061    47.28061    44.28061  ]\n",
            "   [ 51.         47.         44.       ]\n",
            "   [ 49.831635   45.831635   42.831635 ]\n",
            "   ...\n",
            "   [ 46.617264   45.617264   43.617264 ]\n",
            "   [ 44.928528   43.928528   41.928528 ]\n",
            "   [ 44.357056   43.357056   41.357056 ]]\n",
            "\n",
            "  [[ 50.07141    46.07141    43.07141  ]\n",
            "   [ 50.07141    46.07141    43.07141  ]\n",
            "   [ 50.         46.         43.       ]\n",
            "   ...\n",
            "   [ 39.729473   39.658062   37.658062 ]\n",
            "   [ 36.290714   36.219303   34.219303 ]\n",
            "   [ 34.07129    33.999878   31.999878 ]]\n",
            "\n",
            "  [[ 49.41326    45.41326    42.41326  ]\n",
            "   [ 50.571426   46.571426   43.571426 ]\n",
            "   [ 51.78061    47.78061    44.78061  ]\n",
            "   ...\n",
            "   [ 37.64279    37.64279    37.64279  ]\n",
            "   [ 34.974483   34.974483   34.974483 ]\n",
            "   [ 33.285675   33.285675   33.285675 ]]]\n",
            "\n",
            "\n",
            " ...\n",
            "\n",
            "\n",
            " [[[129.34694    95.34694    93.34694  ]\n",
            "   [127.82653    93.82653    92.18368  ]\n",
            "   [126.68368    92.68368    91.68368  ]\n",
            "   ...\n",
            "   [202.57133   200.99986   211.7856   ]\n",
            "   [199.3112    197.3112    208.3112   ]\n",
            "   [193.10191   191.10191   202.10191  ]]\n",
            "\n",
            "  [[131.5        98.5        92.30612  ]\n",
            "   [133.78572   100.78571    95.78571  ]\n",
            "   [132.68878    99.61735    94.831635 ]\n",
            "   ...\n",
            "   [206.49994   204.92847   215.7142   ]\n",
            "   [197.79077   195.79077   206.79077  ]\n",
            "   [193.61731   191.61731   202.61731  ]]\n",
            "\n",
            "  [[131.77551    97.77551    88.561226 ]\n",
            "   [134.27042   100.27042    91.05613  ]\n",
            "   [140.91327   106.67857    99.86735  ]\n",
            "   ...\n",
            "   [202.02545   199.81116   210.81116  ]\n",
            "   [197.8571    194.8571    205.8571   ]\n",
            "   [189.41824   186.41824   197.41824  ]]\n",
            "\n",
            "  ...\n",
            "\n",
            "  [[222.92862   228.92862   224.92862  ]\n",
            "   [220.84186   226.84186   222.84186  ]\n",
            "   [218.7398    224.35716   219.59189  ]\n",
            "   ...\n",
            "   [254.        254.        254.       ]\n",
            "   [254.        254.        254.       ]\n",
            "   [254.        254.        254.       ]]\n",
            "\n",
            "  [[225.78572   231.78572   227.78572  ]\n",
            "   [221.2092    227.2092    223.2092   ]\n",
            "   [218.84186   224.84186   220.84186  ]\n",
            "   ...\n",
            "   [254.        254.        254.       ]\n",
            "   [254.        254.        254.       ]\n",
            "   [254.        254.        254.       ]]\n",
            "\n",
            "  [[229.07146   235.07146   231.07146  ]\n",
            "   [223.50003   229.50003   225.50003  ]\n",
            "   [221.00514   227.00514   223.00514  ]\n",
            "   ...\n",
            "   [254.        254.        254.       ]\n",
            "   [254.        254.        254.       ]\n",
            "   [254.        254.        254.       ]]]\n",
            "\n",
            "\n",
            " [[[235.05612   230.05612   224.05612  ]\n",
            "   [235.23979   230.23979   224.23979  ]\n",
            "   [234.15816   229.15816   223.58673  ]\n",
            "   ...\n",
            "   [ 12.326577    7.969369   11.755105 ]\n",
            "   [ 14.183628    8.183628   12.183628 ]\n",
            "   [ 10.872506    4.872506    8.872506 ]]\n",
            "\n",
            "  [[238.85204   233.85204   229.85204  ]\n",
            "   [228.77042   223.77042   219.77042  ]\n",
            "   [229.09694   224.09694   220.09694  ]\n",
            "   ...\n",
            "   [ 10.688793    6.331585   10.117321 ]\n",
            "   [ 14.790818    9.790818   13.790818 ]\n",
            "   [ 14.285749    9.285749   13.285749 ]]\n",
            "\n",
            "  [[242.28061   237.4949    233.70918  ]\n",
            "   [240.12755   235.34183   231.55612  ]\n",
            "   [233.69388   228.90816   225.12245  ]\n",
            "   ...\n",
            "   [  9.091827    6.9540863  10.       ]\n",
            "   [  7.6275487   6.0561204   8.841834 ]\n",
            "   [ 13.418527   11.847098   14.6328125]]\n",
            "\n",
            "  ...\n",
            "\n",
            "  [[142.22437   147.22437   124.224365 ]\n",
            "   [105.24489   109.24489    82.38775  ]\n",
            "   [ 90.38268    90.525536   59.525536 ]\n",
            "   ...\n",
            "   [190.40804   198.57639   209.23967  ]\n",
            "   [189.35715   198.35715   207.32654  ]\n",
            "   [198.05072   207.05072   214.05072  ]]\n",
            "\n",
            "  [[144.33167   149.33167   126.33167  ]\n",
            "   [125.010216  129.01022   102.28575  ]\n",
            "   [ 97.30105    96.44391    68.22962  ]\n",
            "   ...\n",
            "   [188.60196   196.60196   207.60196  ]\n",
            "   [193.91325   202.91325   211.91325  ]\n",
            "   [193.05092   202.05092   211.05092  ]]\n",
            "\n",
            "  [[146.27052   153.03079   129.44405  ]\n",
            "   [127.8114    131.8114    106.8114   ]\n",
            "   [ 98.27546    97.41832    69.35711  ]\n",
            "   ...\n",
            "   [190.21898   198.21898   209.21898  ]\n",
            "   [195.73962   204.73962   213.73962  ]\n",
            "   [189.81143   198.81143   207.81143  ]]]\n",
            "\n",
            "\n",
            " [[[ 72.59694    39.59694    32.02551  ]\n",
            "   [ 77.61735    44.280613   32.09184  ]\n",
            "   [ 73.78571    50.556126   38.071434 ]\n",
            "   ...\n",
            "   [ 10.066291   17.06629     9.280555 ]\n",
            "   [ 10.025515   16.025515    6.025515 ]\n",
            "   [ 12.326555   15.326555    6.3265553]]\n",
            "\n",
            "  [[ 72.448975   43.285717   29.52551  ]\n",
            "   [ 74.341835   41.33673    24.627548 ]\n",
            "   [ 80.17347    52.790817   39.561226 ]\n",
            "   ...\n",
            "   [ 14.530632   19.530632   12.744896 ]\n",
            "   [ 12.724466   17.724466   10.724466 ]\n",
            "   [ 10.545881   13.545881    4.5458813]]\n",
            "\n",
            "  [[ 75.13265    47.132652   25.918365 ]\n",
            "   [ 76.36735    44.367348   23.336735 ]\n",
            "   [ 74.7602     41.760204   28.04592  ]\n",
            "   ...\n",
            "   [ 11.5460005  14.117429    7.3317146]\n",
            "   [ 12.331615   15.331615    8.331615 ]\n",
            "   [ 11.418423   14.418423    7.4184227]]\n",
            "\n",
            "  ...\n",
            "\n",
            "  [[140.78067   129.42346   115.77043  ]\n",
            "   [142.        133.        116.14285  ]\n",
            "   [139.00002   132.09184   113.6633   ]\n",
            "   ...\n",
            "   [141.19408   133.09703   125.66851  ]\n",
            "   [146.22957   135.6581    129.44383  ]\n",
            "   [137.64282   126.64282   120.64282  ]]\n",
            "\n",
            "  [[136.87753   123.07139   114.877525 ]\n",
            "   [139.92346   130.49995   115.92856  ]\n",
            "   [142.35713   133.57141   116.142845 ]\n",
            "   ...\n",
            "   [139.59686   129.02539   122.811134 ]\n",
            "   [138.06123   125.06123   119.06123  ]\n",
            "   [139.30623   126.30624   120.30624  ]]\n",
            "\n",
            "  [[139.01547   122.48481   116.55624  ]\n",
            "   [140.0001    127.1684    115.76538  ]\n",
            "   [143.06636   131.84695   115.35718  ]\n",
            "   ...\n",
            "   [134.92847   123.92847   117.92847  ]\n",
            "   [138.8111    125.811104  119.811104 ]\n",
            "   [138.48476   123.48476   118.48476  ]]]], shape=(32, 224, 224, 3), dtype=float32) tf.Tensor(\n",
            "[[0. 0. 0. 0. 0. 0. 1. 0. 0. 0.]\n",
            " [0. 0. 0. 0. 0. 0. 0. 0. 0. 1.]\n",
            " [0. 0. 1. 0. 0. 0. 0. 0. 0. 0.]\n",
            " [0. 0. 0. 0. 0. 1. 0. 0. 0. 0.]\n",
            " [0. 0. 0. 0. 0. 0. 0. 1. 0. 0.]\n",
            " [0. 1. 0. 0. 0. 0. 0. 0. 0. 0.]\n",
            " [0. 0. 0. 0. 0. 0. 0. 0. 0. 1.]\n",
            " [0. 0. 0. 0. 1. 0. 0. 0. 0. 0.]\n",
            " [0. 0. 0. 0. 0. 1. 0. 0. 0. 0.]\n",
            " [0. 0. 0. 0. 0. 0. 1. 0. 0. 0.]\n",
            " [0. 0. 0. 0. 0. 0. 0. 0. 0. 1.]\n",
            " [0. 0. 0. 0. 0. 0. 0. 0. 1. 0.]\n",
            " [0. 0. 0. 0. 0. 0. 1. 0. 0. 0.]\n",
            " [0. 1. 0. 0. 0. 0. 0. 0. 0. 0.]\n",
            " [0. 0. 0. 0. 0. 0. 0. 1. 0. 0.]\n",
            " [0. 0. 1. 0. 0. 0. 0. 0. 0. 0.]\n",
            " [0. 0. 0. 0. 0. 0. 0. 0. 1. 0.]\n",
            " [0. 0. 0. 0. 0. 0. 1. 0. 0. 0.]\n",
            " [0. 0. 1. 0. 0. 0. 0. 0. 0. 0.]\n",
            " [0. 1. 0. 0. 0. 0. 0. 0. 0. 0.]\n",
            " [0. 0. 0. 0. 0. 0. 0. 0. 1. 0.]\n",
            " [0. 0. 0. 0. 0. 0. 0. 0. 0. 1.]\n",
            " [1. 0. 0. 0. 0. 0. 0. 0. 0. 0.]\n",
            " [0. 1. 0. 0. 0. 0. 0. 0. 0. 0.]\n",
            " [0. 0. 1. 0. 0. 0. 0. 0. 0. 0.]\n",
            " [0. 0. 0. 0. 0. 0. 1. 0. 0. 0.]\n",
            " [0. 0. 0. 0. 0. 0. 0. 1. 0. 0.]\n",
            " [0. 0. 0. 0. 1. 0. 0. 0. 0. 0.]\n",
            " [0. 0. 0. 0. 0. 1. 0. 0. 0. 0.]\n",
            " [0. 0. 0. 0. 0. 0. 0. 0. 1. 0.]\n",
            " [0. 0. 0. 1. 0. 0. 0. 0. 0. 0.]\n",
            " [0. 0. 1. 0. 0. 0. 0. 0. 0. 0.]], shape=(32, 10), dtype=float32)\n"
          ]
        }
      ]
    },
    {
      "cell_type": "code",
      "source": [
        "IMG_SIZE+(3,)"
      ],
      "metadata": {
        "id": "E6Vut9L6J2c3",
        "outputId": "52fe7e07-d7f4-45fb-cbae-732f170cc69f",
        "execution": {
          "iopub.status.busy": "2023-06-09T10:12:51.701643Z",
          "iopub.execute_input": "2023-06-09T10:12:51.702268Z",
          "iopub.status.idle": "2023-06-09T10:12:51.708788Z",
          "shell.execute_reply.started": "2023-06-09T10:12:51.702233Z",
          "shell.execute_reply": "2023-06-09T10:12:51.707750Z"
        },
        "trusted": true,
        "colab": {
          "base_uri": "https://localhost:8080/"
        }
      },
      "execution_count": 12,
      "outputs": [
        {
          "output_type": "execute_result",
          "data": {
            "text/plain": [
              "(224, 224, 3)"
            ]
          },
          "metadata": {},
          "execution_count": 12
        }
      ]
    },
    {
      "cell_type": "code",
      "source": [
        "base_model = tf.keras.applications.efficientnet.EfficientNetB0(include_top=False)\n",
        "\n",
        "# 2. Freeze the base model (so the pre-learned patterns remain)\n",
        "base_model.trainable = False\n",
        "\n",
        "inputs = tf.keras.layers.Input(shape=IMG_SIZE+(3,), name=\"input_layer\")\n",
        "\n",
        "x = base_model(inputs)\n",
        "\n",
        "print(f\"Shape after base_model: {x.shape}\")\n",
        "\n",
        "x = tf.keras.layers.GlobalAveragePooling2D(name=\"global_average_pooling_layer\")(x)\n",
        "\n",
        "print(f\"Shape after GlobalAveragePooling2D(): {x.shape}\")"
      ],
      "metadata": {
        "id": "YIlbtC-jIUiu",
        "outputId": "ab890193-6daa-4784-fb9d-0287f19d4c47",
        "execution": {
          "iopub.status.busy": "2023-06-09T10:12:51.715030Z",
          "iopub.execute_input": "2023-06-09T10:12:51.715891Z",
          "iopub.status.idle": "2023-06-09T10:12:55.650810Z",
          "shell.execute_reply.started": "2023-06-09T10:12:51.715860Z",
          "shell.execute_reply": "2023-06-09T10:12:55.649606Z"
        },
        "trusted": true,
        "colab": {
          "base_uri": "https://localhost:8080/"
        }
      },
      "execution_count": 13,
      "outputs": [
        {
          "output_type": "stream",
          "name": "stdout",
          "text": [
            "Downloading data from https://storage.googleapis.com/keras-applications/efficientnetb0_notop.h5\n",
            "16705208/16705208 [==============================] - 1s 0us/step\n",
            "Shape after base_model: (None, 7, 7, 1280)\n",
            "Shape after GlobalAveragePooling2D(): (None, 1280)\n"
          ]
        }
      ]
    },
    {
      "cell_type": "code",
      "source": [
        "outputs = tf.keras.layers.Dense(10, activation=\"softmax\", name=\"output_layer\")(x)"
      ],
      "metadata": {
        "id": "7sLGfYC5NfQ7",
        "execution": {
          "iopub.status.busy": "2023-06-09T10:12:55.652363Z",
          "iopub.execute_input": "2023-06-09T10:12:55.652709Z",
          "iopub.status.idle": "2023-06-09T10:12:55.680547Z",
          "shell.execute_reply.started": "2023-06-09T10:12:55.652676Z",
          "shell.execute_reply": "2023-06-09T10:12:55.679565Z"
        },
        "trusted": true
      },
      "execution_count": 14,
      "outputs": []
    },
    {
      "cell_type": "code",
      "source": [
        "model_0 = tf.keras.Model(inputs, outputs)"
      ],
      "metadata": {
        "id": "isshqRZ2N-SF",
        "execution": {
          "iopub.status.busy": "2023-06-09T10:12:55.682060Z",
          "iopub.execute_input": "2023-06-09T10:12:55.682469Z",
          "iopub.status.idle": "2023-06-09T10:12:55.693100Z",
          "shell.execute_reply.started": "2023-06-09T10:12:55.682419Z",
          "shell.execute_reply": "2023-06-09T10:12:55.692085Z"
        },
        "trusted": true
      },
      "execution_count": 15,
      "outputs": []
    },
    {
      "cell_type": "code",
      "source": [
        "model_0.compile(loss=\"categorical_crossentropy\",\n",
        "                       optimizer=tf.keras.optimizers.Adam(),\n",
        "                       metrics=['accuracy'])"
      ],
      "metadata": {
        "id": "7S_QkkUVKFSZ",
        "execution": {
          "iopub.status.busy": "2023-06-09T10:12:55.694345Z",
          "iopub.execute_input": "2023-06-09T10:12:55.695030Z",
          "iopub.status.idle": "2023-06-09T10:12:55.717256Z",
          "shell.execute_reply.started": "2023-06-09T10:12:55.695000Z",
          "shell.execute_reply": "2023-06-09T10:12:55.716415Z"
        },
        "trusted": true
      },
      "execution_count": 16,
      "outputs": []
    },
    {
      "cell_type": "code",
      "source": [
        "model_0_history = model_0.fit(train_data_10_percent,\n",
        "                                epochs=5,\n",
        "                                steps_per_epoch=len(train_data_10_percent),\n",
        "                                validation_data=test_data_10_percent,\n",
        "                                validation_steps=int(0.25 * len(test_data_10_percent)),\n",
        "                                callbacks=[create_tensorboard_callback(\"transfer_learning\", \"10_percent_feature_extract\")])"
      ],
      "metadata": {
        "id": "4zEX2CVtKnoZ",
        "outputId": "c76e563e-3a68-4e9c-cfc3-2cf7c37d8f29",
        "execution": {
          "iopub.status.busy": "2023-06-09T10:12:55.718500Z",
          "iopub.execute_input": "2023-06-09T10:12:55.718890Z",
          "iopub.status.idle": "2023-06-09T10:13:41.776180Z",
          "shell.execute_reply.started": "2023-06-09T10:12:55.718859Z",
          "shell.execute_reply": "2023-06-09T10:13:41.775008Z"
        },
        "trusted": true,
        "colab": {
          "base_uri": "https://localhost:8080/"
        }
      },
      "execution_count": 17,
      "outputs": [
        {
          "output_type": "stream",
          "name": "stdout",
          "text": [
            "Saving TensorBoard log files to: transfer_learning/10_percent_feature_extract/20230609-154312\n"
          ]
        },
        {
          "output_type": "stream",
          "name": "stderr",
          "text": [
            "WARNING:tensorflow:Model failed to serialize as JSON. Ignoring... Unable to serialize [2.0896919 2.1128857 2.1081853] to JSON. Unrecognized type <class 'tensorflow.python.framework.ops.EagerTensor'>.\n"
          ]
        },
        {
          "output_type": "stream",
          "name": "stdout",
          "text": [
            "Epoch 1/5\n",
            "24/24 [==============================] - 26s 353ms/step - loss: 1.8454 - accuracy: 0.4400 - val_loss: 1.2707 - val_accuracy: 0.7434\n",
            "Epoch 2/5\n",
            "24/24 [==============================] - 5s 178ms/step - loss: 1.0776 - accuracy: 0.7920 - val_loss: 0.8516 - val_accuracy: 0.8174\n",
            "Epoch 3/5\n",
            "24/24 [==============================] - 6s 213ms/step - loss: 0.7823 - accuracy: 0.8320 - val_loss: 0.6816 - val_accuracy: 0.8487\n",
            "Epoch 4/5\n",
            "24/24 [==============================] - 7s 289ms/step - loss: 0.6208 - accuracy: 0.8693 - val_loss: 0.5760 - val_accuracy: 0.8701\n",
            "Epoch 5/5\n",
            "24/24 [==============================] - 4s 142ms/step - loss: 0.5356 - accuracy: 0.8853 - val_loss: 0.5409 - val_accuracy: 0.8668\n"
          ]
        }
      ]
    },
    {
      "cell_type": "code",
      "source": [
        "plot_loss_curves(model_0_history)"
      ],
      "metadata": {
        "id": "R24GQbbyQoep",
        "execution": {
          "iopub.status.busy": "2023-06-09T10:13:41.777564Z",
          "iopub.execute_input": "2023-06-09T10:13:41.778856Z",
          "iopub.status.idle": "2023-06-09T10:13:42.527439Z",
          "shell.execute_reply.started": "2023-06-09T10:13:41.778815Z",
          "shell.execute_reply": "2023-06-09T10:13:42.526308Z"
        },
        "trusted": true,
        "colab": {
          "base_uri": "https://localhost:8080/",
          "height": 927
        },
        "outputId": "f59ae3ad-661c-4ec2-879d-aa67ddaaa139"
      },
      "execution_count": 18,
      "outputs": [
        {
          "output_type": "display_data",
          "data": {
            "text/plain": [
              "<Figure size 640x480 with 1 Axes>"
            ],
            "image/png": "[encoded data removed]"
          },
          "metadata": {}
        },
        {
          "output_type": "display_data",
          "data": {
            "text/plain": [
              "<Figure size 640x480 with 1 Axes>"
            ],
            "image/png": "[encoded data removed]"
          },
          "metadata": {}
        }
      ]
    },
    {
      "cell_type": "code",
      "source": [
        "base_model.summary()"
      ],
      "metadata": {
        "id": "s9Kj2dj4RQ1l",
        "execution": {
          "iopub.status.busy": "2023-06-09T10:13:42.529013Z",
          "iopub.execute_input": "2023-06-09T10:13:42.529392Z",
          "iopub.status.idle": "2023-06-09T10:13:43.087552Z",
          "shell.execute_reply.started": "2023-06-09T10:13:42.529345Z",
          "shell.execute_reply": "2023-06-09T10:13:43.086764Z"
        },
        "trusted": true,
        "colab": {
          "base_uri": "https://localhost:8080/"
        },
        "outputId": "9992b135-ae6e-4d98-b8de-6e7ef8fa2ac6"
      },
      "execution_count": 19,
      "outputs": [
        {
          "output_type": "stream",
          "name": "stdout",
          "text": [
            "Model: \"efficientnetb0\"\n",
            "__________________________________________________________________________________________________\n",
            " Layer (type)                   Output Shape         Param #     Connected to                     \n",
            "==================================================================================================\n",
            " input_1 (InputLayer)           [(None, None, None,  0           []                               \n",
            "                                 3)]                                                              \n",
            "                                                                                                  \n",
            " rescaling (Rescaling)          (None, None, None,   0           ['input_1[0][0]']                \n",
            "                                3)                                                                \n",
            "                                                                                                  \n",
            " normalization (Normalization)  (None, None, None,   7           ['rescaling[0][0]']              \n",
            "                                3)                                                                \n",
            "                                                                                                  \n",
            " rescaling_1 (Rescaling)        (None, None, None,   0           ['normalization[0][0]']          \n",
            "                                3)                                                                \n",
            "                                                                                                  \n",
            " stem_conv_pad (ZeroPadding2D)  (None, None, None,   0           ['rescaling_1[0][0]']            \n",
            "                                3)                                                                \n",
            "                                                                                                  \n",
            " stem_conv (Conv2D)             (None, None, None,   864         ['stem_conv_pad[0][0]']          \n",
            "                                32)                                                               \n",
            "                                                                                                  \n",
            " stem_bn (BatchNormalization)   (None, None, None,   128         ['stem_conv[0][0]']              \n",
            "                                32)                                                               \n",
            "                                                                                                  \n",
            " stem_activation (Activation)   (None, None, None,   0           ['stem_bn[0][0]']                \n",
            "                                32)                                                               \n",
            "                                                                                                  \n",
            " block1a_dwconv (DepthwiseConv2  (None, None, None,   288        ['stem_activation[0][0]']        \n",
            " D)                             32)                                                               \n",
            "                                                                                                  \n",
            " block1a_bn (BatchNormalization  (None, None, None,   128        ['block1a_dwconv[0][0]']         \n",
            " )                              32)                                                               \n",
            "                                                                                                  \n",
            " block1a_activation (Activation  (None, None, None,   0          ['block1a_bn[0][0]']             \n",
            " )                              32)                                                               \n",
            "                                                                                                  \n",
            " block1a_se_squeeze (GlobalAver  (None, 32)          0           ['block1a_activation[0][0]']     \n",
            " agePooling2D)                                                                                    \n",
            "                                                                                                  \n",
            " block1a_se_reshape (Reshape)   (None, 1, 1, 32)     0           ['block1a_se_squeeze[0][0]']     \n",
            "                                                                                                  \n",
            " block1a_se_reduce (Conv2D)     (None, 1, 1, 8)      264         ['block1a_se_reshape[0][0]']     \n",
            "                                                                                                  \n",
            " block1a_se_expand (Conv2D)     (None, 1, 1, 32)     288         ['block1a_se_reduce[0][0]']      \n",
            "                                                                                                  \n",
            " block1a_se_excite (Multiply)   (None, None, None,   0           ['block1a_activation[0][0]',     \n",
            "                                32)                               'block1a_se_expand[0][0]']      \n",
            "                                                                                                  \n",
            " block1a_project_conv (Conv2D)  (None, None, None,   512         ['block1a_se_excite[0][0]']      \n",
            "                                16)                                                               \n",
            "                                                                                                  \n",
            " block1a_project_bn (BatchNorma  (None, None, None,   64         ['block1a_project_conv[0][0]']   \n",
            " lization)                      16)                                                               \n",
            "                                                                                                  \n",
            " block2a_expand_conv (Conv2D)   (None, None, None,   1536        ['block1a_project_bn[0][0]']     \n",
            "                                96)                                                               \n",
            "                                                                                                  \n",
            " block2a_expand_bn (BatchNormal  (None, None, None,   384        ['block2a_expand_conv[0][0]']    \n",
            " ization)                       96)                                                               \n",
            "                                                                                                  \n",
            " block2a_expand_activation (Act  (None, None, None,   0          ['block2a_expand_bn[0][0]']      \n",
            " ivation)                       96)                                                               \n",
            "                                                                                                  \n",
            " block2a_dwconv_pad (ZeroPaddin  (None, None, None,   0          ['block2a_expand_activation[0][0]\n",
            " g2D)                           96)                              ']                               \n",
            "                                                                                                  \n",
            " block2a_dwconv (DepthwiseConv2  (None, None, None,   864        ['block2a_dwconv_pad[0][0]']     \n",
            " D)                             96)                                                               \n",
            "                                                                                                  \n",
            " block2a_bn (BatchNormalization  (None, None, None,   384        ['block2a_dwconv[0][0]']         \n",
            " )                              96)                                                               \n",
            "                                                                                                  \n",
            " block2a_activation (Activation  (None, None, None,   0          ['block2a_bn[0][0]']             \n",
            " )                              96)                                                               \n",
            "                                                                                                  \n",
            " block2a_se_squeeze (GlobalAver  (None, 96)          0           ['block2a_activation[0][0]']     \n",
            " agePooling2D)                                                                                    \n",
            "                                                                                                  \n",
            " block2a_se_reshape (Reshape)   (None, 1, 1, 96)     0           ['block2a_se_squeeze[0][0]']     \n",
            "                                                                                                  \n",
            " block2a_se_reduce (Conv2D)     (None, 1, 1, 4)      388         ['block2a_se_reshape[0][0]']     \n",
            "                                                                                                  \n",
            " block2a_se_expand (Conv2D)     (None, 1, 1, 96)     480         ['block2a_se_reduce[0][0]']      \n",
            "                                                                                                  \n",
            " block2a_se_excite (Multiply)   (None, None, None,   0           ['block2a_activation[0][0]',     \n",
            "                                96)                               'block2a_se_expand[0][0]']      \n",
            "                                                                                                  \n",
            " block2a_project_conv (Conv2D)  (None, None, None,   2304        ['block2a_se_excite[0][0]']      \n",
            "                                24)                                                               \n",
            "                                                                                                  \n",
            " block2a_project_bn (BatchNorma  (None, None, None,   96         ['block2a_project_conv[0][0]']   \n",
            " lization)                      24)                                                               \n",
            "                                                                                                  \n",
            " block2b_expand_conv (Conv2D)   (None, None, None,   3456        ['block2a_project_bn[0][0]']     \n",
            "                                144)                                                              \n",
            "                                                                                                  \n",
            " block2b_expand_bn (BatchNormal  (None, None, None,   576        ['block2b_expand_conv[0][0]']    \n",
            " ization)                       144)                                                              \n",
            "                                                                                                  \n",
            " block2b_expand_activation (Act  (None, None, None,   0          ['block2b_expand_bn[0][0]']      \n",
            " ivation)                       144)                                                              \n",
            "                                                                                                  \n",
            " block2b_dwconv (DepthwiseConv2  (None, None, None,   1296       ['block2b_expand_activation[0][0]\n",
            " D)                             144)                             ']                               \n",
            "                                                                                                  \n",
            " block2b_bn (BatchNormalization  (None, None, None,   576        ['block2b_dwconv[0][0]']         \n",
            " )                              144)                                                              \n",
            "                                                                                                  \n",
            " block2b_activation (Activation  (None, None, None,   0          ['block2b_bn[0][0]']             \n",
            " )                              144)                                                              \n",
            "                                                                                                  \n",
            " block2b_se_squeeze (GlobalAver  (None, 144)         0           ['block2b_activation[0][0]']     \n",
            " agePooling2D)                                                                                    \n",
            "                                                                                                  \n",
            " block2b_se_reshape (Reshape)   (None, 1, 1, 144)    0           ['block2b_se_squeeze[0][0]']     \n",
            "                                                                                                  \n",
            " block2b_se_reduce (Conv2D)     (None, 1, 1, 6)      870         ['block2b_se_reshape[0][0]']     \n",
            "                                                                                                  \n",
            " block2b_se_expand (Conv2D)     (None, 1, 1, 144)    1008        ['block2b_se_reduce[0][0]']      \n",
            "                                                                                                  \n",
            " block2b_se_excite (Multiply)   (None, None, None,   0           ['block2b_activation[0][0]',     \n",
            "                                144)                              'block2b_se_expand[0][0]']      \n",
            "                                                                                                  \n",
            " block2b_project_conv (Conv2D)  (None, None, None,   3456        ['block2b_se_excite[0][0]']      \n",
            "                                24)                                                               \n",
            "                                                                                                  \n",
            " block2b_project_bn (BatchNorma  (None, None, None,   96         ['block2b_project_conv[0][0]']   \n",
            " lization)                      24)                                                               \n",
            "                                                                                                  \n",
            " block2b_drop (Dropout)         (None, None, None,   0           ['block2b_project_bn[0][0]']     \n",
            "                                24)                                                               \n",
            "                                                                                                  \n",
            " block2b_add (Add)              (None, None, None,   0           ['block2b_drop[0][0]',           \n",
            "                                24)                               'block2a_project_bn[0][0]']     \n",
            "                                                                                                  \n",
            " block3a_expand_conv (Conv2D)   (None, None, None,   3456        ['block2b_add[0][0]']            \n",
            "                                144)                                                              \n",
            "                                                                                                  \n",
            " block3a_expand_bn (BatchNormal  (None, None, None,   576        ['block3a_expand_conv[0][0]']    \n",
            " ization)                       144)                                                              \n",
            "                                                                                                  \n",
            " block3a_expand_activation (Act  (None, None, None,   0          ['block3a_expand_bn[0][0]']      \n",
            " ivation)                       144)                                                              \n",
            "                                                                                                  \n",
            " block3a_dwconv_pad (ZeroPaddin  (None, None, None,   0          ['block3a_expand_activation[0][0]\n",
            " g2D)                           144)                             ']                               \n",
            "                                                                                                  \n",
            " block3a_dwconv (DepthwiseConv2  (None, None, None,   3600       ['block3a_dwconv_pad[0][0]']     \n",
            " D)                             144)                                                              \n",
            "                                                                                                  \n",
            " block3a_bn (BatchNormalization  (None, None, None,   576        ['block3a_dwconv[0][0]']         \n",
            " )                              144)                                                              \n",
            "                                                                                                  \n",
            " block3a_activation (Activation  (None, None, None,   0          ['block3a_bn[0][0]']             \n",
            " )                              144)                                                              \n",
            "                                                                                                  \n",
            " block3a_se_squeeze (GlobalAver  (None, 144)         0           ['block3a_activation[0][0]']     \n",
            " agePooling2D)                                                                                    \n",
            "                                                                                                  \n",
            " block3a_se_reshape (Reshape)   (None, 1, 1, 144)    0           ['block3a_se_squeeze[0][0]']     \n",
            "                                                                                                  \n",
            " block3a_se_reduce (Conv2D)     (None, 1, 1, 6)      870         ['block3a_se_reshape[0][0]']     \n",
            "                                                                                                  \n",
            " block3a_se_expand (Conv2D)     (None, 1, 1, 144)    1008        ['block3a_se_reduce[0][0]']      \n",
            "                                                                                                  \n",
            " block3a_se_excite (Multiply)   (None, None, None,   0           ['block3a_activation[0][0]',     \n",
            "                                144)                              'block3a_se_expand[0][0]']      \n",
            "                                                                                                  \n",
            " block3a_project_conv (Conv2D)  (None, None, None,   5760        ['block3a_se_excite[0][0]']      \n",
            "                                40)                                                               \n",
            "                                                                                                  \n",
            " block3a_project_bn (BatchNorma  (None, None, None,   160        ['block3a_project_conv[0][0]']   \n",
            " lization)                      40)                                                               \n",
            "                                                                                                  \n",
            " block3b_expand_conv (Conv2D)   (None, None, None,   9600        ['block3a_project_bn[0][0]']     \n",
            "                                240)                                                              \n",
            "                                                                                                  \n",
            " block3b_expand_bn (BatchNormal  (None, None, None,   960        ['block3b_expand_conv[0][0]']    \n",
            " ization)                       240)                                                              \n",
            "                                                                                                  \n",
            " block3b_expand_activation (Act  (None, None, None,   0          ['block3b_expand_bn[0][0]']      \n",
            " ivation)                       240)                                                              \n",
            "                                                                                                  \n",
            " block3b_dwconv (DepthwiseConv2  (None, None, None,   6000       ['block3b_expand_activation[0][0]\n",
            " D)                             240)                             ']                               \n",
            "                                                                                                  \n",
            " block3b_bn (BatchNormalization  (None, None, None,   960        ['block3b_dwconv[0][0]']         \n",
            " )                              240)                                                              \n",
            "                                                                                                  \n",
            " block3b_activation (Activation  (None, None, None,   0          ['block3b_bn[0][0]']             \n",
            " )                              240)                                                              \n",
            "                                                                                                  \n",
            " block3b_se_squeeze (GlobalAver  (None, 240)         0           ['block3b_activation[0][0]']     \n",
            " agePooling2D)                                                                                    \n",
            "                                                                                                  \n",
            " block3b_se_reshape (Reshape)   (None, 1, 1, 240)    0           ['block3b_se_squeeze[0][0]']     \n",
            "                                                                                                  \n",
            " block3b_se_reduce (Conv2D)     (None, 1, 1, 10)     2410        ['block3b_se_reshape[0][0]']     \n",
            "                                                                                                  \n",
            " block3b_se_expand (Conv2D)     (None, 1, 1, 240)    2640        ['block3b_se_reduce[0][0]']      \n",
            "                                                                                                  \n",
            " block3b_se_excite (Multiply)   (None, None, None,   0           ['block3b_activation[0][0]',     \n",
            "                                240)                              'block3b_se_expand[0][0]']      \n",
            "                                                                                                  \n",
            " block3b_project_conv (Conv2D)  (None, None, None,   9600        ['block3b_se_excite[0][0]']      \n",
            "                                40)                                                               \n",
            "                                                                                                  \n",
            " block3b_project_bn (BatchNorma  (None, None, None,   160        ['block3b_project_conv[0][0]']   \n",
            " lization)                      40)                                                               \n",
            "                                                                                                  \n",
            " block3b_drop (Dropout)         (None, None, None,   0           ['block3b_project_bn[0][0]']     \n",
            "                                40)                                                               \n",
            "                                                                                                  \n",
            " block3b_add (Add)              (None, None, None,   0           ['block3b_drop[0][0]',           \n",
            "                                40)                               'block3a_project_bn[0][0]']     \n",
            "                                                                                                  \n",
            " block4a_expand_conv (Conv2D)   (None, None, None,   9600        ['block3b_add[0][0]']            \n",
            "                                240)                                                              \n",
            "                                                                                                  \n",
            " block4a_expand_bn (BatchNormal  (None, None, None,   960        ['block4a_expand_conv[0][0]']    \n",
            " ization)                       240)                                                              \n",
            "                                                                                                  \n",
            " block4a_expand_activation (Act  (None, None, None,   0          ['block4a_expand_bn[0][0]']      \n",
            " ivation)                       240)                                                              \n",
            "                                                                                                  \n",
            " block4a_dwconv_pad (ZeroPaddin  (None, None, None,   0          ['block4a_expand_activation[0][0]\n",
            " g2D)                           240)                             ']                               \n",
            "                                                                                                  \n",
            " block4a_dwconv (DepthwiseConv2  (None, None, None,   2160       ['block4a_dwconv_pad[0][0]']     \n",
            " D)                             240)                                                              \n",
            "                                                                                                  \n",
            " block4a_bn (BatchNormalization  (None, None, None,   960        ['block4a_dwconv[0][0]']         \n",
            " )                              240)                                                              \n",
            "                                                                                                  \n",
            " block4a_activation (Activation  (None, None, None,   0          ['block4a_bn[0][0]']             \n",
            " )                              240)                                                              \n",
            "                                                                                                  \n",
            " block4a_se_squeeze (GlobalAver  (None, 240)         0           ['block4a_activation[0][0]']     \n",
            " agePooling2D)                                                                                    \n",
            "                                                                                                  \n",
            " block4a_se_reshape (Reshape)   (None, 1, 1, 240)    0           ['block4a_se_squeeze[0][0]']     \n",
            "                                                                                                  \n",
            " block4a_se_reduce (Conv2D)     (None, 1, 1, 10)     2410        ['block4a_se_reshape[0][0]']     \n",
            "                                                                                                  \n",
            " block4a_se_expand (Conv2D)     (None, 1, 1, 240)    2640        ['block4a_se_reduce[0][0]']      \n",
            "                                                                                                  \n",
            " block4a_se_excite (Multiply)   (None, None, None,   0           ['block4a_activation[0][0]',     \n",
            "                                240)                              'block4a_se_expand[0][0]']      \n",
            "                                                                                                  \n",
            " block4a_project_conv (Conv2D)  (None, None, None,   19200       ['block4a_se_excite[0][0]']      \n",
            "                                80)                                                               \n",
            "                                                                                                  \n",
            " block4a_project_bn (BatchNorma  (None, None, None,   320        ['block4a_project_conv[0][0]']   \n",
            " lization)                      80)                                                               \n",
            "                                                                                                  \n",
            " block4b_expand_conv (Conv2D)   (None, None, None,   38400       ['block4a_project_bn[0][0]']     \n",
            "                                480)                                                              \n",
            "                                                                                                  \n",
            " block4b_expand_bn (BatchNormal  (None, None, None,   1920       ['block4b_expand_conv[0][0]']    \n",
            " ization)                       480)                                                              \n",
            "                                                                                                  \n",
            " block4b_expand_activation (Act  (None, None, None,   0          ['block4b_expand_bn[0][0]']      \n",
            " ivation)                       480)                                                              \n",
            "                                                                                                  \n",
            " block4b_dwconv (DepthwiseConv2  (None, None, None,   4320       ['block4b_expand_activation[0][0]\n",
            " D)                             480)                             ']                               \n",
            "                                                                                                  \n",
            " block4b_bn (BatchNormalization  (None, None, None,   1920       ['block4b_dwconv[0][0]']         \n",
            " )                              480)                                                              \n",
            "                                                                                                  \n",
            " block4b_activation (Activation  (None, None, None,   0          ['block4b_bn[0][0]']             \n",
            " )                              480)                                                              \n",
            "                                                                                                  \n",
            " block4b_se_squeeze (GlobalAver  (None, 480)         0           ['block4b_activation[0][0]']     \n",
            " agePooling2D)                                                                                    \n",
            "                                                                                                  \n",
            " block4b_se_reshape (Reshape)   (None, 1, 1, 480)    0           ['block4b_se_squeeze[0][0]']     \n",
            "                                                                                                  \n",
            " block4b_se_reduce (Conv2D)     (None, 1, 1, 20)     9620        ['block4b_se_reshape[0][0]']     \n",
            "                                                                                                  \n",
            " block4b_se_expand (Conv2D)     (None, 1, 1, 480)    10080       ['block4b_se_reduce[0][0]']      \n",
            "                                                                                                  \n",
            " block4b_se_excite (Multiply)   (None, None, None,   0           ['block4b_activation[0][0]',     \n",
            "                                480)                              'block4b_se_expand[0][0]']      \n",
            "                                                                                                  \n",
            " block4b_project_conv (Conv2D)  (None, None, None,   38400       ['block4b_se_excite[0][0]']      \n",
            "                                80)                                                               \n",
            "                                                                                                  \n",
            " block4b_project_bn (BatchNorma  (None, None, None,   320        ['block4b_project_conv[0][0]']   \n",
            " lization)                      80)                                                               \n",
            "                                                                                                  \n",
            " block4b_drop (Dropout)         (None, None, None,   0           ['block4b_project_bn[0][0]']     \n",
            "                                80)                                                               \n",
            "                                                                                                  \n",
            " block4b_add (Add)              (None, None, None,   0           ['block4b_drop[0][0]',           \n",
            "                                80)                               'block4a_project_bn[0][0]']     \n",
            "                                                                                                  \n",
            " block4c_expand_conv (Conv2D)   (None, None, None,   38400       ['block4b_add[0][0]']            \n",
            "                                480)                                                              \n",
            "                                                                                                  \n",
            " block4c_expand_bn (BatchNormal  (None, None, None,   1920       ['block4c_expand_conv[0][0]']    \n",
            " ization)                       480)                                                              \n",
            "                                                                                                  \n",
            " block4c_expand_activation (Act  (None, None, None,   0          ['block4c_expand_bn[0][0]']      \n",
            " ivation)                       480)                                                              \n",
            "                                                                                                  \n",
            " block4c_dwconv (DepthwiseConv2  (None, None, None,   4320       ['block4c_expand_activation[0][0]\n",
            " D)                             480)                             ']                               \n",
            "                                                                                                  \n",
            " block4c_bn (BatchNormalization  (None, None, None,   1920       ['block4c_dwconv[0][0]']         \n",
            " )                              480)                                                              \n",
            "                                                                                                  \n",
            " block4c_activation (Activation  (None, None, None,   0          ['block4c_bn[0][0]']             \n",
            " )                              480)                                                              \n",
            "                                                                                                  \n",
            " block4c_se_squeeze (GlobalAver  (None, 480)         0           ['block4c_activation[0][0]']     \n",
            " agePooling2D)                                                                                    \n",
            "                                                                                                  \n",
            " block4c_se_reshape (Reshape)   (None, 1, 1, 480)    0           ['block4c_se_squeeze[0][0]']     \n",
            "                                                                                                  \n",
            " block4c_se_reduce (Conv2D)     (None, 1, 1, 20)     9620        ['block4c_se_reshape[0][0]']     \n",
            "                                                                                                  \n",
            " block4c_se_expand (Conv2D)     (None, 1, 1, 480)    10080       ['block4c_se_reduce[0][0]']      \n",
            "                                                                                                  \n",
            " block4c_se_excite (Multiply)   (None, None, None,   0           ['block4c_activation[0][0]',     \n",
            "                                480)                              'block4c_se_expand[0][0]']      \n",
            "                                                                                                  \n",
            " block4c_project_conv (Conv2D)  (None, None, None,   38400       ['block4c_se_excite[0][0]']      \n",
            "                                80)                                                               \n",
            "                                                                                                  \n",
            " block4c_project_bn (BatchNorma  (None, None, None,   320        ['block4c_project_conv[0][0]']   \n",
            " lization)                      80)                                                               \n",
            "                                                                                                  \n",
            " block4c_drop (Dropout)         (None, None, None,   0           ['block4c_project_bn[0][0]']     \n",
            "                                80)                                                               \n",
            "                                                                                                  \n",
            " block4c_add (Add)              (None, None, None,   0           ['block4c_drop[0][0]',           \n",
            "                                80)                               'block4b_add[0][0]']            \n",
            "                                                                                                  \n",
            " block5a_expand_conv (Conv2D)   (None, None, None,   38400       ['block4c_add[0][0]']            \n",
            "                                480)                                                              \n",
            "                                                                                                  \n",
            " block5a_expand_bn (BatchNormal  (None, None, None,   1920       ['block5a_expand_conv[0][0]']    \n",
            " ization)                       480)                                                              \n",
            "                                                                                                  \n",
            " block5a_expand_activation (Act  (None, None, None,   0          ['block5a_expand_bn[0][0]']      \n",
            " ivation)                       480)                                                              \n",
            "                                                                                                  \n",
            " block5a_dwconv (DepthwiseConv2  (None, None, None,   12000      ['block5a_expand_activation[0][0]\n",
            " D)                             480)                             ']                               \n",
            "                                                                                                  \n",
            " block5a_bn (BatchNormalization  (None, None, None,   1920       ['block5a_dwconv[0][0]']         \n",
            " )                              480)                                                              \n",
            "                                                                                                  \n",
            " block5a_activation (Activation  (None, None, None,   0          ['block5a_bn[0][0]']             \n",
            " )                              480)                                                              \n",
            "                                                                                                  \n",
            " block5a_se_squeeze (GlobalAver  (None, 480)         0           ['block5a_activation[0][0]']     \n",
            " agePooling2D)                                                                                    \n",
            "                                                                                                  \n",
            " block5a_se_reshape (Reshape)   (None, 1, 1, 480)    0           ['block5a_se_squeeze[0][0]']     \n",
            "                                                                                                  \n",
            " block5a_se_reduce (Conv2D)     (None, 1, 1, 20)     9620        ['block5a_se_reshape[0][0]']     \n",
            "                                                                                                  \n",
            " block5a_se_expand (Conv2D)     (None, 1, 1, 480)    10080       ['block5a_se_reduce[0][0]']      \n",
            "                                                                                                  \n",
            " block5a_se_excite (Multiply)   (None, None, None,   0           ['block5a_activation[0][0]',     \n",
            "                                480)                              'block5a_se_expand[0][0]']      \n",
            "                                                                                                  \n",
            " block5a_project_conv (Conv2D)  (None, None, None,   53760       ['block5a_se_excite[0][0]']      \n",
            "                                112)                                                              \n",
            "                                                                                                  \n",
            " block5a_project_bn (BatchNorma  (None, None, None,   448        ['block5a_project_conv[0][0]']   \n",
            " lization)                      112)                                                              \n",
            "                                                                                                  \n",
            " block5b_expand_conv (Conv2D)   (None, None, None,   75264       ['block5a_project_bn[0][0]']     \n",
            "                                672)                                                              \n",
            "                                                                                                  \n",
            " block5b_expand_bn (BatchNormal  (None, None, None,   2688       ['block5b_expand_conv[0][0]']    \n",
            " ization)                       672)                                                              \n",
            "                                                                                                  \n",
            " block5b_expand_activation (Act  (None, None, None,   0          ['block5b_expand_bn[0][0]']      \n",
            " ivation)                       672)                                                              \n",
            "                                                                                                  \n",
            " block5b_dwconv (DepthwiseConv2  (None, None, None,   16800      ['block5b_expand_activation[0][0]\n",
            " D)                             672)                             ']                               \n",
            "                                                                                                  \n",
            " block5b_bn (BatchNormalization  (None, None, None,   2688       ['block5b_dwconv[0][0]']         \n",
            " )                              672)                                                              \n",
            "                                                                                                  \n",
            " block5b_activation (Activation  (None, None, None,   0          ['block5b_bn[0][0]']             \n",
            " )                              672)                                                              \n",
            "                                                                                                  \n",
            " block5b_se_squeeze (GlobalAver  (None, 672)         0           ['block5b_activation[0][0]']     \n",
            " agePooling2D)                                                                                    \n",
            "                                                                                                  \n",
            " block5b_se_reshape (Reshape)   (None, 1, 1, 672)    0           ['block5b_se_squeeze[0][0]']     \n",
            "                                                                                                  \n",
            " block5b_se_reduce (Conv2D)     (None, 1, 1, 28)     18844       ['block5b_se_reshape[0][0]']     \n",
            "                                                                                                  \n",
            " block5b_se_expand (Conv2D)     (None, 1, 1, 672)    19488       ['block5b_se_reduce[0][0]']      \n",
            "                                                                                                  \n",
            " block5b_se_excite (Multiply)   (None, None, None,   0           ['block5b_activation[0][0]',     \n",
            "                                672)                              'block5b_se_expand[0][0]']      \n",
            "                                                                                                  \n",
            " block5b_project_conv (Conv2D)  (None, None, None,   75264       ['block5b_se_excite[0][0]']      \n",
            "                                112)                                                              \n",
            "                                                                                                  \n",
            " block5b_project_bn (BatchNorma  (None, None, None,   448        ['block5b_project_conv[0][0]']   \n",
            " lization)                      112)                                                              \n",
            "                                                                                                  \n",
            " block5b_drop (Dropout)         (None, None, None,   0           ['block5b_project_bn[0][0]']     \n",
            "                                112)                                                              \n",
            "                                                                                                  \n",
            " block5b_add (Add)              (None, None, None,   0           ['block5b_drop[0][0]',           \n",
            "                                112)                              'block5a_project_bn[0][0]']     \n",
            "                                                                                                  \n",
            " block5c_expand_conv (Conv2D)   (None, None, None,   75264       ['block5b_add[0][0]']            \n",
            "                                672)                                                              \n",
            "                                                                                                  \n",
            " block5c_expand_bn (BatchNormal  (None, None, None,   2688       ['block5c_expand_conv[0][0]']    \n",
            " ization)                       672)                                                              \n",
            "                                                                                                  \n",
            " block5c_expand_activation (Act  (None, None, None,   0          ['block5c_expand_bn[0][0]']      \n",
            " ivation)                       672)                                                              \n",
            "                                                                                                  \n",
            " block5c_dwconv (DepthwiseConv2  (None, None, None,   16800      ['block5c_expand_activation[0][0]\n",
            " D)                             672)                             ']                               \n",
            "                                                                                                  \n",
            " block5c_bn (BatchNormalization  (None, None, None,   2688       ['block5c_dwconv[0][0]']         \n",
            " )                              672)                                                              \n",
            "                                                                                                  \n",
            " block5c_activation (Activation  (None, None, None,   0          ['block5c_bn[0][0]']             \n",
            " )                              672)                                                              \n",
            "                                                                                                  \n",
            " block5c_se_squeeze (GlobalAver  (None, 672)         0           ['block5c_activation[0][0]']     \n",
            " agePooling2D)                                                                                    \n",
            "                                                                                                  \n",
            " block5c_se_reshape (Reshape)   (None, 1, 1, 672)    0           ['block5c_se_squeeze[0][0]']     \n",
            "                                                                                                  \n",
            " block5c_se_reduce (Conv2D)     (None, 1, 1, 28)     18844       ['block5c_se_reshape[0][0]']     \n",
            "                                                                                                  \n",
            " block5c_se_expand (Conv2D)     (None, 1, 1, 672)    19488       ['block5c_se_reduce[0][0]']      \n",
            "                                                                                                  \n",
            " block5c_se_excite (Multiply)   (None, None, None,   0           ['block5c_activation[0][0]',     \n",
            "                                672)                              'block5c_se_expand[0][0]']      \n",
            "                                                                                                  \n",
            " block5c_project_conv (Conv2D)  (None, None, None,   75264       ['block5c_se_excite[0][0]']      \n",
            "                                112)                                                              \n",
            "                                                                                                  \n",
            " block5c_project_bn (BatchNorma  (None, None, None,   448        ['block5c_project_conv[0][0]']   \n",
            " lization)                      112)                                                              \n",
            "                                                                                                  \n",
            " block5c_drop (Dropout)         (None, None, None,   0           ['block5c_project_bn[0][0]']     \n",
            "                                112)                                                              \n",
            "                                                                                                  \n",
            " block5c_add (Add)              (None, None, None,   0           ['block5c_drop[0][0]',           \n",
            "                                112)                              'block5b_add[0][0]']            \n",
            "                                                                                                  \n",
            " block6a_expand_conv (Conv2D)   (None, None, None,   75264       ['block5c_add[0][0]']            \n",
            "                                672)                                                              \n",
            "                                                                                                  \n",
            " block6a_expand_bn (BatchNormal  (None, None, None,   2688       ['block6a_expand_conv[0][0]']    \n",
            " ization)                       672)                                                              \n",
            "                                                                                                  \n",
            " block6a_expand_activation (Act  (None, None, None,   0          ['block6a_expand_bn[0][0]']      \n",
            " ivation)                       672)                                                              \n",
            "                                                                                                  \n",
            " block6a_dwconv_pad (ZeroPaddin  (None, None, None,   0          ['block6a_expand_activation[0][0]\n",
            " g2D)                           672)                             ']                               \n",
            "                                                                                                  \n",
            " block6a_dwconv (DepthwiseConv2  (None, None, None,   16800      ['block6a_dwconv_pad[0][0]']     \n",
            " D)                             672)                                                              \n",
            "                                                                                                  \n",
            " block6a_bn (BatchNormalization  (None, None, None,   2688       ['block6a_dwconv[0][0]']         \n",
            " )                              672)                                                              \n",
            "                                                                                                  \n",
            " block6a_activation (Activation  (None, None, None,   0          ['block6a_bn[0][0]']             \n",
            " )                              672)                                                              \n",
            "                                                                                                  \n",
            " block6a_se_squeeze (GlobalAver  (None, 672)         0           ['block6a_activation[0][0]']     \n",
            " agePooling2D)                                                                                    \n",
            "                                                                                                  \n",
            " block6a_se_reshape (Reshape)   (None, 1, 1, 672)    0           ['block6a_se_squeeze[0][0]']     \n",
            "                                                                                                  \n",
            " block6a_se_reduce (Conv2D)     (None, 1, 1, 28)     18844       ['block6a_se_reshape[0][0]']     \n",
            "                                                                                                  \n",
            " block6a_se_expand (Conv2D)     (None, 1, 1, 672)    19488       ['block6a_se_reduce[0][0]']      \n",
            "                                                                                                  \n",
            " block6a_se_excite (Multiply)   (None, None, None,   0           ['block6a_activation[0][0]',     \n",
            "                                672)                              'block6a_se_expand[0][0]']      \n",
            "                                                                                                  \n",
            " block6a_project_conv (Conv2D)  (None, None, None,   129024      ['block6a_se_excite[0][0]']      \n",
            "                                192)                                                              \n",
            "                                                                                                  \n",
            " block6a_project_bn (BatchNorma  (None, None, None,   768        ['block6a_project_conv[0][0]']   \n",
            " lization)                      192)                                                              \n",
            "                                                                                                  \n",
            " block6b_expand_conv (Conv2D)   (None, None, None,   221184      ['block6a_project_bn[0][0]']     \n",
            "                                1152)                                                             \n",
            "                                                                                                  \n",
            " block6b_expand_bn (BatchNormal  (None, None, None,   4608       ['block6b_expand_conv[0][0]']    \n",
            " ization)                       1152)                                                             \n",
            "                                                                                                  \n",
            " block6b_expand_activation (Act  (None, None, None,   0          ['block6b_expand_bn[0][0]']      \n",
            " ivation)                       1152)                                                             \n",
            "                                                                                                  \n",
            " block6b_dwconv (DepthwiseConv2  (None, None, None,   28800      ['block6b_expand_activation[0][0]\n",
            " D)                             1152)                            ']                               \n",
            "                                                                                                  \n",
            " block6b_bn (BatchNormalization  (None, None, None,   4608       ['block6b_dwconv[0][0]']         \n",
            " )                              1152)                                                             \n",
            "                                                                                                  \n",
            " block6b_activation (Activation  (None, None, None,   0          ['block6b_bn[0][0]']             \n",
            " )                              1152)                                                             \n",
            "                                                                                                  \n",
            " block6b_se_squeeze (GlobalAver  (None, 1152)        0           ['block6b_activation[0][0]']     \n",
            " agePooling2D)                                                                                    \n",
            "                                                                                                  \n",
            " block6b_se_reshape (Reshape)   (None, 1, 1, 1152)   0           ['block6b_se_squeeze[0][0]']     \n",
            "                                                                                                  \n",
            " block6b_se_reduce (Conv2D)     (None, 1, 1, 48)     55344       ['block6b_se_reshape[0][0]']     \n",
            "                                                                                                  \n",
            " block6b_se_expand (Conv2D)     (None, 1, 1, 1152)   56448       ['block6b_se_reduce[0][0]']      \n",
            "                                                                                                  \n",
            " block6b_se_excite (Multiply)   (None, None, None,   0           ['block6b_activation[0][0]',     \n",
            "                                1152)                             'block6b_se_expand[0][0]']      \n",
            "                                                                                                  \n",
            " block6b_project_conv (Conv2D)  (None, None, None,   221184      ['block6b_se_excite[0][0]']      \n",
            "                                192)                                                              \n",
            "                                                                                                  \n",
            " block6b_project_bn (BatchNorma  (None, None, None,   768        ['block6b_project_conv[0][0]']   \n",
            " lization)                      192)                                                              \n",
            "                                                                                                  \n",
            " block6b_drop (Dropout)         (None, None, None,   0           ['block6b_project_bn[0][0]']     \n",
            "                                192)                                                              \n",
            "                                                                                                  \n",
            " block6b_add (Add)              (None, None, None,   0           ['block6b_drop[0][0]',           \n",
            "                                192)                              'block6a_project_bn[0][0]']     \n",
            "                                                                                                  \n",
            " block6c_expand_conv (Conv2D)   (None, None, None,   221184      ['block6b_add[0][0]']            \n",
            "                                1152)                                                             \n",
            "                                                                                                  \n",
            " block6c_expand_bn (BatchNormal  (None, None, None,   4608       ['block6c_expand_conv[0][0]']    \n",
            " ization)                       1152)                                                             \n",
            "                                                                                                  \n",
            " block6c_expand_activation (Act  (None, None, None,   0          ['block6c_expand_bn[0][0]']      \n",
            " ivation)                       1152)                                                             \n",
            "                                                                                                  \n",
            " block6c_dwconv (DepthwiseConv2  (None, None, None,   28800      ['block6c_expand_activation[0][0]\n",
            " D)                             1152)                            ']                               \n",
            "                                                                                                  \n",
            " block6c_bn (BatchNormalization  (None, None, None,   4608       ['block6c_dwconv[0][0]']         \n",
            " )                              1152)                                                             \n",
            "                                                                                                  \n",
            " block6c_activation (Activation  (None, None, None,   0          ['block6c_bn[0][0]']             \n",
            " )                              1152)                                                             \n",
            "                                                                                                  \n",
            " block6c_se_squeeze (GlobalAver  (None, 1152)        0           ['block6c_activation[0][0]']     \n",
            " agePooling2D)                                                                                    \n",
            "                                                                                                  \n",
            " block6c_se_reshape (Reshape)   (None, 1, 1, 1152)   0           ['block6c_se_squeeze[0][0]']     \n",
            "                                                                                                  \n",
            " block6c_se_reduce (Conv2D)     (None, 1, 1, 48)     55344       ['block6c_se_reshape[0][0]']     \n",
            "                                                                                                  \n",
            " block6c_se_expand (Conv2D)     (None, 1, 1, 1152)   56448       ['block6c_se_reduce[0][0]']      \n",
            "                                                                                                  \n",
            " block6c_se_excite (Multiply)   (None, None, None,   0           ['block6c_activation[0][0]',     \n",
            "                                1152)                             'block6c_se_expand[0][0]']      \n",
            "                                                                                                  \n",
            " block6c_project_conv (Conv2D)  (None, None, None,   221184      ['block6c_se_excite[0][0]']      \n",
            "                                192)                                                              \n",
            "                                                                                                  \n",
            " block6c_project_bn (BatchNorma  (None, None, None,   768        ['block6c_project_conv[0][0]']   \n",
            " lization)                      192)                                                              \n",
            "                                                                                                  \n",
            " block6c_drop (Dropout)         (None, None, None,   0           ['block6c_project_bn[0][0]']     \n",
            "                                192)                                                              \n",
            "                                                                                                  \n",
            " block6c_add (Add)              (None, None, None,   0           ['block6c_drop[0][0]',           \n",
            "                                192)                              'block6b_add[0][0]']            \n",
            "                                                                                                  \n",
            " block6d_expand_conv (Conv2D)   (None, None, None,   221184      ['block6c_add[0][0]']            \n",
            "                                1152)                                                             \n",
            "                                                                                                  \n",
            " block6d_expand_bn (BatchNormal  (None, None, None,   4608       ['block6d_expand_conv[0][0]']    \n",
            " ization)                       1152)                                                             \n",
            "                                                                                                  \n",
            " block6d_expand_activation (Act  (None, None, None,   0          ['block6d_expand_bn[0][0]']      \n",
            " ivation)                       1152)                                                             \n",
            "                                                                                                  \n",
            " block6d_dwconv (DepthwiseConv2  (None, None, None,   28800      ['block6d_expand_activation[0][0]\n",
            " D)                             1152)                            ']                               \n",
            "                                                                                                  \n",
            " block6d_bn (BatchNormalization  (None, None, None,   4608       ['block6d_dwconv[0][0]']         \n",
            " )                              1152)                                                             \n",
            "                                                                                                  \n",
            " block6d_activation (Activation  (None, None, None,   0          ['block6d_bn[0][0]']             \n",
            " )                              1152)                                                             \n",
            "                                                                                                  \n",
            " block6d_se_squeeze (GlobalAver  (None, 1152)        0           ['block6d_activation[0][0]']     \n",
            " agePooling2D)                                                                                    \n",
            "                                                                                                  \n",
            " block6d_se_reshape (Reshape)   (None, 1, 1, 1152)   0           ['block6d_se_squeeze[0][0]']     \n",
            "                                                                                                  \n",
            " block6d_se_reduce (Conv2D)     (None, 1, 1, 48)     55344       ['block6d_se_reshape[0][0]']     \n",
            "                                                                                                  \n",
            " block6d_se_expand (Conv2D)     (None, 1, 1, 1152)   56448       ['block6d_se_reduce[0][0]']      \n",
            "                                                                                                  \n",
            " block6d_se_excite (Multiply)   (None, None, None,   0           ['block6d_activation[0][0]',     \n",
            "                                1152)                             'block6d_se_expand[0][0]']      \n",
            "                                                                                                  \n",
            " block6d_project_conv (Conv2D)  (None, None, None,   221184      ['block6d_se_excite[0][0]']      \n",
            "                                192)                                                              \n",
            "                                                                                                  \n",
            " block6d_project_bn (BatchNorma  (None, None, None,   768        ['block6d_project_conv[0][0]']   \n",
            " lization)                      192)                                                              \n",
            "                                                                                                  \n",
            " block6d_drop (Dropout)         (None, None, None,   0           ['block6d_project_bn[0][0]']     \n",
            "                                192)                                                              \n",
            "                                                                                                  \n",
            " block6d_add (Add)              (None, None, None,   0           ['block6d_drop[0][0]',           \n",
            "                                192)                              'block6c_add[0][0]']            \n",
            "                                                                                                  \n",
            " block7a_expand_conv (Conv2D)   (None, None, None,   221184      ['block6d_add[0][0]']            \n",
            "                                1152)                                                             \n",
            "                                                                                                  \n",
            " block7a_expand_bn (BatchNormal  (None, None, None,   4608       ['block7a_expand_conv[0][0]']    \n",
            " ization)                       1152)                                                             \n",
            "                                                                                                  \n",
            " block7a_expand_activation (Act  (None, None, None,   0          ['block7a_expand_bn[0][0]']      \n",
            " ivation)                       1152)                                                             \n",
            "                                                                                                  \n",
            " block7a_dwconv (DepthwiseConv2  (None, None, None,   10368      ['block7a_expand_activation[0][0]\n",
            " D)                             1152)                            ']                               \n",
            "                                                                                                  \n",
            " block7a_bn (BatchNormalization  (None, None, None,   4608       ['block7a_dwconv[0][0]']         \n",
            " )                              1152)                                                             \n",
            "                                                                                                  \n",
            " block7a_activation (Activation  (None, None, None,   0          ['block7a_bn[0][0]']             \n",
            " )                              1152)                                                             \n",
            "                                                                                                  \n",
            " block7a_se_squeeze (GlobalAver  (None, 1152)        0           ['block7a_activation[0][0]']     \n",
            " agePooling2D)                                                                                    \n",
            "                                                                                                  \n",
            " block7a_se_reshape (Reshape)   (None, 1, 1, 1152)   0           ['block7a_se_squeeze[0][0]']     \n",
            "                                                                                                  \n",
            " block7a_se_reduce (Conv2D)     (None, 1, 1, 48)     55344       ['block7a_se_reshape[0][0]']     \n",
            "                                                                                                  \n",
            " block7a_se_expand (Conv2D)     (None, 1, 1, 1152)   56448       ['block7a_se_reduce[0][0]']      \n",
            "                                                                                                  \n",
            " block7a_se_excite (Multiply)   (None, None, None,   0           ['block7a_activation[0][0]',     \n",
            "                                1152)                             'block7a_se_expand[0][0]']      \n",
            "                                                                                                  \n",
            " block7a_project_conv (Conv2D)  (None, None, None,   368640      ['block7a_se_excite[0][0]']      \n",
            "                                320)                                                              \n",
            "                                                                                                  \n",
            " block7a_project_bn (BatchNorma  (None, None, None,   1280       ['block7a_project_conv[0][0]']   \n",
            " lization)                      320)                                                              \n",
            "                                                                                                  \n",
            " top_conv (Conv2D)              (None, None, None,   409600      ['block7a_project_bn[0][0]']     \n",
            "                                1280)                                                             \n",
            "                                                                                                  \n",
            " top_bn (BatchNormalization)    (None, None, None,   5120        ['top_conv[0][0]']               \n",
            "                                1280)                                                             \n",
            "                                                                                                  \n",
            " top_activation (Activation)    (None, None, None,   0           ['top_bn[0][0]']                 \n",
            "                                1280)                                                             \n",
            "                                                                                                  \n",
            "==================================================================================================\n",
            "Total params: 4,049,571\n",
            "Trainable params: 0\n",
            "Non-trainable params: 4,049,571\n",
            "__________________________________________________________________________________________________\n"
          ]
        }
      ]
    },
    {
      "cell_type": "code",
      "source": [
        "len(base_model.layers)"
      ],
      "metadata": {
        "id": "PlM97YN183Nb",
        "outputId": "cd0a8d59-6f01-484a-ffde-e4efbbff3363",
        "execution": {
          "iopub.status.busy": "2023-06-09T10:13:43.088598Z",
          "iopub.execute_input": "2023-06-09T10:13:43.088970Z",
          "iopub.status.idle": "2023-06-09T10:13:43.096063Z",
          "shell.execute_reply.started": "2023-06-09T10:13:43.088935Z",
          "shell.execute_reply": "2023-06-09T10:13:43.095280Z"
        },
        "trusted": true,
        "colab": {
          "base_uri": "https://localhost:8080/"
        }
      },
      "execution_count": 20,
      "outputs": [
        {
          "output_type": "execute_result",
          "data": {
            "text/plain": [
              "238"
            ]
          },
          "metadata": {},
          "execution_count": 20
        }
      ]
    },
    {
      "cell_type": "code",
      "source": [
        "model_0.summary()"
      ],
      "metadata": {
        "id": "Asufuawk9ZDs",
        "outputId": "2917619b-a4f9-4da8-a6b3-5812f16f4a37",
        "execution": {
          "iopub.status.busy": "2023-06-09T10:13:43.097395Z",
          "iopub.execute_input": "2023-06-09T10:13:43.097760Z",
          "iopub.status.idle": "2023-06-09T10:13:43.153097Z",
          "shell.execute_reply.started": "2023-06-09T10:13:43.097679Z",
          "shell.execute_reply": "2023-06-09T10:13:43.152439Z"
        },
        "trusted": true,
        "colab": {
          "base_uri": "https://localhost:8080/"
        }
      },
      "execution_count": 21,
      "outputs": [
        {
          "output_type": "stream",
          "name": "stdout",
          "text": [
            "Model: \"model\"\n",
            "_________________________________________________________________\n",
            " Layer (type)                Output Shape              Param #   \n",
            "=================================================================\n",
            " input_layer (InputLayer)    [(None, 224, 224, 3)]     0         \n",
            "                                                                 \n",
            " efficientnetb0 (Functional)  (None, None, None, 1280)  4049571  \n",
            "                                                                 \n",
            " global_average_pooling_laye  (None, 1280)             0         \n",
            " r (GlobalAveragePooling2D)                                      \n",
            "                                                                 \n",
            " output_layer (Dense)        (None, 10)                12810     \n",
            "                                                                 \n",
            "=================================================================\n",
            "Total params: 4,062,381\n",
            "Trainable params: 12,810\n",
            "Non-trainable params: 4,049,571\n",
            "_________________________________________________________________\n"
          ]
        }
      ]
    },
    {
      "cell_type": "code",
      "source": [
        "len(model_0.layers)"
      ],
      "metadata": {
        "id": "iOIWTpwH-Saa",
        "outputId": "7d7013eb-6fb6-42e1-a601-08b154c8bf87",
        "execution": {
          "iopub.status.busy": "2023-06-09T10:13:43.154045Z",
          "iopub.execute_input": "2023-06-09T10:13:43.154358Z",
          "iopub.status.idle": "2023-06-09T10:13:43.159947Z",
          "shell.execute_reply.started": "2023-06-09T10:13:43.154329Z",
          "shell.execute_reply": "2023-06-09T10:13:43.159225Z"
        },
        "trusted": true,
        "colab": {
          "base_uri": "https://localhost:8080/"
        }
      },
      "execution_count": 22,
      "outputs": [
        {
          "output_type": "execute_result",
          "data": {
            "text/plain": [
              "4"
            ]
          },
          "metadata": {},
          "execution_count": 22
        }
      ]
    },
    {
      "cell_type": "markdown",
      "source": [
        "### Feature vector and `tf.keras.layers.GlobalAveragePooling2D()`"
      ],
      "metadata": {
        "id": "WKnqpjrg-gTZ"
      }
    },
    {
      "cell_type": "code",
      "source": [
        "input_shape = (1, 4, 5, 3)\n",
        "\n",
        "tf.random.set_seed(42)\n",
        "\n",
        "input_tensor = tf.random.normal(input_shape)\n",
        "print(f\"Random tensor: \\n {input_tensor} \\n\")\n",
        "\n",
        "average_pooling_2D = tf.keras.layers.GlobalAveragePooling2D()(input_tensor)\n",
        "\n",
        "print(f\"After global 2D pooling: \\n {average_pooling_2D} \\n\")"
      ],
      "metadata": {
        "id": "vB3XEx4Q-c5h",
        "outputId": "56b6d36f-b1ff-47bb-af31-c9b732118db5",
        "execution": {
          "iopub.status.busy": "2023-06-09T10:13:43.161443Z",
          "iopub.execute_input": "2023-06-09T10:13:43.161813Z",
          "iopub.status.idle": "2023-06-09T10:13:43.285385Z",
          "shell.execute_reply.started": "2023-06-09T10:13:43.161783Z",
          "shell.execute_reply": "2023-06-09T10:13:43.284462Z"
        },
        "trusted": true,
        "colab": {
          "base_uri": "https://localhost:8080/"
        }
      },
      "execution_count": 23,
      "outputs": [
        {
          "output_type": "stream",
          "name": "stdout",
          "text": [
            "Random tensor: \n",
            " [[[[ 0.3274685  -0.8426258   0.3194337 ]\n",
            "   [-1.4075519  -2.3880599  -1.0392479 ]\n",
            "   [-0.5573232   0.539707    1.6994323 ]\n",
            "   [ 0.28893656 -1.5066116  -0.2645474 ]\n",
            "   [-0.59722406 -1.9171132  -0.62044144]]\n",
            "\n",
            "  [[ 0.8504023  -0.40604794 -3.0258412 ]\n",
            "   [ 0.9058464   0.29855987 -0.22561555]\n",
            "   [-0.7616443  -1.8917141  -0.93847126]\n",
            "   [ 0.77852213 -0.47338897  0.97772694]\n",
            "   [ 0.24694404  0.20573747 -0.5256233 ]]\n",
            "\n",
            "  [[ 0.32410017  0.02545409 -0.10638497]\n",
            "   [-0.6369475   1.1603122   0.2507359 ]\n",
            "   [-0.41728503  0.4012578  -1.4145443 ]\n",
            "   [-0.5931857  -1.6617213   0.33567193]\n",
            "   [ 0.10815629  0.23479682 -0.56668764]]\n",
            "\n",
            "  [[-0.35819843  0.88698614  0.52744764]\n",
            "   [ 0.70402247 -0.33421248  0.21639644]\n",
            "   [-0.97485447 -0.20757681 -0.03647729]\n",
            "   [-1.3353444   0.6885855   1.1110833 ]\n",
            "   [ 0.40130252  0.6320586  -0.39030614]]]] \n",
            "\n",
            "After global 2D pooling: \n",
            " [[-0.13519286 -0.32778087 -0.18581301]] \n",
            "\n"
          ]
        }
      ]
    },
    {
      "cell_type": "code",
      "source": [
        "print(f\"average_pooling_2D shape: {average_pooling_2D.shape}\")\n",
        "print(f\"random tensor shape: {input_tensor.shape}\")"
      ],
      "metadata": {
        "id": "NJ3xBtuPAeUb",
        "outputId": "cdcbb430-8511-4b28-9418-a34887fa4be9",
        "execution": {
          "iopub.status.busy": "2023-06-09T10:13:43.286653Z",
          "iopub.execute_input": "2023-06-09T10:13:43.287019Z",
          "iopub.status.idle": "2023-06-09T10:13:43.292335Z",
          "shell.execute_reply.started": "2023-06-09T10:13:43.286982Z",
          "shell.execute_reply": "2023-06-09T10:13:43.291485Z"
        },
        "trusted": true,
        "colab": {
          "base_uri": "https://localhost:8080/"
        }
      },
      "execution_count": 24,
      "outputs": [
        {
          "output_type": "stream",
          "name": "stdout",
          "text": [
            "average_pooling_2D shape: (1, 3)\n",
            "random tensor shape: (1, 4, 5, 3)\n"
          ]
        }
      ]
    },
    {
      "cell_type": "markdown",
      "source": [
        "As we can see `GlobalAveragePooling2D()` converts the tensor to a vector ( (4, 5) is gone after average poling).<br>  "
      ],
      "metadata": {
        "id": "wpUxzXJAA0fn"
      }
    },
    {
      "cell_type": "code",
      "source": [
        "cstom_reduce = tf.reduce_mean(input_tensor, axis=[1, 2])\n",
        "print(f\"Custom reduce: {cstom_reduce} \\n\")\n",
        "print(f\"After global 2D pooling: {average_pooling_2D} \\n\")"
      ],
      "metadata": {
        "id": "VCNZAAtK_1mY",
        "outputId": "9de38238-b9ff-495e-d286-f84a0f8c2be6",
        "execution": {
          "iopub.status.busy": "2023-06-09T10:13:43.293729Z",
          "iopub.execute_input": "2023-06-09T10:13:43.294077Z",
          "iopub.status.idle": "2023-06-09T10:13:43.310499Z",
          "shell.execute_reply.started": "2023-06-09T10:13:43.294039Z",
          "shell.execute_reply": "2023-06-09T10:13:43.309565Z"
        },
        "trusted": true,
        "colab": {
          "base_uri": "https://localhost:8080/"
        }
      },
      "execution_count": 25,
      "outputs": [
        {
          "output_type": "stream",
          "name": "stdout",
          "text": [
            "Custom reduce: [[-0.13519286 -0.32778087 -0.18581301]] \n",
            "\n",
            "After global 2D pooling: [[-0.13519286 -0.32778087 -0.18581301]] \n",
            "\n"
          ]
        }
      ]
    },
    {
      "cell_type": "markdown",
      "source": [
        "Let's do a quick experiment with `tf.keras.layers.GlobalMaxPool2D()`"
      ],
      "metadata": {
        "id": "Z_tfx4QSCYTR"
      }
    },
    {
      "cell_type": "code",
      "source": [
        "pooling_2D = tf.keras.layers.GlobalMaxPool2D()(input_tensor)\n",
        "print(f\"After max pool 2D: {pooling_2D}\")\n",
        "print(f\"After global 2D pooling: {average_pooling_2D} \")"
      ],
      "metadata": {
        "id": "YQR-UIMcBxAG",
        "outputId": "83a5f980-4c21-4b8c-9f97-2721db78755a",
        "execution": {
          "iopub.status.busy": "2023-06-09T10:13:43.311928Z",
          "iopub.execute_input": "2023-06-09T10:13:43.312340Z",
          "iopub.status.idle": "2023-06-09T10:13:43.333274Z",
          "shell.execute_reply.started": "2023-06-09T10:13:43.312298Z",
          "shell.execute_reply": "2023-06-09T10:13:43.332363Z"
        },
        "trusted": true,
        "colab": {
          "base_uri": "https://localhost:8080/"
        }
      },
      "execution_count": 26,
      "outputs": [
        {
          "output_type": "stream",
          "name": "stdout",
          "text": [
            "After max pool 2D: [[0.9058464 1.1603122 1.6994323]]\n",
            "After global 2D pooling: [[-0.13519286 -0.32778087 -0.18581301]] \n"
          ]
        }
      ]
    },
    {
      "cell_type": "markdown",
      "source": [
        "## Creating `model_1` (1% data with data augmentation)"
      ],
      "metadata": {
        "id": "HOaER7MSDVob"
      }
    },
    {
      "cell_type": "code",
      "source": [
        "import tensorflow as tf\n",
        "from tensorflow.keras import layers\n",
        "from tensorflow.keras import preprocessing"
      ],
      "metadata": {
        "id": "160CduiIS6ts",
        "execution": {
          "iopub.status.busy": "2023-06-09T10:13:43.334756Z",
          "iopub.execute_input": "2023-06-09T10:13:43.335055Z",
          "iopub.status.idle": "2023-06-09T10:13:43.341927Z",
          "shell.execute_reply.started": "2023-06-09T10:13:43.335026Z",
          "shell.execute_reply": "2023-06-09T10:13:43.341080Z"
        },
        "trusted": true
      },
      "execution_count": 27,
      "outputs": []
    },
    {
      "cell_type": "code",
      "source": [
        "!wget https://storage.googleapis.com/ztm_tf_course/food_vision/10_food_classes_1_percent.zip"
      ],
      "metadata": {
        "id": "L0FDWfC6TQyL",
        "outputId": "a09c4605-520c-4703-8a1d-1247ef0f7023",
        "execution": {
          "iopub.status.busy": "2023-06-09T10:13:43.343324Z",
          "iopub.execute_input": "2023-06-09T10:13:43.343758Z",
          "iopub.status.idle": "2023-06-09T10:13:46.681110Z",
          "shell.execute_reply.started": "2023-06-09T10:13:43.343692Z",
          "shell.execute_reply": "2023-06-09T10:13:46.679874Z"
        },
        "trusted": true,
        "colab": {
          "base_uri": "https://localhost:8080/"
        }
      },
      "execution_count": 28,
      "outputs": [
        {
          "output_type": "stream",
          "name": "stdout",
          "text": [
            "--2023-06-09 15:44:12--  https://storage.googleapis.com/ztm_tf_course/food_vision/10_food_classes_1_percent.zip\n",
            "Resolving storage.googleapis.com (storage.googleapis.com)... 173.194.79.128, 108.177.119.128, 108.177.126.128, ...\n",
            "Connecting to storage.googleapis.com (storage.googleapis.com)|173.194.79.128|:443... connected.\n",
            "HTTP request sent, awaiting response... 200 OK\n",
            "Length: 133612354 (127M) [application/zip]\n",
            "Saving to: ‘10_food_classes_1_percent.zip’\n",
            "\n",
            "10_food_classes_1_p 100%[===================>] 127.42M  28.2MB/s    in 5.3s    \n",
            "\n",
            "2023-06-09 15:44:18 (24.0 MB/s) - ‘10_food_classes_1_percent.zip’ saved [133612354/133612354]\n",
            "\n"
          ]
        }
      ]
    },
    {
      "cell_type": "code",
      "source": [
        "unzip_data(\"10_food_classes_1_percent.zip\")"
      ],
      "metadata": {
        "id": "KeXHtd8kUIKj",
        "execution": {
          "iopub.status.busy": "2023-06-09T10:13:46.684077Z",
          "iopub.execute_input": "2023-06-09T10:13:46.684545Z",
          "iopub.status.idle": "2023-06-09T10:13:47.579933Z",
          "shell.execute_reply.started": "2023-06-09T10:13:46.684502Z",
          "shell.execute_reply": "2023-06-09T10:13:47.578916Z"
        },
        "trusted": true
      },
      "execution_count": 29,
      "outputs": []
    },
    {
      "cell_type": "code",
      "source": [
        "train_dir_1_percent = \"10_food_classes_1_percent/train/\"\n",
        "test_dir = \"10_food_classes_1_percent/test/\""
      ],
      "metadata": {
        "id": "oKJxyt1kUL3y",
        "execution": {
          "iopub.status.busy": "2023-06-09T10:13:47.581589Z",
          "iopub.execute_input": "2023-06-09T10:13:47.582021Z",
          "iopub.status.idle": "2023-06-09T10:13:47.587010Z",
          "shell.execute_reply.started": "2023-06-09T10:13:47.581987Z",
          "shell.execute_reply": "2023-06-09T10:13:47.586023Z"
        },
        "trusted": true
      },
      "execution_count": 30,
      "outputs": []
    },
    {
      "cell_type": "code",
      "source": [
        "walk_through_dir(train_dir_1_percent)"
      ],
      "metadata": {
        "id": "ygN_RjOjV5r0",
        "outputId": "b0343bc3-1a14-4564-e383-79fc07257d88",
        "execution": {
          "iopub.status.busy": "2023-06-09T10:13:47.588746Z",
          "iopub.execute_input": "2023-06-09T10:13:47.589453Z",
          "iopub.status.idle": "2023-06-09T10:13:47.600023Z",
          "shell.execute_reply.started": "2023-06-09T10:13:47.589420Z",
          "shell.execute_reply": "2023-06-09T10:13:47.598824Z"
        },
        "trusted": true,
        "colab": {
          "base_uri": "https://localhost:8080/"
        }
      },
      "execution_count": 31,
      "outputs": [
        {
          "output_type": "stream",
          "name": "stdout",
          "text": [
            "There are 10 directories and 0 images in '10_food_classes_1_percent/train/'.\n",
            "There are 0 directories and 7 images in '10_food_classes_1_percent/train/pizza'.\n",
            "There are 0 directories and 7 images in '10_food_classes_1_percent/train/ramen'.\n",
            "There are 0 directories and 7 images in '10_food_classes_1_percent/train/fried_rice'.\n",
            "There are 0 directories and 7 images in '10_food_classes_1_percent/train/chicken_curry'.\n",
            "There are 0 directories and 7 images in '10_food_classes_1_percent/train/grilled_salmon'.\n",
            "There are 0 directories and 7 images in '10_food_classes_1_percent/train/steak'.\n",
            "There are 0 directories and 7 images in '10_food_classes_1_percent/train/chicken_wings'.\n",
            "There are 0 directories and 7 images in '10_food_classes_1_percent/train/hamburger'.\n",
            "There are 0 directories and 7 images in '10_food_classes_1_percent/train/ice_cream'.\n",
            "There are 0 directories and 7 images in '10_food_classes_1_percent/train/sushi'.\n"
          ]
        }
      ]
    },
    {
      "cell_type": "code",
      "source": [
        "IMG_SIZE = (224, 224)\n",
        "train_data_1_percent = preprocessing.image_dataset_from_directory(train_dir_1_percent,\n",
        "                                                                  label_mode=\"categorical\",\n",
        "                                                                  image_size=IMG_SIZE,\n",
        "                                                                  batch_size=32)\n",
        "\n",
        "test_data = preprocessing.image_dataset_from_directory(test_dir,\n",
        "                                                       label_mode=\"categorical\",\n",
        "                                                       image_size=IMG_SIZE)"
      ],
      "metadata": {
        "id": "JD9OvhbGXQuI",
        "outputId": "9cb33a2c-a440-4627-8914-c3af4a3c0834",
        "execution": {
          "iopub.status.busy": "2023-06-09T10:13:47.601588Z",
          "iopub.execute_input": "2023-06-09T10:13:47.602133Z",
          "iopub.status.idle": "2023-06-09T10:13:47.909091Z",
          "shell.execute_reply.started": "2023-06-09T10:13:47.602102Z",
          "shell.execute_reply": "2023-06-09T10:13:47.908197Z"
        },
        "trusted": true,
        "colab": {
          "base_uri": "https://localhost:8080/"
        }
      },
      "execution_count": 32,
      "outputs": [
        {
          "output_type": "stream",
          "name": "stdout",
          "text": [
            "Found 70 files belonging to 10 classes.\n",
            "Found 2500 files belonging to 10 classes.\n"
          ]
        }
      ]
    },
    {
      "cell_type": "code",
      "source": [
        "image_augmentation = tf.keras.Sequential([\n",
        "    layers.RandomFlip(),\n",
        "    layers.RandomRotation(0.2),\n",
        "    layers.RandomHeight(0.2),\n",
        "    layers.RandomWidth(0.2),\n",
        "    layers.RandomZoom(0.2)\n",
        "], name=\"image_augmentation\")"
      ],
      "metadata": {
        "id": "aYOBydplUiqm",
        "execution": {
          "iopub.status.busy": "2023-06-09T10:13:47.910602Z",
          "iopub.execute_input": "2023-06-09T10:13:47.910939Z",
          "iopub.status.idle": "2023-06-09T10:13:47.930051Z",
          "shell.execute_reply.started": "2023-06-09T10:13:47.910907Z",
          "shell.execute_reply": "2023-06-09T10:13:47.929064Z"
        },
        "trusted": true
      },
      "execution_count": 33,
      "outputs": []
    },
    {
      "cell_type": "code",
      "source": [
        "# view a random image\n",
        "import matplotlib.pyplot as plt\n",
        "import matplotlib.image as mpimg\n",
        "import os\n",
        "import random"
      ],
      "metadata": {
        "id": "dWqNJzA8aBGI",
        "execution": {
          "iopub.status.busy": "2023-06-09T10:13:47.931530Z",
          "iopub.execute_input": "2023-06-09T10:13:47.932042Z",
          "iopub.status.idle": "2023-06-09T10:13:47.936930Z",
          "shell.execute_reply.started": "2023-06-09T10:13:47.932007Z",
          "shell.execute_reply": "2023-06-09T10:13:47.935966Z"
        },
        "trusted": true
      },
      "execution_count": 34,
      "outputs": []
    },
    {
      "cell_type": "code",
      "source": [
        "target_class = random.choice(train_data_1_percent.class_names)\n",
        "target_dir = \"10_food_classes_1_percent/train/\" + target_class\n",
        "random_image = random.choice(os.listdir(target_dir))\n",
        "random_image_path = target_dir + \"/\" + random_image\n",
        "img = mpimg.imread(random_image_path)\n",
        "plt.subplot(1, 2, 1)\n",
        "plt.imshow(img)\n",
        "plt.title(f\"Originalimage: {target_class}\")\n",
        "plt.axis(False)\n",
        "\n",
        "augmented_img = image_augmentation(img/255.)\n",
        "plt.subplot(1, 2, 2)\n",
        "plt.imshow(augmented_img)\n",
        "plt.title(f\"Augmented: {target_class}\")\n",
        "plt.axis(False)"
      ],
      "metadata": {
        "id": "zwBbnNdja2jo",
        "outputId": "14f22c89-f757-4956-b520-05479e191c64",
        "execution": {
          "iopub.status.busy": "2023-06-09T10:13:47.938290Z",
          "iopub.execute_input": "2023-06-09T10:13:47.939046Z",
          "iopub.status.idle": "2023-06-09T10:13:48.683814Z",
          "shell.execute_reply.started": "2023-06-09T10:13:47.939014Z",
          "shell.execute_reply": "2023-06-09T10:13:48.682820Z"
        },
        "trusted": true,
        "colab": {
          "base_uri": "https://localhost:8080/",
          "height": 245
        }
      },
      "execution_count": 35,
      "outputs": [
        {
          "output_type": "execute_result",
          "data": {
            "text/plain": [
              "(-0.5, 574.5, 376.5, -0.5)"
            ]
          },
          "metadata": {},
          "execution_count": 35
        },
        {
          "output_type": "display_data",
          "data": {
            "text/plain": [
              "<Figure size 640x480 with 2 Axes>"
            ],
            "image/png": "[encoded data removed]"
          },
          "metadata": {}
        }
      ]
    },
    {
      "cell_type": "code",
      "source": [
        "input_shape = (224, 224, 3)\n",
        "base_model = tf.keras.applications.EfficientNetV2B0(include_top=False)\n",
        "base_model.trainable = False\n",
        "\n",
        "inputs = layers.Input(shape=input_shape, name=\"input_layer\")\n",
        "\n",
        "x = image_augmentation(inputs)\n",
        "\n",
        "x = base_model(x, training=False)\n",
        "\n",
        "x = layers.GlobalAveragePooling2D(name=\"global_average_pooling_layer\")(x)\n",
        "\n",
        "outputs = layers.Dense(10, activation=\"softmax\", name=\"output_layer\")(x)\n",
        "\n",
        "model_1 = tf.keras.Model(inputs, outputs)"
      ],
      "metadata": {
        "id": "X7CB_lHsbwXj",
        "execution": {
          "iopub.status.busy": "2023-06-09T10:13:48.684945Z",
          "iopub.execute_input": "2023-06-09T10:13:48.685290Z",
          "iopub.status.idle": "2023-06-09T10:13:52.849563Z",
          "shell.execute_reply.started": "2023-06-09T10:13:48.685257Z",
          "shell.execute_reply": "2023-06-09T10:13:52.848627Z"
        },
        "trusted": true,
        "colab": {
          "base_uri": "https://localhost:8080/"
        },
        "outputId": "a19db2f4-7f93-4899-c375-31c7bd0b919f"
      },
      "execution_count": 36,
      "outputs": [
        {
          "output_type": "stream",
          "name": "stdout",
          "text": [
            "Downloading data from https://storage.googleapis.com/tensorflow/keras-applications/efficientnet_v2/efficientnetv2-b0_notop.h5\n",
            "24274472/24274472 [==============================] - 2s 0us/step\n"
          ]
        }
      ]
    },
    {
      "cell_type": "code",
      "source": [
        "model_1.compile(loss=\"categorical_crossentropy\",\n",
        "                optimizer=tf.keras.optimizers.Adam(),\n",
        "                metrics=[\"accuracy\"])"
      ],
      "metadata": {
        "id": "YpuOHFjohUwA",
        "execution": {
          "iopub.status.busy": "2023-06-09T10:13:52.851129Z",
          "iopub.execute_input": "2023-06-09T10:13:52.851493Z",
          "iopub.status.idle": "2023-06-09T10:13:52.872614Z",
          "shell.execute_reply.started": "2023-06-09T10:13:52.851460Z",
          "shell.execute_reply": "2023-06-09T10:13:52.871348Z"
        },
        "trusted": true
      },
      "execution_count": 37,
      "outputs": []
    },
    {
      "cell_type": "code",
      "source": [
        "model_1_history = model_1.fit(train_data_1_percent,\n",
        "                  epochs=5,\n",
        "                  steps_per_epoch=len(train_data_1_percent),\n",
        "                  validation_data=test_data,\n",
        "                  validation_steps=int(0.25 * len(test_data)),\n",
        "                  callbacks=[create_tensorboard_callback(\"transfer_learning\", \"1_percent_data_augmentation\")])"
      ],
      "metadata": {
        "id": "Yf6Or7vfkLX4",
        "outputId": "72c4e559-1b1c-41c6-d1bb-7b244c3f961a",
        "execution": {
          "iopub.status.busy": "2023-06-09T10:13:52.874321Z",
          "iopub.execute_input": "2023-06-09T10:13:52.874782Z",
          "iopub.status.idle": "2023-06-09T10:14:25.410206Z",
          "shell.execute_reply.started": "2023-06-09T10:13:52.874741Z",
          "shell.execute_reply": "2023-06-09T10:14:25.409098Z"
        },
        "trusted": true,
        "colab": {
          "base_uri": "https://localhost:8080/"
        }
      },
      "execution_count": 38,
      "outputs": [
        {
          "output_type": "stream",
          "name": "stdout",
          "text": [
            "Saving TensorBoard log files to: transfer_learning/1_percent_data_augmentation/20230609-154426\n",
            "Epoch 1/5\n",
            "3/3 [==============================] - 15s 3s/step - loss: 2.4014 - accuracy: 0.1143 - val_loss: 2.3456 - val_accuracy: 0.1020\n",
            "Epoch 2/5\n",
            "3/3 [==============================] - 5s 2s/step - loss: 2.1899 - accuracy: 0.1571 - val_loss: 2.2245 - val_accuracy: 0.1414\n",
            "Epoch 3/5\n",
            "3/3 [==============================] - 5s 2s/step - loss: 2.0385 - accuracy: 0.2857 - val_loss: 2.1344 - val_accuracy: 0.2138\n",
            "Epoch 4/5\n",
            "3/3 [==============================] - 4s 1s/step - loss: 1.9378 - accuracy: 0.4000 - val_loss: 2.0355 - val_accuracy: 0.2993\n",
            "Epoch 5/5\n",
            "3/3 [==============================] - 3s 1s/step - loss: 1.7962 - accuracy: 0.5286 - val_loss: 1.9670 - val_accuracy: 0.3454\n"
          ]
        }
      ]
    },
    {
      "cell_type": "code",
      "source": [
        "model_1.summary()"
      ],
      "metadata": {
        "id": "CB9pBiE4k-F_",
        "outputId": "1bb9238c-a120-4a59-fc3d-5bd3aebaff7e",
        "execution": {
          "iopub.status.busy": "2023-06-09T10:14:25.413898Z",
          "iopub.execute_input": "2023-06-09T10:14:25.414564Z",
          "iopub.status.idle": "2023-06-09T10:14:25.461322Z",
          "shell.execute_reply.started": "2023-06-09T10:14:25.414525Z",
          "shell.execute_reply": "2023-06-09T10:14:25.460437Z"
        },
        "trusted": true,
        "colab": {
          "base_uri": "https://localhost:8080/"
        }
      },
      "execution_count": 39,
      "outputs": [
        {
          "output_type": "stream",
          "name": "stdout",
          "text": [
            "Model: \"model_1\"\n",
            "_________________________________________________________________\n",
            " Layer (type)                Output Shape              Param #   \n",
            "=================================================================\n",
            " input_layer (InputLayer)    [(None, 224, 224, 3)]     0         \n",
            "                                                                 \n",
            " image_augmentation (Sequent  (None, None, 3)          0         \n",
            " ial)                                                            \n",
            "                                                                 \n",
            " efficientnetv2-b0 (Function  (None, None, None, 1280)  5919312  \n",
            " al)                                                             \n",
            "                                                                 \n",
            " global_average_pooling_laye  (None, 1280)             0         \n",
            " r (GlobalAveragePooling2D)                                      \n",
            "                                                                 \n",
            " output_layer (Dense)        (None, 10)                12810     \n",
            "                                                                 \n",
            "=================================================================\n",
            "Total params: 5,932,122\n",
            "Trainable params: 12,810\n",
            "Non-trainable params: 5,919,312\n",
            "_________________________________________________________________\n"
          ]
        }
      ]
    },
    {
      "cell_type": "code",
      "source": [
        "results_1_percent_data_aug = model_1.evaluate(test_data)\n",
        "results_1_percent_data_aug"
      ],
      "metadata": {
        "id": "9FYHWO05lwLl",
        "outputId": "cd4a4a77-abd6-49f9-ada2-c2e05e7dc4d6",
        "execution": {
          "iopub.status.busy": "2023-06-09T10:14:25.472883Z",
          "iopub.execute_input": "2023-06-09T10:14:25.473921Z",
          "iopub.status.idle": "2023-06-09T10:14:32.315411Z",
          "shell.execute_reply.started": "2023-06-09T10:14:25.473883Z",
          "shell.execute_reply": "2023-06-09T10:14:32.314503Z"
        },
        "trusted": true,
        "colab": {
          "base_uri": "https://localhost:8080/"
        }
      },
      "execution_count": 40,
      "outputs": [
        {
          "output_type": "stream",
          "name": "stdout",
          "text": [
            "79/79 [==============================] - 7s 85ms/step - loss: 1.9617 - accuracy: 0.3352\n"
          ]
        },
        {
          "output_type": "execute_result",
          "data": {
            "text/plain": [
              "[1.9616888761520386, 0.3352000117301941]"
            ]
          },
          "metadata": {},
          "execution_count": 40
        }
      ]
    },
    {
      "cell_type": "code",
      "source": [
        "plot_loss_curves(model_1_history)"
      ],
      "metadata": {
        "id": "_tJ2XDSCl1au",
        "outputId": "4dd0a518-7237-4b48-e459-679327422bdb",
        "execution": {
          "iopub.status.busy": "2023-06-09T10:14:32.317033Z",
          "iopub.execute_input": "2023-06-09T10:14:32.317447Z",
          "iopub.status.idle": "2023-06-09T10:14:33.010504Z",
          "shell.execute_reply.started": "2023-06-09T10:14:32.317411Z",
          "shell.execute_reply": "2023-06-09T10:14:33.009287Z"
        },
        "trusted": true,
        "colab": {
          "base_uri": "https://localhost:8080/",
          "height": 927
        }
      },
      "execution_count": 41,
      "outputs": [
        {
          "output_type": "display_data",
          "data": {
            "text/plain": [
              "<Figure size 640x480 with 1 Axes>"
            ],
            "image/png": "[encoded data removed]"
          },
          "metadata": {}
        },
        {
          "output_type": "display_data",
          "data": {
            "text/plain": [
              "<Figure size 640x480 with 1 Axes>"
            ],
            "image/png": "[encoded data removed]"
          },
          "metadata": {}
        }
      ]
    },
    {
      "cell_type": "markdown",
      "source": [
        "## Create `model_2` with 10% data and augmentation"
      ],
      "metadata": {
        "id": "DVEJ6Whq0hZF"
      }
    },
    {
      "cell_type": "code",
      "source": [
        "test_dir = '10_food_classes_10_percent/test/'"
      ],
      "metadata": {
        "execution": {
          "iopub.status.busy": "2023-06-09T10:14:33.011935Z",
          "iopub.execute_input": "2023-06-09T10:14:33.012278Z",
          "iopub.status.idle": "2023-06-09T10:14:33.016523Z",
          "shell.execute_reply.started": "2023-06-09T10:14:33.012245Z",
          "shell.execute_reply": "2023-06-09T10:14:33.015544Z"
        },
        "trusted": true,
        "id": "SnNXTRyO0hZF"
      },
      "execution_count": 42,
      "outputs": []
    },
    {
      "cell_type": "code",
      "source": [
        "train_data_10_percent = preprocessing.image_dataset_from_directory(train_dir,\n",
        "                                                                   label_mode=\"categorical\",\n",
        "                                                                   image_size=IMG_SIZE,\n",
        "                                                                   batch_size=32)\n",
        "                                                               \n",
        "test_data = preprocessing.image_dataset_from_directory(test_dir,\n",
        "                                                      label_mode=\"categorical\",\n",
        "                                                      image_size=IMG_SIZE,\n",
        "                                                      batch_size=32)"
      ],
      "metadata": {
        "id": "98RSRKwCl9U0",
        "execution": {
          "iopub.status.busy": "2023-06-09T10:14:33.017971Z",
          "iopub.execute_input": "2023-06-09T10:14:33.018598Z",
          "iopub.status.idle": "2023-06-09T10:14:33.360591Z",
          "shell.execute_reply.started": "2023-06-09T10:14:33.018562Z",
          "shell.execute_reply": "2023-06-09T10:14:33.359699Z"
        },
        "trusted": true,
        "colab": {
          "base_uri": "https://localhost:8080/"
        },
        "outputId": "8002e9f4-0962-47b2-e343-4ef689063a6b"
      },
      "execution_count": 43,
      "outputs": [
        {
          "output_type": "stream",
          "name": "stdout",
          "text": [
            "Found 750 files belonging to 10 classes.\n",
            "Found 2500 files belonging to 10 classes.\n"
          ]
        }
      ]
    },
    {
      "cell_type": "code",
      "source": [
        "inputs = layers.Input(shape=(224, 224, 3), name=\"input_layer\")\n",
        "x = image_augmentation(inputs)\n",
        "x = base_model(x, training=False)\n",
        "x = layers.GlobalAveragePooling2D()(x)\n",
        "outputs = layers.Dense(10, activation=\"softmax\", name=\"output_layer\")(x)"
      ],
      "metadata": {
        "execution": {
          "iopub.status.busy": "2023-06-09T10:14:33.362403Z",
          "iopub.execute_input": "2023-06-09T10:14:33.362739Z",
          "iopub.status.idle": "2023-06-09T10:14:34.530182Z",
          "shell.execute_reply.started": "2023-06-09T10:14:33.362706Z",
          "shell.execute_reply": "2023-06-09T10:14:34.529214Z"
        },
        "trusted": true,
        "id": "MckfXDQe0hZG"
      },
      "execution_count": 44,
      "outputs": []
    },
    {
      "cell_type": "code",
      "source": [
        "model_2 = tf.keras.Model(inputs, outputs)"
      ],
      "metadata": {
        "execution": {
          "iopub.status.busy": "2023-06-09T10:14:34.531832Z",
          "iopub.execute_input": "2023-06-09T10:14:34.532241Z",
          "iopub.status.idle": "2023-06-09T10:14:34.542531Z",
          "shell.execute_reply.started": "2023-06-09T10:14:34.532205Z",
          "shell.execute_reply": "2023-06-09T10:14:34.541428Z"
        },
        "trusted": true,
        "id": "xu87Yn540hZG"
      },
      "execution_count": 45,
      "outputs": []
    },
    {
      "cell_type": "code",
      "source": [
        "model_2.compile(loss=\"categorical_crossentropy\",\n",
        "               optimizer=tf.keras.optimizers.Adam(),\n",
        "               metrics=[\"accuracy\"])"
      ],
      "metadata": {
        "execution": {
          "iopub.status.busy": "2023-06-09T10:14:34.544459Z",
          "iopub.execute_input": "2023-06-09T10:14:34.544833Z",
          "iopub.status.idle": "2023-06-09T10:14:34.563977Z",
          "shell.execute_reply.started": "2023-06-09T10:14:34.544787Z",
          "shell.execute_reply": "2023-06-09T10:14:34.563099Z"
        },
        "trusted": true,
        "id": "hoJJ7hN90hZG"
      },
      "execution_count": 46,
      "outputs": []
    },
    {
      "cell_type": "code",
      "source": [
        "checkpoint_path = \"ten_percent_model_checkpoints_weights/checkpoint.ckpt\"\n",
        "\n",
        "checkpoint_callback = tf.keras.callbacks.ModelCheckpoint(filepath=checkpoint_path,\n",
        "                                                        save_weights_only=True,\n",
        "                                                        save_best_only=True,\n",
        "                                                        save_freq=\"epoch\",\n",
        "                                                        verbose=1)"
      ],
      "metadata": {
        "execution": {
          "iopub.status.busy": "2023-06-09T10:14:34.565403Z",
          "iopub.execute_input": "2023-06-09T10:14:34.565754Z",
          "iopub.status.idle": "2023-06-09T10:14:34.571009Z",
          "shell.execute_reply.started": "2023-06-09T10:14:34.565723Z",
          "shell.execute_reply": "2023-06-09T10:14:34.569868Z"
        },
        "trusted": true,
        "id": "_IuRn22p0hZG"
      },
      "execution_count": 47,
      "outputs": []
    },
    {
      "cell_type": "code",
      "source": [
        "model_2_history = model_2.fit(train_data_10_percent,\n",
        "                             epochs=5,\n",
        "                             steps_per_epoch=len(train_data_10_percent),\n",
        "                             validation_data=test_data,\n",
        "                             validation_steps=int(0.25 * len(test_data)),\n",
        "                             callbacks=[create_tensorboard_callback(\"transfer_learning\", \"10_percent_data_augmentation\"),\n",
        "                                       checkpoint_callback])"
      ],
      "metadata": {
        "execution": {
          "iopub.status.busy": "2023-06-09T10:14:34.572556Z",
          "iopub.execute_input": "2023-06-09T10:14:34.572918Z",
          "iopub.status.idle": "2023-06-09T10:16:15.163979Z",
          "shell.execute_reply.started": "2023-06-09T10:14:34.572887Z",
          "shell.execute_reply": "2023-06-09T10:16:15.163026Z"
        },
        "trusted": true,
        "colab": {
          "base_uri": "https://localhost:8080/"
        },
        "id": "dFrEviQL0hZG",
        "outputId": "80eb19ff-f11b-4b52-8ed6-afe4efe5fc58"
      },
      "execution_count": 48,
      "outputs": [
        {
          "output_type": "stream",
          "name": "stdout",
          "text": [
            "Saving TensorBoard log files to: transfer_learning/10_percent_data_augmentation/20230609-154511\n",
            "Epoch 1/5\n",
            "24/24 [==============================] - ETA: 0s - loss: 2.1018 - accuracy: 0.2600\n",
            "Epoch 1: val_loss improved from inf to 1.54752, saving model to ten_percent_model_checkpoints_weights/checkpoint.ckpt\n",
            "24/24 [==============================] - 28s 823ms/step - loss: 2.1018 - accuracy: 0.2600 - val_loss: 1.5475 - val_accuracy: 0.6530\n",
            "Epoch 2/5\n",
            "24/24 [==============================] - ETA: 0s - loss: 1.5095 - accuracy: 0.6000\n",
            "Epoch 2: val_loss improved from 1.54752 to 1.09984, saving model to ten_percent_model_checkpoints_weights/checkpoint.ckpt\n",
            "24/24 [==============================] - 17s 669ms/step - loss: 1.5095 - accuracy: 0.6000 - val_loss: 1.0998 - val_accuracy: 0.7697\n",
            "Epoch 3/5\n",
            "24/24 [==============================] - ETA: 0s - loss: 1.1893 - accuracy: 0.7053\n",
            "Epoch 3: val_loss improved from 1.09984 to 0.89039, saving model to ten_percent_model_checkpoints_weights/checkpoint.ckpt\n",
            "24/24 [==============================] - 16s 660ms/step - loss: 1.1893 - accuracy: 0.7053 - val_loss: 0.8904 - val_accuracy: 0.7944\n",
            "Epoch 4/5\n",
            "24/24 [==============================] - ETA: 0s - loss: 1.0197 - accuracy: 0.7360\n",
            "Epoch 4: val_loss improved from 0.89039 to 0.76014, saving model to ten_percent_model_checkpoints_weights/checkpoint.ckpt\n",
            "24/24 [==============================] - 14s 574ms/step - loss: 1.0197 - accuracy: 0.7360 - val_loss: 0.7601 - val_accuracy: 0.8109\n",
            "Epoch 5/5\n",
            "24/24 [==============================] - ETA: 0s - loss: 0.9141 - accuracy: 0.7640\n",
            "Epoch 5: val_loss improved from 0.76014 to 0.67848, saving model to ten_percent_model_checkpoints_weights/checkpoint.ckpt\n",
            "24/24 [==============================] - 15s 615ms/step - loss: 0.9141 - accuracy: 0.7640 - val_loss: 0.6785 - val_accuracy: 0.8289\n"
          ]
        }
      ]
    },
    {
      "cell_type": "code",
      "source": [
        "results_10_percent_data_aug = model_2.evaluate(test_data)\n",
        "results_10_percent_data_aug"
      ],
      "metadata": {
        "execution": {
          "iopub.status.busy": "2023-06-09T10:16:15.166535Z",
          "iopub.execute_input": "2023-06-09T10:16:15.167257Z",
          "iopub.status.idle": "2023-06-09T10:16:25.414471Z",
          "shell.execute_reply.started": "2023-06-09T10:16:15.167220Z",
          "shell.execute_reply": "2023-06-09T10:16:25.413459Z"
        },
        "trusted": true,
        "colab": {
          "base_uri": "https://localhost:8080/"
        },
        "id": "gxZfS6sP0hZH",
        "outputId": "719e85ee-efb6-492e-8c8b-ad04045181d2"
      },
      "execution_count": 49,
      "outputs": [
        {
          "output_type": "stream",
          "name": "stdout",
          "text": [
            "79/79 [==============================] - 7s 77ms/step - loss: 0.7261 - accuracy: 0.7972\n"
          ]
        },
        {
          "output_type": "execute_result",
          "data": {
            "text/plain": [
              "[0.7261094450950623, 0.7972000241279602]"
            ]
          },
          "metadata": {},
          "execution_count": 49
        }
      ]
    },
    {
      "cell_type": "code",
      "source": [
        "plot_loss_curves(model_2_history)"
      ],
      "metadata": {
        "execution": {
          "iopub.status.busy": "2023-06-09T10:16:25.416199Z",
          "iopub.execute_input": "2023-06-09T10:16:25.416593Z",
          "iopub.status.idle": "2023-06-09T10:16:26.125199Z",
          "shell.execute_reply.started": "2023-06-09T10:16:25.416557Z",
          "shell.execute_reply": "2023-06-09T10:16:26.124275Z"
        },
        "trusted": true,
        "colab": {
          "base_uri": "https://localhost:8080/",
          "height": 927
        },
        "id": "Ny0F6o3p0hZH",
        "outputId": "1369efa9-2f3c-44fa-e825-a23eaa0d93e6"
      },
      "execution_count": 50,
      "outputs": [
        {
          "output_type": "display_data",
          "data": {
            "text/plain": [
              "<Figure size 640x480 with 1 Axes>"
            ],
            "image/png": "[encoded data removed]"
          },
          "metadata": {}
        },
        {
          "output_type": "display_data",
          "data": {
            "text/plain": [
              "<Figure size 640x480 with 1 Axes>"
            ],
            "image/png": "[encoded data removed]"
          },
          "metadata": {}
        }
      ]
    },
    {
      "cell_type": "code",
      "source": [
        "model_2.load_weights(checkpoint_path)\n",
        "loaded_weights_model_results = model_2.evaluate(test_data)"
      ],
      "metadata": {
        "execution": {
          "iopub.status.busy": "2023-06-09T10:16:26.126896Z",
          "iopub.execute_input": "2023-06-09T10:16:26.127239Z",
          "iopub.status.idle": "2023-06-09T10:16:38.038481Z",
          "shell.execute_reply.started": "2023-06-09T10:16:26.127206Z",
          "shell.execute_reply": "2023-06-09T10:16:38.037432Z"
        },
        "trusted": true,
        "colab": {
          "base_uri": "https://localhost:8080/"
        },
        "id": "ndQCijWx0hZH",
        "outputId": "9bbc91eb-edf0-4720-c7d1-865ecc244eec"
      },
      "execution_count": 51,
      "outputs": [
        {
          "output_type": "stream",
          "name": "stdout",
          "text": [
            "79/79 [==============================] - 6s 66ms/step - loss: 0.7261 - accuracy: 0.7972\n"
          ]
        }
      ]
    },
    {
      "cell_type": "code",
      "source": [
        "results_10_percent_data_aug == loaded_weights_model_results"
      ],
      "metadata": {
        "execution": {
          "iopub.status.busy": "2023-06-09T10:16:38.040094Z",
          "iopub.execute_input": "2023-06-09T10:16:38.040513Z",
          "iopub.status.idle": "2023-06-09T10:16:38.048280Z",
          "shell.execute_reply.started": "2023-06-09T10:16:38.040477Z",
          "shell.execute_reply": "2023-06-09T10:16:38.047336Z"
        },
        "trusted": true,
        "colab": {
          "base_uri": "https://localhost:8080/"
        },
        "id": "3MkwmQbR0hZI",
        "outputId": "d7ea92d4-a6bd-40c6-c87d-13068a5a7dcd"
      },
      "execution_count": 52,
      "outputs": [
        {
          "output_type": "execute_result",
          "data": {
            "text/plain": [
              "True"
            ]
          },
          "metadata": {},
          "execution_count": 52
        }
      ]
    },
    {
      "cell_type": "code",
      "source": [
        "model_2.summary()"
      ],
      "metadata": {
        "execution": {
          "iopub.status.busy": "2023-06-09T10:16:38.049685Z",
          "iopub.execute_input": "2023-06-09T10:16:38.050202Z",
          "iopub.status.idle": "2023-06-09T10:16:38.099745Z",
          "shell.execute_reply.started": "2023-06-09T10:16:38.050169Z",
          "shell.execute_reply": "2023-06-09T10:16:38.098848Z"
        },
        "trusted": true,
        "colab": {
          "base_uri": "https://localhost:8080/"
        },
        "id": "V4LajxkZ0hZI",
        "outputId": "7daffd5e-e5f2-4f37-8bee-b0e006674782"
      },
      "execution_count": 53,
      "outputs": [
        {
          "output_type": "stream",
          "name": "stdout",
          "text": [
            "Model: \"model_2\"\n",
            "_________________________________________________________________\n",
            " Layer (type)                Output Shape              Param #   \n",
            "=================================================================\n",
            " input_layer (InputLayer)    [(None, 224, 224, 3)]     0         \n",
            "                                                                 \n",
            " image_augmentation (Sequent  (None, None, 3)          0         \n",
            " ial)                                                            \n",
            "                                                                 \n",
            " efficientnetv2-b0 (Function  (None, None, None, 1280)  5919312  \n",
            " al)                                                             \n",
            "                                                                 \n",
            " global_average_pooling2d_1   (None, 1280)             0         \n",
            " (GlobalAveragePooling2D)                                        \n",
            "                                                                 \n",
            " output_layer (Dense)        (None, 10)                12810     \n",
            "                                                                 \n",
            "=================================================================\n",
            "Total params: 5,932,122\n",
            "Trainable params: 12,810\n",
            "Non-trainable params: 5,919,312\n",
            "_________________________________________________________________\n"
          ]
        }
      ]
    },
    {
      "cell_type": "markdown",
      "source": [
        "## Creating `model_3`"
      ],
      "metadata": {
        "id": "0c12p75f0hZI"
      }
    },
    {
      "cell_type": "code",
      "source": [
        "model_2.layers"
      ],
      "metadata": {
        "execution": {
          "iopub.status.busy": "2023-06-09T10:16:38.101130Z",
          "iopub.execute_input": "2023-06-09T10:16:38.102190Z",
          "iopub.status.idle": "2023-06-09T10:16:38.108591Z",
          "shell.execute_reply.started": "2023-06-09T10:16:38.102147Z",
          "shell.execute_reply": "2023-06-09T10:16:38.107631Z"
        },
        "trusted": true,
        "colab": {
          "base_uri": "https://localhost:8080/"
        },
        "id": "0nyXu8Dk0hZI",
        "outputId": "c41fddbb-31a2-4592-ed8f-7dfe4b736e3d"
      },
      "execution_count": 54,
      "outputs": [
        {
          "output_type": "execute_result",
          "data": {
            "text/plain": [
              "[<keras.engine.input_layer.InputLayer at 0x7fa36977bc70>,\n",
              " <keras.engine.sequential.Sequential at 0x7fa37cc4eb90>,\n",
              " <keras.engine.functional.Functional at 0x7fa3781e3d90>,\n",
              " <keras.layers.pooling.global_average_pooling2d.GlobalAveragePooling2D at 0x7fa35e4fead0>,\n",
              " <keras.layers.core.dense.Dense at 0x7fa3697a1390>]"
            ]
          },
          "metadata": {},
          "execution_count": 54
        }
      ]
    },
    {
      "cell_type": "code",
      "source": [
        "for layer in model_2.layers:\n",
        "    print(layer.trainable)"
      ],
      "metadata": {
        "execution": {
          "iopub.status.busy": "2023-06-09T10:16:38.109942Z",
          "iopub.execute_input": "2023-06-09T10:16:38.110658Z",
          "iopub.status.idle": "2023-06-09T10:16:38.118766Z",
          "shell.execute_reply.started": "2023-06-09T10:16:38.110626Z",
          "shell.execute_reply": "2023-06-09T10:16:38.117751Z"
        },
        "trusted": true,
        "colab": {
          "base_uri": "https://localhost:8080/"
        },
        "id": "qSwICpZL0hZJ",
        "outputId": "74a34410-f826-41f3-859a-4c81a5d8431d"
      },
      "execution_count": 55,
      "outputs": [
        {
          "output_type": "stream",
          "name": "stdout",
          "text": [
            "True\n",
            "True\n",
            "False\n",
            "True\n",
            "True\n"
          ]
        }
      ]
    },
    {
      "cell_type": "code",
      "source": [
        "model_2.summary()"
      ],
      "metadata": {
        "execution": {
          "iopub.status.busy": "2023-06-09T10:16:38.120132Z",
          "iopub.execute_input": "2023-06-09T10:16:38.120733Z",
          "iopub.status.idle": "2023-06-09T10:16:38.168409Z",
          "shell.execute_reply.started": "2023-06-09T10:16:38.120702Z",
          "shell.execute_reply": "2023-06-09T10:16:38.167527Z"
        },
        "trusted": true,
        "colab": {
          "base_uri": "https://localhost:8080/"
        },
        "id": "b6t4Vt7Q0hZJ",
        "outputId": "5f899370-fc3b-4991-c045-df52a215d038"
      },
      "execution_count": 56,
      "outputs": [
        {
          "output_type": "stream",
          "name": "stdout",
          "text": [
            "Model: \"model_2\"\n",
            "_________________________________________________________________\n",
            " Layer (type)                Output Shape              Param #   \n",
            "=================================================================\n",
            " input_layer (InputLayer)    [(None, 224, 224, 3)]     0         \n",
            "                                                                 \n",
            " image_augmentation (Sequent  (None, None, 3)          0         \n",
            " ial)                                                            \n",
            "                                                                 \n",
            " efficientnetv2-b0 (Function  (None, None, None, 1280)  5919312  \n",
            " al)                                                             \n",
            "                                                                 \n",
            " global_average_pooling2d_1   (None, 1280)             0         \n",
            " (GlobalAveragePooling2D)                                        \n",
            "                                                                 \n",
            " output_layer (Dense)        (None, 10)                12810     \n",
            "                                                                 \n",
            "=================================================================\n",
            "Total params: 5,932,122\n",
            "Trainable params: 12,810\n",
            "Non-trainable params: 5,919,312\n",
            "_________________________________________________________________\n"
          ]
        }
      ]
    },
    {
      "cell_type": "code",
      "source": [
        "print(len(model_2.layers[2].trainable_variables))"
      ],
      "metadata": {
        "execution": {
          "iopub.status.busy": "2023-06-09T10:16:38.169692Z",
          "iopub.execute_input": "2023-06-09T10:16:38.170239Z",
          "iopub.status.idle": "2023-06-09T10:16:38.175157Z",
          "shell.execute_reply.started": "2023-06-09T10:16:38.170207Z",
          "shell.execute_reply": "2023-06-09T10:16:38.174085Z"
        },
        "trusted": true,
        "colab": {
          "base_uri": "https://localhost:8080/"
        },
        "id": "mN6PNDes0hZJ",
        "outputId": "656037da-1fbd-48f5-fc0b-b11f0721d03c"
      },
      "execution_count": 57,
      "outputs": [
        {
          "output_type": "stream",
          "name": "stdout",
          "text": [
            "0\n"
          ]
        }
      ]
    },
    {
      "cell_type": "code",
      "source": [
        "print(base_model.trainable_variables)"
      ],
      "metadata": {
        "execution": {
          "iopub.status.busy": "2023-06-09T10:16:38.176609Z",
          "iopub.execute_input": "2023-06-09T10:16:38.177224Z",
          "iopub.status.idle": "2023-06-09T10:16:38.187786Z",
          "shell.execute_reply.started": "2023-06-09T10:16:38.177168Z",
          "shell.execute_reply": "2023-06-09T10:16:38.186844Z"
        },
        "trusted": true,
        "colab": {
          "base_uri": "https://localhost:8080/"
        },
        "id": "CGDm_mqv0hZJ",
        "outputId": "97a90dd9-eaa2-41a2-bd85-6c8857df41de"
      },
      "execution_count": 58,
      "outputs": [
        {
          "output_type": "stream",
          "name": "stdout",
          "text": [
            "[]\n"
          ]
        }
      ]
    },
    {
      "cell_type": "code",
      "source": [
        "for layer_number, layer in enumerate(base_model.layers):\n",
        "    print(layer_number, layer.name, layer.trainable)"
      ],
      "metadata": {
        "execution": {
          "iopub.status.busy": "2023-06-09T10:16:38.189045Z",
          "iopub.execute_input": "2023-06-09T10:16:38.189629Z",
          "iopub.status.idle": "2023-06-09T10:16:38.203988Z",
          "shell.execute_reply.started": "2023-06-09T10:16:38.189598Z",
          "shell.execute_reply": "2023-06-09T10:16:38.202926Z"
        },
        "trusted": true,
        "colab": {
          "base_uri": "https://localhost:8080/"
        },
        "id": "W9M2sDWD0hZK",
        "outputId": "951b72a3-0815-4e6d-93ad-3d446281b5be"
      },
      "execution_count": 59,
      "outputs": [
        {
          "output_type": "stream",
          "name": "stdout",
          "text": [
            "0 input_2 False\n",
            "1 rescaling_2 False\n",
            "2 normalization_1 False\n",
            "3 stem_conv False\n",
            "4 stem_bn False\n",
            "5 stem_activation False\n",
            "6 block1a_project_conv False\n",
            "7 block1a_project_bn False\n",
            "8 block1a_project_activation False\n",
            "9 block2a_expand_conv False\n",
            "10 block2a_expand_bn False\n",
            "11 block2a_expand_activation False\n",
            "12 block2a_project_conv False\n",
            "13 block2a_project_bn False\n",
            "14 block2b_expand_conv False\n",
            "15 block2b_expand_bn False\n",
            "16 block2b_expand_activation False\n",
            "17 block2b_project_conv False\n",
            "18 block2b_project_bn False\n",
            "19 block2b_drop False\n",
            "20 block2b_add False\n",
            "21 block3a_expand_conv False\n",
            "22 block3a_expand_bn False\n",
            "23 block3a_expand_activation False\n",
            "24 block3a_project_conv False\n",
            "25 block3a_project_bn False\n",
            "26 block3b_expand_conv False\n",
            "27 block3b_expand_bn False\n",
            "28 block3b_expand_activation False\n",
            "29 block3b_project_conv False\n",
            "30 block3b_project_bn False\n",
            "31 block3b_drop False\n",
            "32 block3b_add False\n",
            "33 block4a_expand_conv False\n",
            "34 block4a_expand_bn False\n",
            "35 block4a_expand_activation False\n",
            "36 block4a_dwconv2 False\n",
            "37 block4a_bn False\n",
            "38 block4a_activation False\n",
            "39 block4a_se_squeeze False\n",
            "40 block4a_se_reshape False\n",
            "41 block4a_se_reduce False\n",
            "42 block4a_se_expand False\n",
            "43 block4a_se_excite False\n",
            "44 block4a_project_conv False\n",
            "45 block4a_project_bn False\n",
            "46 block4b_expand_conv False\n",
            "47 block4b_expand_bn False\n",
            "48 block4b_expand_activation False\n",
            "49 block4b_dwconv2 False\n",
            "50 block4b_bn False\n",
            "51 block4b_activation False\n",
            "52 block4b_se_squeeze False\n",
            "53 block4b_se_reshape False\n",
            "54 block4b_se_reduce False\n",
            "55 block4b_se_expand False\n",
            "56 block4b_se_excite False\n",
            "57 block4b_project_conv False\n",
            "58 block4b_project_bn False\n",
            "59 block4b_drop False\n",
            "60 block4b_add False\n",
            "61 block4c_expand_conv False\n",
            "62 block4c_expand_bn False\n",
            "63 block4c_expand_activation False\n",
            "64 block4c_dwconv2 False\n",
            "65 block4c_bn False\n",
            "66 block4c_activation False\n",
            "67 block4c_se_squeeze False\n",
            "68 block4c_se_reshape False\n",
            "69 block4c_se_reduce False\n",
            "70 block4c_se_expand False\n",
            "71 block4c_se_excite False\n",
            "72 block4c_project_conv False\n",
            "73 block4c_project_bn False\n",
            "74 block4c_drop False\n",
            "75 block4c_add False\n",
            "76 block5a_expand_conv False\n",
            "77 block5a_expand_bn False\n",
            "78 block5a_expand_activation False\n",
            "79 block5a_dwconv2 False\n",
            "80 block5a_bn False\n",
            "81 block5a_activation False\n",
            "82 block5a_se_squeeze False\n",
            "83 block5a_se_reshape False\n",
            "84 block5a_se_reduce False\n",
            "85 block5a_se_expand False\n",
            "86 block5a_se_excite False\n",
            "87 block5a_project_conv False\n",
            "88 block5a_project_bn False\n",
            "89 block5b_expand_conv False\n",
            "90 block5b_expand_bn False\n",
            "91 block5b_expand_activation False\n",
            "92 block5b_dwconv2 False\n",
            "93 block5b_bn False\n",
            "94 block5b_activation False\n",
            "95 block5b_se_squeeze False\n",
            "96 block5b_se_reshape False\n",
            "97 block5b_se_reduce False\n",
            "98 block5b_se_expand False\n",
            "99 block5b_se_excite False\n",
            "100 block5b_project_conv False\n",
            "101 block5b_project_bn False\n",
            "102 block5b_drop False\n",
            "103 block5b_add False\n",
            "104 block5c_expand_conv False\n",
            "105 block5c_expand_bn False\n",
            "106 block5c_expand_activation False\n",
            "107 block5c_dwconv2 False\n",
            "108 block5c_bn False\n",
            "109 block5c_activation False\n",
            "110 block5c_se_squeeze False\n",
            "111 block5c_se_reshape False\n",
            "112 block5c_se_reduce False\n",
            "113 block5c_se_expand False\n",
            "114 block5c_se_excite False\n",
            "115 block5c_project_conv False\n",
            "116 block5c_project_bn False\n",
            "117 block5c_drop False\n",
            "118 block5c_add False\n",
            "119 block5d_expand_conv False\n",
            "120 block5d_expand_bn False\n",
            "121 block5d_expand_activation False\n",
            "122 block5d_dwconv2 False\n",
            "123 block5d_bn False\n",
            "124 block5d_activation False\n",
            "125 block5d_se_squeeze False\n",
            "126 block5d_se_reshape False\n",
            "127 block5d_se_reduce False\n",
            "128 block5d_se_expand False\n",
            "129 block5d_se_excite False\n",
            "130 block5d_project_conv False\n",
            "131 block5d_project_bn False\n",
            "132 block5d_drop False\n",
            "133 block5d_add False\n",
            "134 block5e_expand_conv False\n",
            "135 block5e_expand_bn False\n",
            "136 block5e_expand_activation False\n",
            "137 block5e_dwconv2 False\n",
            "138 block5e_bn False\n",
            "139 block5e_activation False\n",
            "140 block5e_se_squeeze False\n",
            "141 block5e_se_reshape False\n",
            "142 block5e_se_reduce False\n",
            "143 block5e_se_expand False\n",
            "144 block5e_se_excite False\n",
            "145 block5e_project_conv False\n",
            "146 block5e_project_bn False\n",
            "147 block5e_drop False\n",
            "148 block5e_add False\n",
            "149 block6a_expand_conv False\n",
            "150 block6a_expand_bn False\n",
            "151 block6a_expand_activation False\n",
            "152 block6a_dwconv2 False\n",
            "153 block6a_bn False\n",
            "154 block6a_activation False\n",
            "155 block6a_se_squeeze False\n",
            "156 block6a_se_reshape False\n",
            "157 block6a_se_reduce False\n",
            "158 block6a_se_expand False\n",
            "159 block6a_se_excite False\n",
            "160 block6a_project_conv False\n",
            "161 block6a_project_bn False\n",
            "162 block6b_expand_conv False\n",
            "163 block6b_expand_bn False\n",
            "164 block6b_expand_activation False\n",
            "165 block6b_dwconv2 False\n",
            "166 block6b_bn False\n",
            "167 block6b_activation False\n",
            "168 block6b_se_squeeze False\n",
            "169 block6b_se_reshape False\n",
            "170 block6b_se_reduce False\n",
            "171 block6b_se_expand False\n",
            "172 block6b_se_excite False\n",
            "173 block6b_project_conv False\n",
            "174 block6b_project_bn False\n",
            "175 block6b_drop False\n",
            "176 block6b_add False\n",
            "177 block6c_expand_conv False\n",
            "178 block6c_expand_bn False\n",
            "179 block6c_expand_activation False\n",
            "180 block6c_dwconv2 False\n",
            "181 block6c_bn False\n",
            "182 block6c_activation False\n",
            "183 block6c_se_squeeze False\n",
            "184 block6c_se_reshape False\n",
            "185 block6c_se_reduce False\n",
            "186 block6c_se_expand False\n",
            "187 block6c_se_excite False\n",
            "188 block6c_project_conv False\n",
            "189 block6c_project_bn False\n",
            "190 block6c_drop False\n",
            "191 block6c_add False\n",
            "192 block6d_expand_conv False\n",
            "193 block6d_expand_bn False\n",
            "194 block6d_expand_activation False\n",
            "195 block6d_dwconv2 False\n",
            "196 block6d_bn False\n",
            "197 block6d_activation False\n",
            "198 block6d_se_squeeze False\n",
            "199 block6d_se_reshape False\n",
            "200 block6d_se_reduce False\n",
            "201 block6d_se_expand False\n",
            "202 block6d_se_excite False\n",
            "203 block6d_project_conv False\n",
            "204 block6d_project_bn False\n",
            "205 block6d_drop False\n",
            "206 block6d_add False\n",
            "207 block6e_expand_conv False\n",
            "208 block6e_expand_bn False\n",
            "209 block6e_expand_activation False\n",
            "210 block6e_dwconv2 False\n",
            "211 block6e_bn False\n",
            "212 block6e_activation False\n",
            "213 block6e_se_squeeze False\n",
            "214 block6e_se_reshape False\n",
            "215 block6e_se_reduce False\n",
            "216 block6e_se_expand False\n",
            "217 block6e_se_excite False\n",
            "218 block6e_project_conv False\n",
            "219 block6e_project_bn False\n",
            "220 block6e_drop False\n",
            "221 block6e_add False\n",
            "222 block6f_expand_conv False\n",
            "223 block6f_expand_bn False\n",
            "224 block6f_expand_activation False\n",
            "225 block6f_dwconv2 False\n",
            "226 block6f_bn False\n",
            "227 block6f_activation False\n",
            "228 block6f_se_squeeze False\n",
            "229 block6f_se_reshape False\n",
            "230 block6f_se_reduce False\n",
            "231 block6f_se_expand False\n",
            "232 block6f_se_excite False\n",
            "233 block6f_project_conv False\n",
            "234 block6f_project_bn False\n",
            "235 block6f_drop False\n",
            "236 block6f_add False\n",
            "237 block6g_expand_conv False\n",
            "238 block6g_expand_bn False\n",
            "239 block6g_expand_activation False\n",
            "240 block6g_dwconv2 False\n",
            "241 block6g_bn False\n",
            "242 block6g_activation False\n",
            "243 block6g_se_squeeze False\n",
            "244 block6g_se_reshape False\n",
            "245 block6g_se_reduce False\n",
            "246 block6g_se_expand False\n",
            "247 block6g_se_excite False\n",
            "248 block6g_project_conv False\n",
            "249 block6g_project_bn False\n",
            "250 block6g_drop False\n",
            "251 block6g_add False\n",
            "252 block6h_expand_conv False\n",
            "253 block6h_expand_bn False\n",
            "254 block6h_expand_activation False\n",
            "255 block6h_dwconv2 False\n",
            "256 block6h_bn False\n",
            "257 block6h_activation False\n",
            "258 block6h_se_squeeze False\n",
            "259 block6h_se_reshape False\n",
            "260 block6h_se_reduce False\n",
            "261 block6h_se_expand False\n",
            "262 block6h_se_excite False\n",
            "263 block6h_project_conv False\n",
            "264 block6h_project_bn False\n",
            "265 block6h_drop False\n",
            "266 block6h_add False\n",
            "267 top_conv False\n",
            "268 top_bn False\n",
            "269 top_activation False\n"
          ]
        }
      ]
    },
    {
      "cell_type": "code",
      "source": [
        "base_model.trainable = True\n",
        "\n",
        "for layer in base_model.layers[:-10]:\n",
        "    layer.trainable = False"
      ],
      "metadata": {
        "execution": {
          "iopub.status.busy": "2023-06-09T10:16:38.207117Z",
          "iopub.execute_input": "2023-06-09T10:16:38.207590Z",
          "iopub.status.idle": "2023-06-09T10:16:38.231986Z",
          "shell.execute_reply.started": "2023-06-09T10:16:38.207559Z",
          "shell.execute_reply": "2023-06-09T10:16:38.231153Z"
        },
        "trusted": true,
        "id": "ZdIH5xgt0hZK"
      },
      "execution_count": 60,
      "outputs": []
    },
    {
      "cell_type": "code",
      "source": [
        "model_2.compile(loss=\"categorical_crossentropy\",\n",
        "               optimizer=tf.keras.optimizers.Adam(learning_rate=0.0001), # lr is 10x lower for fine tuning\n",
        "               metrics=[\"accuracy\"])"
      ],
      "metadata": {
        "execution": {
          "iopub.status.busy": "2023-06-09T10:16:38.234051Z",
          "iopub.execute_input": "2023-06-09T10:16:38.234653Z",
          "iopub.status.idle": "2023-06-09T10:16:38.252857Z",
          "shell.execute_reply.started": "2023-06-09T10:16:38.234622Z",
          "shell.execute_reply": "2023-06-09T10:16:38.251853Z"
        },
        "trusted": true,
        "id": "piBT53x70hZK"
      },
      "execution_count": 61,
      "outputs": []
    },
    {
      "cell_type": "code",
      "source": [
        "for layer in model_2.layers:\n",
        "    print(layer.trainable)"
      ],
      "metadata": {
        "execution": {
          "iopub.status.busy": "2023-06-09T10:16:38.255562Z",
          "iopub.execute_input": "2023-06-09T10:16:38.256183Z",
          "iopub.status.idle": "2023-06-09T10:16:38.262566Z",
          "shell.execute_reply.started": "2023-06-09T10:16:38.256144Z",
          "shell.execute_reply": "2023-06-09T10:16:38.261298Z"
        },
        "trusted": true,
        "colab": {
          "base_uri": "https://localhost:8080/"
        },
        "id": "gfjyqfjf0hZK",
        "outputId": "2af08b4a-0065-48e3-a4d1-4fc7e3ffc706"
      },
      "execution_count": 62,
      "outputs": [
        {
          "output_type": "stream",
          "name": "stdout",
          "text": [
            "True\n",
            "True\n",
            "True\n",
            "True\n",
            "True\n"
          ]
        }
      ]
    },
    {
      "cell_type": "code",
      "source": [
        "for layer_number, layer in enumerate(base_model.layers):\n",
        "    print(layer_number, layer.name, layer.trainable)"
      ],
      "metadata": {
        "execution": {
          "iopub.status.busy": "2023-06-09T10:16:38.264280Z",
          "iopub.execute_input": "2023-06-09T10:16:38.265005Z",
          "iopub.status.idle": "2023-06-09T10:16:38.278295Z",
          "shell.execute_reply.started": "2023-06-09T10:16:38.264973Z",
          "shell.execute_reply": "2023-06-09T10:16:38.276809Z"
        },
        "trusted": true,
        "colab": {
          "base_uri": "https://localhost:8080/"
        },
        "id": "VEEQLYfi0hZK",
        "outputId": "534fb67a-02fc-4972-c0a7-d0c3c12d82e7"
      },
      "execution_count": 63,
      "outputs": [
        {
          "output_type": "stream",
          "name": "stdout",
          "text": [
            "0 input_2 False\n",
            "1 rescaling_2 False\n",
            "2 normalization_1 False\n",
            "3 stem_conv False\n",
            "4 stem_bn False\n",
            "5 stem_activation False\n",
            "6 block1a_project_conv False\n",
            "7 block1a_project_bn False\n",
            "8 block1a_project_activation False\n",
            "9 block2a_expand_conv False\n",
            "10 block2a_expand_bn False\n",
            "11 block2a_expand_activation False\n",
            "12 block2a_project_conv False\n",
            "13 block2a_project_bn False\n",
            "14 block2b_expand_conv False\n",
            "15 block2b_expand_bn False\n",
            "16 block2b_expand_activation False\n",
            "17 block2b_project_conv False\n",
            "18 block2b_project_bn False\n",
            "19 block2b_drop False\n",
            "20 block2b_add False\n",
            "21 block3a_expand_conv False\n",
            "22 block3a_expand_bn False\n",
            "23 block3a_expand_activation False\n",
            "24 block3a_project_conv False\n",
            "25 block3a_project_bn False\n",
            "26 block3b_expand_conv False\n",
            "27 block3b_expand_bn False\n",
            "28 block3b_expand_activation False\n",
            "29 block3b_project_conv False\n",
            "30 block3b_project_bn False\n",
            "31 block3b_drop False\n",
            "32 block3b_add False\n",
            "33 block4a_expand_conv False\n",
            "34 block4a_expand_bn False\n",
            "35 block4a_expand_activation False\n",
            "36 block4a_dwconv2 False\n",
            "37 block4a_bn False\n",
            "38 block4a_activation False\n",
            "39 block4a_se_squeeze False\n",
            "40 block4a_se_reshape False\n",
            "41 block4a_se_reduce False\n",
            "42 block4a_se_expand False\n",
            "43 block4a_se_excite False\n",
            "44 block4a_project_conv False\n",
            "45 block4a_project_bn False\n",
            "46 block4b_expand_conv False\n",
            "47 block4b_expand_bn False\n",
            "48 block4b_expand_activation False\n",
            "49 block4b_dwconv2 False\n",
            "50 block4b_bn False\n",
            "51 block4b_activation False\n",
            "52 block4b_se_squeeze False\n",
            "53 block4b_se_reshape False\n",
            "54 block4b_se_reduce False\n",
            "55 block4b_se_expand False\n",
            "56 block4b_se_excite False\n",
            "57 block4b_project_conv False\n",
            "58 block4b_project_bn False\n",
            "59 block4b_drop False\n",
            "60 block4b_add False\n",
            "61 block4c_expand_conv False\n",
            "62 block4c_expand_bn False\n",
            "63 block4c_expand_activation False\n",
            "64 block4c_dwconv2 False\n",
            "65 block4c_bn False\n",
            "66 block4c_activation False\n",
            "67 block4c_se_squeeze False\n",
            "68 block4c_se_reshape False\n",
            "69 block4c_se_reduce False\n",
            "70 block4c_se_expand False\n",
            "71 block4c_se_excite False\n",
            "72 block4c_project_conv False\n",
            "73 block4c_project_bn False\n",
            "74 block4c_drop False\n",
            "75 block4c_add False\n",
            "76 block5a_expand_conv False\n",
            "77 block5a_expand_bn False\n",
            "78 block5a_expand_activation False\n",
            "79 block5a_dwconv2 False\n",
            "80 block5a_bn False\n",
            "81 block5a_activation False\n",
            "82 block5a_se_squeeze False\n",
            "83 block5a_se_reshape False\n",
            "84 block5a_se_reduce False\n",
            "85 block5a_se_expand False\n",
            "86 block5a_se_excite False\n",
            "87 block5a_project_conv False\n",
            "88 block5a_project_bn False\n",
            "89 block5b_expand_conv False\n",
            "90 block5b_expand_bn False\n",
            "91 block5b_expand_activation False\n",
            "92 block5b_dwconv2 False\n",
            "93 block5b_bn False\n",
            "94 block5b_activation False\n",
            "95 block5b_se_squeeze False\n",
            "96 block5b_se_reshape False\n",
            "97 block5b_se_reduce False\n",
            "98 block5b_se_expand False\n",
            "99 block5b_se_excite False\n",
            "100 block5b_project_conv False\n",
            "101 block5b_project_bn False\n",
            "102 block5b_drop False\n",
            "103 block5b_add False\n",
            "104 block5c_expand_conv False\n",
            "105 block5c_expand_bn False\n",
            "106 block5c_expand_activation False\n",
            "107 block5c_dwconv2 False\n",
            "108 block5c_bn False\n",
            "109 block5c_activation False\n",
            "110 block5c_se_squeeze False\n",
            "111 block5c_se_reshape False\n",
            "112 block5c_se_reduce False\n",
            "113 block5c_se_expand False\n",
            "114 block5c_se_excite False\n",
            "115 block5c_project_conv False\n",
            "116 block5c_project_bn False\n",
            "117 block5c_drop False\n",
            "118 block5c_add False\n",
            "119 block5d_expand_conv False\n",
            "120 block5d_expand_bn False\n",
            "121 block5d_expand_activation False\n",
            "122 block5d_dwconv2 False\n",
            "123 block5d_bn False\n",
            "124 block5d_activation False\n",
            "125 block5d_se_squeeze False\n",
            "126 block5d_se_reshape False\n",
            "127 block5d_se_reduce False\n",
            "128 block5d_se_expand False\n",
            "129 block5d_se_excite False\n",
            "130 block5d_project_conv False\n",
            "131 block5d_project_bn False\n",
            "132 block5d_drop False\n",
            "133 block5d_add False\n",
            "134 block5e_expand_conv False\n",
            "135 block5e_expand_bn False\n",
            "136 block5e_expand_activation False\n",
            "137 block5e_dwconv2 False\n",
            "138 block5e_bn False\n",
            "139 block5e_activation False\n",
            "140 block5e_se_squeeze False\n",
            "141 block5e_se_reshape False\n",
            "142 block5e_se_reduce False\n",
            "143 block5e_se_expand False\n",
            "144 block5e_se_excite False\n",
            "145 block5e_project_conv False\n",
            "146 block5e_project_bn False\n",
            "147 block5e_drop False\n",
            "148 block5e_add False\n",
            "149 block6a_expand_conv False\n",
            "150 block6a_expand_bn False\n",
            "151 block6a_expand_activation False\n",
            "152 block6a_dwconv2 False\n",
            "153 block6a_bn False\n",
            "154 block6a_activation False\n",
            "155 block6a_se_squeeze False\n",
            "156 block6a_se_reshape False\n",
            "157 block6a_se_reduce False\n",
            "158 block6a_se_expand False\n",
            "159 block6a_se_excite False\n",
            "160 block6a_project_conv False\n",
            "161 block6a_project_bn False\n",
            "162 block6b_expand_conv False\n",
            "163 block6b_expand_bn False\n",
            "164 block6b_expand_activation False\n",
            "165 block6b_dwconv2 False\n",
            "166 block6b_bn False\n",
            "167 block6b_activation False\n",
            "168 block6b_se_squeeze False\n",
            "169 block6b_se_reshape False\n",
            "170 block6b_se_reduce False\n",
            "171 block6b_se_expand False\n",
            "172 block6b_se_excite False\n",
            "173 block6b_project_conv False\n",
            "174 block6b_project_bn False\n",
            "175 block6b_drop False\n",
            "176 block6b_add False\n",
            "177 block6c_expand_conv False\n",
            "178 block6c_expand_bn False\n",
            "179 block6c_expand_activation False\n",
            "180 block6c_dwconv2 False\n",
            "181 block6c_bn False\n",
            "182 block6c_activation False\n",
            "183 block6c_se_squeeze False\n",
            "184 block6c_se_reshape False\n",
            "185 block6c_se_reduce False\n",
            "186 block6c_se_expand False\n",
            "187 block6c_se_excite False\n",
            "188 block6c_project_conv False\n",
            "189 block6c_project_bn False\n",
            "190 block6c_drop False\n",
            "191 block6c_add False\n",
            "192 block6d_expand_conv False\n",
            "193 block6d_expand_bn False\n",
            "194 block6d_expand_activation False\n",
            "195 block6d_dwconv2 False\n",
            "196 block6d_bn False\n",
            "197 block6d_activation False\n",
            "198 block6d_se_squeeze False\n",
            "199 block6d_se_reshape False\n",
            "200 block6d_se_reduce False\n",
            "201 block6d_se_expand False\n",
            "202 block6d_se_excite False\n",
            "203 block6d_project_conv False\n",
            "204 block6d_project_bn False\n",
            "205 block6d_drop False\n",
            "206 block6d_add False\n",
            "207 block6e_expand_conv False\n",
            "208 block6e_expand_bn False\n",
            "209 block6e_expand_activation False\n",
            "210 block6e_dwconv2 False\n",
            "211 block6e_bn False\n",
            "212 block6e_activation False\n",
            "213 block6e_se_squeeze False\n",
            "214 block6e_se_reshape False\n",
            "215 block6e_se_reduce False\n",
            "216 block6e_se_expand False\n",
            "217 block6e_se_excite False\n",
            "218 block6e_project_conv False\n",
            "219 block6e_project_bn False\n",
            "220 block6e_drop False\n",
            "221 block6e_add False\n",
            "222 block6f_expand_conv False\n",
            "223 block6f_expand_bn False\n",
            "224 block6f_expand_activation False\n",
            "225 block6f_dwconv2 False\n",
            "226 block6f_bn False\n",
            "227 block6f_activation False\n",
            "228 block6f_se_squeeze False\n",
            "229 block6f_se_reshape False\n",
            "230 block6f_se_reduce False\n",
            "231 block6f_se_expand False\n",
            "232 block6f_se_excite False\n",
            "233 block6f_project_conv False\n",
            "234 block6f_project_bn False\n",
            "235 block6f_drop False\n",
            "236 block6f_add False\n",
            "237 block6g_expand_conv False\n",
            "238 block6g_expand_bn False\n",
            "239 block6g_expand_activation False\n",
            "240 block6g_dwconv2 False\n",
            "241 block6g_bn False\n",
            "242 block6g_activation False\n",
            "243 block6g_se_squeeze False\n",
            "244 block6g_se_reshape False\n",
            "245 block6g_se_reduce False\n",
            "246 block6g_se_expand False\n",
            "247 block6g_se_excite False\n",
            "248 block6g_project_conv False\n",
            "249 block6g_project_bn False\n",
            "250 block6g_drop False\n",
            "251 block6g_add False\n",
            "252 block6h_expand_conv False\n",
            "253 block6h_expand_bn False\n",
            "254 block6h_expand_activation False\n",
            "255 block6h_dwconv2 False\n",
            "256 block6h_bn False\n",
            "257 block6h_activation False\n",
            "258 block6h_se_squeeze False\n",
            "259 block6h_se_reshape False\n",
            "260 block6h_se_reduce True\n",
            "261 block6h_se_expand True\n",
            "262 block6h_se_excite True\n",
            "263 block6h_project_conv True\n",
            "264 block6h_project_bn True\n",
            "265 block6h_drop True\n",
            "266 block6h_add True\n",
            "267 top_conv True\n",
            "268 top_bn True\n",
            "269 top_activation True\n"
          ]
        }
      ]
    },
    {
      "cell_type": "markdown",
      "source": [
        "Last 10 layers are now trainabale"
      ],
      "metadata": {
        "id": "zFnUymEi0hZL"
      }
    },
    {
      "cell_type": "code",
      "source": [
        "print(len(model_2.layers[2].trainable_variables))"
      ],
      "metadata": {
        "execution": {
          "iopub.status.busy": "2023-06-09T10:16:38.280229Z",
          "iopub.execute_input": "2023-06-09T10:16:38.280633Z",
          "iopub.status.idle": "2023-06-09T10:16:38.287536Z",
          "shell.execute_reply.started": "2023-06-09T10:16:38.280568Z",
          "shell.execute_reply": "2023-06-09T10:16:38.286446Z"
        },
        "trusted": true,
        "colab": {
          "base_uri": "https://localhost:8080/"
        },
        "id": "NFnrTpWA0hZL",
        "outputId": "bbf4584d-4379-40ec-9384-a797488fa17f"
      },
      "execution_count": 64,
      "outputs": [
        {
          "output_type": "stream",
          "name": "stdout",
          "text": [
            "10\n"
          ]
        }
      ]
    },
    {
      "cell_type": "code",
      "source": [
        "model_2_history.epoch"
      ],
      "metadata": {
        "execution": {
          "iopub.status.busy": "2023-06-09T10:16:38.289282Z",
          "iopub.execute_input": "2023-06-09T10:16:38.289708Z",
          "iopub.status.idle": "2023-06-09T10:16:38.300283Z",
          "shell.execute_reply.started": "2023-06-09T10:16:38.289674Z",
          "shell.execute_reply": "2023-06-09T10:16:38.298931Z"
        },
        "trusted": true,
        "colab": {
          "base_uri": "https://localhost:8080/"
        },
        "id": "hxOxYSD80hZL",
        "outputId": "eff842a3-4726-40f7-a348-d52b3eda0649"
      },
      "execution_count": 65,
      "outputs": [
        {
          "output_type": "execute_result",
          "data": {
            "text/plain": [
              "[0, 1, 2, 3, 4]"
            ]
          },
          "metadata": {},
          "execution_count": 65
        }
      ]
    },
    {
      "cell_type": "code",
      "source": [
        "fine_tune_epochs = 5 + 5\n",
        "\n",
        "model_3_history = model_2.fit(train_data_10_percent,\n",
        "                             epochs=fine_tune_epochs,\n",
        "                             validation_data=test_data,\n",
        "                             initial_epoch=model_2_history.epoch[-1],\n",
        "                             validation_steps=int(0.25 * len(test_data)),\n",
        "                             callbacks=[create_tensorboard_callback(\"transfer_learning\", \"unfrizing_some_layer_of_base_model\")])"
      ],
      "metadata": {
        "execution": {
          "iopub.status.busy": "2023-06-09T10:16:38.302032Z",
          "iopub.execute_input": "2023-06-09T10:16:38.302355Z",
          "iopub.status.idle": "2023-06-09T10:18:24.402512Z",
          "shell.execute_reply.started": "2023-06-09T10:16:38.302326Z",
          "shell.execute_reply": "2023-06-09T10:18:24.401410Z"
        },
        "trusted": true,
        "colab": {
          "base_uri": "https://localhost:8080/"
        },
        "id": "QE51jtIq0hZM",
        "outputId": "e3523699-4445-43a1-cafb-62e2812e64a9"
      },
      "execution_count": 66,
      "outputs": [
        {
          "output_type": "stream",
          "name": "stdout",
          "text": [
            "Saving TensorBoard log files to: transfer_learning/unfrizing_some_layer_of_base_model/20230609-154704\n",
            "Epoch 5/10\n",
            "24/24 [==============================] - 28s 658ms/step - loss: 0.8027 - accuracy: 0.7720 - val_loss: 0.5300 - val_accuracy: 0.8372\n",
            "Epoch 6/10\n",
            "24/24 [==============================] - 13s 495ms/step - loss: 0.6800 - accuracy: 0.7893 - val_loss: 0.4964 - val_accuracy: 0.8421\n",
            "Epoch 7/10\n",
            "24/24 [==============================] - 13s 524ms/step - loss: 0.6254 - accuracy: 0.7973 - val_loss: 0.4593 - val_accuracy: 0.8470\n",
            "Epoch 8/10\n",
            "24/24 [==============================] - 13s 533ms/step - loss: 0.6087 - accuracy: 0.8200 - val_loss: 0.4586 - val_accuracy: 0.8503\n",
            "Epoch 9/10\n",
            "24/24 [==============================] - 12s 484ms/step - loss: 0.5533 - accuracy: 0.8253 - val_loss: 0.4320 - val_accuracy: 0.8668\n",
            "Epoch 10/10\n",
            "24/24 [==============================] - 12s 498ms/step - loss: 0.5432 - accuracy: 0.8293 - val_loss: 0.4203 - val_accuracy: 0.8651\n"
          ]
        }
      ]
    },
    {
      "cell_type": "code",
      "source": [
        "results_fine_tune_10_percent = model_2.evaluate(test_data)"
      ],
      "metadata": {
        "execution": {
          "iopub.status.busy": "2023-06-09T10:18:24.404213Z",
          "iopub.execute_input": "2023-06-09T10:18:24.404914Z",
          "iopub.status.idle": "2023-06-09T10:18:30.630413Z",
          "shell.execute_reply.started": "2023-06-09T10:18:24.404874Z",
          "shell.execute_reply": "2023-06-09T10:18:30.629315Z"
        },
        "trusted": true,
        "colab": {
          "base_uri": "https://localhost:8080/"
        },
        "id": "b3cnv9f_0hZM",
        "outputId": "3d637beb-4fec-421a-8d55-59759c8477ba"
      },
      "execution_count": 67,
      "outputs": [
        {
          "output_type": "stream",
          "name": "stdout",
          "text": [
            "79/79 [==============================] - 7s 84ms/step - loss: 0.4582 - accuracy: 0.8444\n"
          ]
        }
      ]
    },
    {
      "cell_type": "code",
      "source": [
        "\n",
        "def compare_historys(original_history, new_history, initial_epochs=5):\n",
        "    \"\"\"\n",
        "    Compares two model history objects.\n",
        "    \"\"\"\n",
        "    # Get original history measurements\n",
        "    acc = original_history.history[\"accuracy\"]\n",
        "    loss = original_history.history[\"loss\"]\n",
        "\n",
        "    val_acc = original_history.history[\"val_accuracy\"]\n",
        "    val_loss = original_history.history[\"val_loss\"]\n",
        "\n",
        "    # Combine original history with new history\n",
        "    total_acc = acc + new_history.history[\"accuracy\"]\n",
        "    total_loss = loss + new_history.history[\"loss\"]\n",
        "\n",
        "    total_val_acc = val_acc + new_history.history[\"val_accuracy\"]\n",
        "    total_val_loss = val_loss + new_history.history[\"val_loss\"]\n",
        "\n",
        "    # Make plots\n",
        "    plt.figure(figsize=(8, 8))\n",
        "    plt.subplot(2, 1, 1)\n",
        "    plt.plot(total_acc, label='Training Accuracy')\n",
        "    plt.plot(total_val_acc, label='Validation Accuracy')\n",
        "    plt.plot([initial_epochs-1, initial_epochs-1],\n",
        "              plt.ylim(), label='Start Fine Tuning') # reshift plot around epochs\n",
        "    plt.legend(loc='lower right')\n",
        "    plt.title('Training and Validation Accuracy')\n",
        "\n",
        "    plt.subplot(2, 1, 2)\n",
        "    plt.plot(total_loss, label='Training Loss')\n",
        "    plt.plot(total_val_loss, label='Validation Loss')\n",
        "    plt.plot([initial_epochs-1, initial_epochs-1],\n",
        "              plt.ylim(), label='Start Fine Tuning') # reshift plot around epochs\n",
        "    plt.legend(loc='upper right')\n",
        "    plt.title('Training and Validation Loss')\n",
        "    plt.xlabel('epoch')\n",
        "    plt.show()"
      ],
      "metadata": {
        "execution": {
          "iopub.status.busy": "2023-06-09T10:18:30.633715Z",
          "iopub.execute_input": "2023-06-09T10:18:30.634069Z",
          "iopub.status.idle": "2023-06-09T10:18:30.646130Z",
          "shell.execute_reply.started": "2023-06-09T10:18:30.634039Z",
          "shell.execute_reply": "2023-06-09T10:18:30.644981Z"
        },
        "trusted": true,
        "id": "9YTAbddw0hZM"
      },
      "execution_count": 68,
      "outputs": []
    },
    {
      "cell_type": "code",
      "source": [
        "compare_historys(model_2_history, model_3_history)"
      ],
      "metadata": {
        "execution": {
          "iopub.status.busy": "2023-06-09T10:18:30.647785Z",
          "iopub.execute_input": "2023-06-09T10:18:30.648607Z",
          "iopub.status.idle": "2023-06-09T10:18:31.193169Z",
          "shell.execute_reply.started": "2023-06-09T10:18:30.648571Z",
          "shell.execute_reply": "2023-06-09T10:18:31.192285Z"
        },
        "trusted": true,
        "colab": {
          "base_uri": "https://localhost:8080/",
          "height": 718
        },
        "id": "nI2uP69V0hZM",
        "outputId": "6b8b3a57-6df0-43cd-b9b3-994d6bf68b31"
      },
      "execution_count": 69,
      "outputs": [
        {
          "output_type": "display_data",
          "data": {
            "text/plain": [
              "<Figure size 800x800 with 2 Axes>"
            ],
            "image/png": "[encoded data removed]"
          },
          "metadata": {}
        }
      ]
    },
    {
      "cell_type": "markdown",
      "source": [
        "### `model_4`"
      ],
      "metadata": {
        "id": "b_FKte0e0hZN"
      }
    },
    {
      "cell_type": "code",
      "source": [
        "import tensorflow as tf\n",
        "from tensorflow import keras\n",
        "from tensorflow.keras import layers"
      ],
      "metadata": {
        "execution": {
          "iopub.status.busy": "2023-06-09T10:18:31.194596Z",
          "iopub.execute_input": "2023-06-09T10:18:31.195661Z",
          "iopub.status.idle": "2023-06-09T10:18:31.201635Z",
          "shell.execute_reply.started": "2023-06-09T10:18:31.195624Z",
          "shell.execute_reply": "2023-06-09T10:18:31.200680Z"
        },
        "trusted": true,
        "id": "sFZ6zF1t0hZN"
      },
      "execution_count": 70,
      "outputs": []
    },
    {
      "cell_type": "code",
      "source": [
        "!wget https://storage.googleapis.com/ztm_tf_course/food_vision/10_food_classes_all_data.zip"
      ],
      "metadata": {
        "execution": {
          "iopub.status.busy": "2023-06-09T10:18:31.202926Z",
          "iopub.execute_input": "2023-06-09T10:18:31.203677Z",
          "iopub.status.idle": "2023-06-09T10:18:34.308181Z",
          "shell.execute_reply.started": "2023-06-09T10:18:31.203641Z",
          "shell.execute_reply": "2023-06-09T10:18:34.307054Z"
        },
        "trusted": true,
        "colab": {
          "base_uri": "https://localhost:8080/"
        },
        "id": "6DG__ork0hZN",
        "outputId": "7c0bf961-f4ef-4ee7-bae9-74802d5010d3"
      },
      "execution_count": 71,
      "outputs": [
        {
          "output_type": "stream",
          "name": "stdout",
          "text": [
            "--2023-06-09 15:48:51--  https://storage.googleapis.com/ztm_tf_course/food_vision/10_food_classes_all_data.zip\n",
            "Resolving storage.googleapis.com (storage.googleapis.com)... 142.250.145.128, 173.194.69.128, 173.194.79.128, ...\n",
            "Connecting to storage.googleapis.com (storage.googleapis.com)|142.250.145.128|:443... connected.\n",
            "HTTP request sent, awaiting response... 200 OK\n",
            "Length: 519183241 (495M) [application/zip]\n",
            "Saving to: ‘10_food_classes_all_data.zip’\n",
            "\n",
            "10_food_classes_all 100%[===================>] 495.13M  25.0MB/s    in 26s     \n",
            "\n",
            "2023-06-09 15:49:18 (18.9 MB/s) - ‘10_food_classes_all_data.zip’ saved [519183241/519183241]\n",
            "\n"
          ]
        }
      ]
    },
    {
      "cell_type": "code",
      "source": [
        "unzip_data(\"10_food_classes_all_data.zip\")"
      ],
      "metadata": {
        "execution": {
          "iopub.status.busy": "2023-06-09T10:18:34.309915Z",
          "iopub.execute_input": "2023-06-09T10:18:34.310278Z",
          "iopub.status.idle": "2023-06-09T10:18:40.224227Z",
          "shell.execute_reply.started": "2023-06-09T10:18:34.310247Z",
          "shell.execute_reply": "2023-06-09T10:18:40.223192Z"
        },
        "trusted": true,
        "id": "wDOz7eD20hZN"
      },
      "execution_count": 72,
      "outputs": []
    },
    {
      "cell_type": "code",
      "source": [
        "walk_through_dir(\"10_food_classes_all_data\")"
      ],
      "metadata": {
        "execution": {
          "iopub.status.busy": "2023-06-09T10:18:40.225759Z",
          "iopub.execute_input": "2023-06-09T10:18:40.230355Z",
          "iopub.status.idle": "2023-06-09T10:18:40.259254Z",
          "shell.execute_reply.started": "2023-06-09T10:18:40.230320Z",
          "shell.execute_reply": "2023-06-09T10:18:40.258434Z"
        },
        "trusted": true,
        "colab": {
          "base_uri": "https://localhost:8080/"
        },
        "id": "h3SxX9ab0hZN",
        "outputId": "2f1794f5-3ec4-440f-883a-93dda5b00a62"
      },
      "execution_count": 73,
      "outputs": [
        {
          "output_type": "stream",
          "name": "stdout",
          "text": [
            "There are 2 directories and 0 images in '10_food_classes_all_data'.\n",
            "There are 10 directories and 0 images in '10_food_classes_all_data/train'.\n",
            "There are 0 directories and 750 images in '10_food_classes_all_data/train/pizza'.\n",
            "There are 0 directories and 750 images in '10_food_classes_all_data/train/ramen'.\n",
            "There are 0 directories and 750 images in '10_food_classes_all_data/train/fried_rice'.\n",
            "There are 0 directories and 750 images in '10_food_classes_all_data/train/chicken_curry'.\n",
            "There are 0 directories and 750 images in '10_food_classes_all_data/train/grilled_salmon'.\n",
            "There are 0 directories and 750 images in '10_food_classes_all_data/train/steak'.\n",
            "There are 0 directories and 750 images in '10_food_classes_all_data/train/chicken_wings'.\n",
            "There are 0 directories and 750 images in '10_food_classes_all_data/train/hamburger'.\n",
            "There are 0 directories and 750 images in '10_food_classes_all_data/train/ice_cream'.\n",
            "There are 0 directories and 750 images in '10_food_classes_all_data/train/sushi'.\n",
            "There are 10 directories and 0 images in '10_food_classes_all_data/test'.\n",
            "There are 0 directories and 250 images in '10_food_classes_all_data/test/pizza'.\n",
            "There are 0 directories and 250 images in '10_food_classes_all_data/test/ramen'.\n",
            "There are 0 directories and 250 images in '10_food_classes_all_data/test/fried_rice'.\n",
            "There are 0 directories and 250 images in '10_food_classes_all_data/test/chicken_curry'.\n",
            "There are 0 directories and 250 images in '10_food_classes_all_data/test/grilled_salmon'.\n",
            "There are 0 directories and 250 images in '10_food_classes_all_data/test/steak'.\n",
            "There are 0 directories and 250 images in '10_food_classes_all_data/test/chicken_wings'.\n",
            "There are 0 directories and 250 images in '10_food_classes_all_data/test/hamburger'.\n",
            "There are 0 directories and 250 images in '10_food_classes_all_data/test/ice_cream'.\n",
            "There are 0 directories and 250 images in '10_food_classes_all_data/test/sushi'.\n"
          ]
        }
      ]
    },
    {
      "cell_type": "code",
      "source": [
        "train_dir = \"10_food_classes_all_data/train/\"\n",
        "test_dir = \"10_food_classes_all_data/test/\""
      ],
      "metadata": {
        "execution": {
          "iopub.status.busy": "2023-06-09T10:18:40.262265Z",
          "iopub.execute_input": "2023-06-09T10:18:40.265343Z",
          "iopub.status.idle": "2023-06-09T10:18:40.270498Z",
          "shell.execute_reply.started": "2023-06-09T10:18:40.265305Z",
          "shell.execute_reply": "2023-06-09T10:18:40.269596Z"
        },
        "trusted": true,
        "id": "K1yKwCwX0hZN"
      },
      "execution_count": 74,
      "outputs": []
    },
    {
      "cell_type": "code",
      "source": [
        "train_datagen = keras.preprocessing.image_dataset_from_directory(train_dir,\n",
        "                                                                 label_mode=\"categorical\",\n",
        "                                                                 batch_size=32,\n",
        "                                                                 image_size=(224, 224))\n",
        "\n",
        "test_datagen = keras.preprocessing.image_dataset_from_directory(test_dir,\n",
        "                                                                label_mode=\"categorical\",\n",
        "                                                                batch_size=32,\n",
        "                                                                image_size=(224, 224))"
      ],
      "metadata": {
        "execution": {
          "iopub.status.busy": "2023-06-09T10:18:40.272201Z",
          "iopub.execute_input": "2023-06-09T10:18:40.274220Z",
          "iopub.status.idle": "2023-06-09T10:18:41.185091Z",
          "shell.execute_reply.started": "2023-06-09T10:18:40.274186Z",
          "shell.execute_reply": "2023-06-09T10:18:41.183773Z"
        },
        "trusted": true,
        "colab": {
          "base_uri": "https://localhost:8080/"
        },
        "id": "k7-JmWjE0hZO",
        "outputId": "d3ebd7a2-0931-4b73-c35b-ecd0603f83bf"
      },
      "execution_count": 75,
      "outputs": [
        {
          "output_type": "stream",
          "name": "stdout",
          "text": [
            "Found 7500 files belonging to 10 classes.\n",
            "Found 2500 files belonging to 10 classes.\n"
          ]
        }
      ]
    },
    {
      "cell_type": "code",
      "source": [
        "base_model = tf.keras.applications.EfficientNetV2B0(include_top=False)\n",
        "base_model.trainable = False"
      ],
      "metadata": {
        "execution": {
          "iopub.status.busy": "2023-06-09T10:37:54.796544Z",
          "iopub.execute_input": "2023-06-09T10:37:54.796902Z",
          "iopub.status.idle": "2023-06-09T10:37:57.396540Z",
          "shell.execute_reply.started": "2023-06-09T10:37:54.796874Z",
          "shell.execute_reply": "2023-06-09T10:37:57.395580Z"
        },
        "trusted": true,
        "id": "NBbH7R6q0hZO"
      },
      "execution_count": 76,
      "outputs": []
    },
    {
      "cell_type": "code",
      "source": [
        "image_augmentation = keras.Sequential([\n",
        "    layers.RandomRotation(0.2),\n",
        "    layers.RandomHeight(0.2),\n",
        "    layers.RandomWidth(0.2),\n",
        "    layers.RandomZoom(0.2)\n",
        "])"
      ],
      "metadata": {
        "execution": {
          "iopub.status.busy": "2023-06-09T10:37:58.589637Z",
          "iopub.execute_input": "2023-06-09T10:37:58.590099Z",
          "iopub.status.idle": "2023-06-09T10:37:58.603666Z",
          "shell.execute_reply.started": "2023-06-09T10:37:58.590044Z",
          "shell.execute_reply": "2023-06-09T10:37:58.602648Z"
        },
        "trusted": true,
        "id": "I-kM0FW20hZO"
      },
      "execution_count": 77,
      "outputs": []
    },
    {
      "cell_type": "code",
      "source": [
        "inputs = layers.Input(shape=(224, 224, 3), name=\"input_layer\")\n",
        "\n",
        "x = image_augmentation(inputs)\n",
        "\n",
        "x = base_model(x, training=False)\n",
        "\n",
        "x = layers.GlobalAveragePooling2D()(x)\n",
        "\n",
        "outputs = layers.Dense(10, activation=\"softmax\", name=\"output_layer\")(x)"
      ],
      "metadata": {
        "execution": {
          "iopub.status.busy": "2023-06-09T10:37:59.756708Z",
          "iopub.execute_input": "2023-06-09T10:37:59.757634Z",
          "iopub.status.idle": "2023-06-09T10:38:00.962099Z",
          "shell.execute_reply.started": "2023-06-09T10:37:59.757591Z",
          "shell.execute_reply": "2023-06-09T10:38:00.960998Z"
        },
        "trusted": true,
        "id": "p_MJOemp0hZO"
      },
      "execution_count": 78,
      "outputs": []
    },
    {
      "cell_type": "code",
      "source": [
        "model_4 = keras.Model(inputs, outputs)"
      ],
      "metadata": {
        "execution": {
          "iopub.status.busy": "2023-06-09T10:38:00.964053Z",
          "iopub.execute_input": "2023-06-09T10:38:00.964444Z",
          "iopub.status.idle": "2023-06-09T10:38:00.972885Z",
          "shell.execute_reply.started": "2023-06-09T10:38:00.964410Z",
          "shell.execute_reply": "2023-06-09T10:38:00.971838Z"
        },
        "trusted": true,
        "id": "Wgcyx4x30hZO"
      },
      "execution_count": 79,
      "outputs": []
    },
    {
      "cell_type": "code",
      "source": [
        "model_4.compile(loss=\"categorical_crossentropy\",\n",
        "               optimizer=tf.keras.optimizers.Adam(),\n",
        "               metrics=[\"accuracy\"])"
      ],
      "metadata": {
        "execution": {
          "iopub.status.busy": "2023-06-09T10:38:01.021744Z",
          "iopub.execute_input": "2023-06-09T10:38:01.022009Z",
          "iopub.status.idle": "2023-06-09T10:38:01.039615Z",
          "shell.execute_reply.started": "2023-06-09T10:38:01.021986Z",
          "shell.execute_reply": "2023-06-09T10:38:01.038717Z"
        },
        "trusted": true,
        "id": "b_FxuH330hZP"
      },
      "execution_count": 80,
      "outputs": []
    },
    {
      "cell_type": "code",
      "source": [
        "model_4_history = model_4.fit(train_datagen,\n",
        "                              epochs=5,\n",
        "                              steps_per_epoch=len(train_datagen),\n",
        "                              validation_data=test_datagen,\n",
        "                              validation_steps=int(len(test_datagen) * 0.25),\n",
        "                              callbacks=[create_tensorboard_callback(\"transfer_learning\", \"full_data_augment\")])"
      ],
      "metadata": {
        "execution": {
          "iopub.status.busy": "2023-06-09T10:38:01.856690Z",
          "iopub.execute_input": "2023-06-09T10:38:01.857044Z",
          "iopub.status.idle": "2023-06-09T10:41:03.747112Z",
          "shell.execute_reply.started": "2023-06-09T10:38:01.857014Z",
          "shell.execute_reply": "2023-06-09T10:41:03.746061Z"
        },
        "trusted": true,
        "colab": {
          "base_uri": "https://localhost:8080/"
        },
        "id": "hDTnywFs0hZP",
        "outputId": "0b310639-14d8-4c9e-ef8f-e5296803f47e"
      },
      "execution_count": 81,
      "outputs": [
        {
          "output_type": "stream",
          "name": "stdout",
          "text": [
            "Saving TensorBoard log files to: transfer_learning/full_data_augment/20230609-154929\n",
            "Epoch 1/5\n",
            "235/235 [==============================] - 89s 344ms/step - loss: 1.0957 - accuracy: 0.6813 - val_loss: 0.5082 - val_accuracy: 0.8470\n",
            "Epoch 2/5\n",
            "235/235 [==============================] - 67s 283ms/step - loss: 0.6751 - accuracy: 0.7940 - val_loss: 0.4140 - val_accuracy: 0.8651\n",
            "Epoch 3/5\n",
            "235/235 [==============================] - 61s 259ms/step - loss: 0.5997 - accuracy: 0.8121 - val_loss: 0.3854 - val_accuracy: 0.8734\n",
            "Epoch 4/5\n",
            "235/235 [==============================] - 53s 220ms/step - loss: 0.5622 - accuracy: 0.8232 - val_loss: 0.3404 - val_accuracy: 0.8882\n",
            "Epoch 5/5\n",
            "235/235 [==============================] - 52s 219ms/step - loss: 0.5200 - accuracy: 0.8361 - val_loss: 0.3489 - val_accuracy: 0.8914\n"
          ]
        }
      ]
    },
    {
      "cell_type": "code",
      "source": [
        "model_4.evaluate(test_datagen)"
      ],
      "metadata": {
        "execution": {
          "iopub.status.busy": "2023-06-09T10:41:03.749391Z",
          "iopub.execute_input": "2023-06-09T10:41:03.749834Z",
          "iopub.status.idle": "2023-06-09T10:41:14.004102Z",
          "shell.execute_reply.started": "2023-06-09T10:41:03.749799Z",
          "shell.execute_reply": "2023-06-09T10:41:14.002342Z"
        },
        "trusted": true,
        "colab": {
          "base_uri": "https://localhost:8080/"
        },
        "id": "0r54Ndsa0hZP",
        "outputId": "6c38f74e-064c-4725-fe33-81e0d437d32a"
      },
      "execution_count": 82,
      "outputs": [
        {
          "output_type": "stream",
          "name": "stdout",
          "text": [
            "79/79 [==============================] - 6s 67ms/step - loss: 0.3180 - accuracy: 0.9036\n"
          ]
        },
        {
          "output_type": "execute_result",
          "data": {
            "text/plain": [
              "[0.3180311620235443, 0.9035999774932861]"
            ]
          },
          "metadata": {},
          "execution_count": 82
        }
      ]
    },
    {
      "cell_type": "code",
      "source": [
        "plot_loss_curves(model_4_history)"
      ],
      "metadata": {
        "execution": {
          "iopub.status.busy": "2023-06-09T10:41:14.005765Z",
          "iopub.execute_input": "2023-06-09T10:41:14.006142Z",
          "iopub.status.idle": "2023-06-09T10:41:15.513834Z",
          "shell.execute_reply.started": "2023-06-09T10:41:14.006108Z",
          "shell.execute_reply": "2023-06-09T10:41:15.512657Z"
        },
        "trusted": true,
        "colab": {
          "base_uri": "https://localhost:8080/",
          "height": 927
        },
        "id": "zdlvrDd-0hZP",
        "outputId": "1b05342d-dc14-4024-dd7d-d58c4d50d8b0"
      },
      "execution_count": 83,
      "outputs": [
        {
          "output_type": "display_data",
          "data": {
            "text/plain": [
              "<Figure size 640x480 with 1 Axes>"
            ],
            "image/png": "[encoded data removed]"
          },
          "metadata": {}
        },
        {
          "output_type": "display_data",
          "data": {
            "text/plain": [
              "<Figure size 640x480 with 1 Axes>"
            ],
            "image/png": "[encoded data removed]"
          },
          "metadata": {}
        }
      ]
    },
    {
      "cell_type": "markdown",
      "source": [
        "We will now unfreeze last 10 layers of the `base_model` "
      ],
      "metadata": {
        "id": "yLzr-ILC0hZQ"
      }
    },
    {
      "cell_type": "code",
      "source": [
        "base_model.trainable = True"
      ],
      "metadata": {
        "execution": {
          "iopub.status.busy": "2023-06-09T10:41:15.516672Z",
          "iopub.execute_input": "2023-06-09T10:41:15.517107Z",
          "iopub.status.idle": "2023-06-09T10:41:15.532396Z",
          "shell.execute_reply.started": "2023-06-09T10:41:15.517073Z",
          "shell.execute_reply": "2023-06-09T10:41:15.531426Z"
        },
        "trusted": true,
        "id": "l0JN7vNy0hZQ"
      },
      "execution_count": 84,
      "outputs": []
    },
    {
      "cell_type": "code",
      "source": [
        "for layer in base_model.layers[:-10]:\n",
        "    layer.trainable = False "
      ],
      "metadata": {
        "execution": {
          "iopub.status.busy": "2023-06-09T10:41:15.533709Z",
          "iopub.execute_input": "2023-06-09T10:41:15.534167Z",
          "iopub.status.idle": "2023-06-09T10:41:15.552856Z",
          "shell.execute_reply.started": "2023-06-09T10:41:15.534131Z",
          "shell.execute_reply": "2023-06-09T10:41:15.551983Z"
        },
        "trusted": true,
        "id": "4y1Tomgt0hZQ"
      },
      "execution_count": 85,
      "outputs": []
    },
    {
      "cell_type": "code",
      "source": [
        "model_4.compile(loss=\"categorical_crossentropy\",\n",
        "               optimizer=tf.keras.optimizers.Adam(learning_rate=0.0001), # for scaling reduce th lr by 10x\n",
        "               metrics=[\"accuracy\"])"
      ],
      "metadata": {
        "execution": {
          "iopub.status.busy": "2023-06-09T10:41:15.556211Z",
          "iopub.execute_input": "2023-06-09T10:41:15.556500Z",
          "iopub.status.idle": "2023-06-09T10:41:15.578068Z",
          "shell.execute_reply.started": "2023-06-09T10:41:15.556477Z",
          "shell.execute_reply": "2023-06-09T10:41:15.577143Z"
        },
        "trusted": true,
        "id": "cOuq3za-0hZQ"
      },
      "execution_count": 86,
      "outputs": []
    },
    {
      "cell_type": "code",
      "source": [
        "model_4_unfreeze_history = model_4.fit(train_datagen,\n",
        "                              epochs=10,\n",
        "                              steps_per_epoch=len(train_datagen),\n",
        "                              initial_epoch=model_4_history.epoch[-1],\n",
        "                              validation_data=test_datagen,\n",
        "                              validation_steps=int(len(test_datagen) * 0.25),\n",
        "                              callbacks=[create_tensorboard_callback(\"transfer_learning\", \"full_data_augment_unfrezee\")])"
      ],
      "metadata": {
        "execution": {
          "iopub.status.busy": "2023-06-09T10:41:15.579339Z",
          "iopub.execute_input": "2023-06-09T10:41:15.579762Z",
          "iopub.status.idle": "2023-06-09T10:44:56.447557Z",
          "shell.execute_reply.started": "2023-06-09T10:41:15.579731Z",
          "shell.execute_reply": "2023-06-09T10:44:56.446378Z"
        },
        "trusted": true,
        "colab": {
          "base_uri": "https://localhost:8080/"
        },
        "id": "eRjkeXWB0hZQ",
        "outputId": "9b460d97-78fb-4296-ad3e-e3f1b69661be"
      },
      "execution_count": 87,
      "outputs": [
        {
          "output_type": "stream",
          "name": "stdout",
          "text": [
            "Saving TensorBoard log files to: transfer_learning/full_data_augment_unfrezee/20230609-155619\n",
            "Epoch 5/10\n",
            "235/235 [==============================] - 59s 208ms/step - loss: 0.4836 - accuracy: 0.8449 - val_loss: 0.3113 - val_accuracy: 0.8964\n",
            "Epoch 6/10\n",
            "235/235 [==============================] - 44s 186ms/step - loss: 0.4461 - accuracy: 0.8540 - val_loss: 0.3136 - val_accuracy: 0.8931\n",
            "Epoch 7/10\n",
            "235/235 [==============================] - 47s 198ms/step - loss: 0.4208 - accuracy: 0.8604 - val_loss: 0.2958 - val_accuracy: 0.9112\n",
            "Epoch 8/10\n",
            "235/235 [==============================] - 45s 182ms/step - loss: 0.4058 - accuracy: 0.8648 - val_loss: 0.2845 - val_accuracy: 0.9128\n",
            "Epoch 9/10\n",
            "235/235 [==============================] - 39s 163ms/step - loss: 0.3800 - accuracy: 0.8740 - val_loss: 0.2710 - val_accuracy: 0.9046\n",
            "Epoch 10/10\n",
            "235/235 [==============================] - 37s 154ms/step - loss: 0.3633 - accuracy: 0.8840 - val_loss: 0.2521 - val_accuracy: 0.9178\n"
          ]
        }
      ]
    },
    {
      "cell_type": "code",
      "source": [
        "model_4.evaluate(test_datagen)"
      ],
      "metadata": {
        "execution": {
          "iopub.status.busy": "2023-06-09T10:44:56.449531Z",
          "iopub.execute_input": "2023-06-09T10:44:56.449916Z",
          "iopub.status.idle": "2023-06-09T10:45:02.117262Z",
          "shell.execute_reply.started": "2023-06-09T10:44:56.449881Z",
          "shell.execute_reply": "2023-06-09T10:45:02.116214Z"
        },
        "trusted": true,
        "colab": {
          "base_uri": "https://localhost:8080/"
        },
        "id": "DXgvw6G40hZR",
        "outputId": "7d28c84c-ee3b-4896-df0a-1755645446a6"
      },
      "execution_count": 88,
      "outputs": [
        {
          "output_type": "stream",
          "name": "stdout",
          "text": [
            "79/79 [==============================] - 6s 75ms/step - loss: 0.2390 - accuracy: 0.9268\n"
          ]
        },
        {
          "output_type": "execute_result",
          "data": {
            "text/plain": [
              "[0.2389538586139679, 0.926800012588501]"
            ]
          },
          "metadata": {},
          "execution_count": 88
        }
      ]
    },
    {
      "cell_type": "code",
      "source": [
        "plot_loss_curves(model_4_history)"
      ],
      "metadata": {
        "execution": {
          "iopub.status.busy": "2023-06-09T10:45:02.118676Z",
          "iopub.execute_input": "2023-06-09T10:45:02.119097Z",
          "iopub.status.idle": "2023-06-09T10:45:02.843457Z",
          "shell.execute_reply.started": "2023-06-09T10:45:02.119059Z",
          "shell.execute_reply": "2023-06-09T10:45:02.842394Z"
        },
        "trusted": true,
        "colab": {
          "base_uri": "https://localhost:8080/",
          "height": 927
        },
        "id": "Bl-ijRWt0hZR",
        "outputId": "4e7429a7-8ebe-4f24-cdff-86719f543145"
      },
      "execution_count": 89,
      "outputs": [
        {
          "output_type": "display_data",
          "data": {
            "text/plain": [
              "<Figure size 640x480 with 1 Axes>"
            ],
            "image/png": "[encoded data removed]"
          },
          "metadata": {}
        },
        {
          "output_type": "display_data",
          "data": {
            "text/plain": [
              "<Figure size 640x480 with 1 Axes>"
            ],
            "image/png": "[encoded data removed]"
          },
          "metadata": {}
        }
      ]
    },
    {
      "cell_type": "code",
      "source": [
        "compare_historys(model_4_history, model_4_unfreeze_history)"
      ],
      "metadata": {
        "execution": {
          "iopub.status.busy": "2023-06-09T10:45:02.846472Z",
          "iopub.execute_input": "2023-06-09T10:45:02.846828Z",
          "iopub.status.idle": "2023-06-09T10:45:03.348295Z",
          "shell.execute_reply.started": "2023-06-09T10:45:02.846801Z",
          "shell.execute_reply": "2023-06-09T10:45:03.347285Z"
        },
        "trusted": true,
        "colab": {
          "base_uri": "https://localhost:8080/",
          "height": 718
        },
        "id": "gBT39AOX0hZR",
        "outputId": "f9e8049f-1924-4697-880e-4443d887315d"
      },
      "execution_count": 90,
      "outputs": [
        {
          "output_type": "display_data",
          "data": {
            "text/plain": [
              "<Figure size 800x800 with 2 Axes>"
            ],
            "image/png": "[encoded data removed]"
          },
          "metadata": {}
        }
      ]
    },
    {
      "cell_type": "markdown",
      "source": [
        "### Uploading all models on TensorBoard"
      ],
      "metadata": {
        "id": "gXkBq2-S0hZR"
      }
    },
    {
      "cell_type": "markdown",
      "source": [
        "Link for tensorboard: https://tensorboard.dev/experiment/KTN6bo6PS1CMT7XBaA4ZNA/"
      ],
      "metadata": {
        "id": "qFfUl9kn55mp"
      }
    }
  ]
}