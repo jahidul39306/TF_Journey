{
  "cells": [
    {
      "cell_type": "code",
      "execution_count": 1,
      "id": "9adf0cb3",
      "metadata": {
        "colab": {
          "base_uri": "https://localhost:8080/"
        },
        "id": "9adf0cb3",
        "outputId": "e6db6412-16e8-4865-de77-26fd524a34ad"
      },
      "outputs": [
        {
          "output_type": "stream",
          "name": "stdout",
          "text": [
            "2.12.0\n"
          ]
        }
      ],
      "source": [
        "import tensorflow as tf\n",
        "print(tf.__version__)"
      ]
    },
    {
      "cell_type": "markdown",
      "id": "d6a578ec",
      "metadata": {
        "id": "d6a578ec"
      },
      "source": [
        "# Creating data"
      ]
    },
    {
      "cell_type": "code",
      "execution_count": 2,
      "id": "eef5354c",
      "metadata": {
        "id": "eef5354c"
      },
      "outputs": [],
      "source": [
        "import numpy as np\n",
        "import matplotlib.pyplot as plt"
      ]
    },
    {
      "cell_type": "code",
      "execution_count": 3,
      "id": "a0716fe8",
      "metadata": {
        "colab": {
          "base_uri": "https://localhost:8080/",
          "height": 435
        },
        "id": "a0716fe8",
        "outputId": "59dba151-abc4-4cf6-d75d-7f4571ffb3ea"
      },
      "outputs": [
        {
          "output_type": "display_data",
          "data": {
            "text/plain": [
              "<Figure size 640x480 with 1 Axes>"
            ],
            "image/png": "[encoded data removed]"
          },
          "metadata": {}
        }
      ],
      "source": [
        "#@title\n",
        "X = np.array([-7.0, -4.0, -1.0, 2.0, 5.0, 8.0, 11.0, 14.0])\n",
        "\n",
        "y = np.array([3.0, 6.0, 9.0, 12.0, 15.0, 18.0, 21.0, 24.0])\n",
        "\n",
        "plt.scatter(X, y)\n",
        "plt.show()"
      ]
    },
    {
      "cell_type": "code",
      "execution_count": 4,
      "id": "50ff22ea",
      "metadata": {
        "colab": {
          "base_uri": "https://localhost:8080/"
        },
        "id": "50ff22ea",
        "outputId": "a4cc509b-d099-41ce-87e5-9ab73d4bf0ff"
      },
      "outputs": [
        {
          "output_type": "execute_result",
          "data": {
            "text/plain": [
              "(8,)"
            ]
          },
          "metadata": {},
          "execution_count": 4
        }
      ],
      "source": [
        "X.shape"
      ]
    },
    {
      "cell_type": "code",
      "execution_count": 5,
      "id": "eaab4bde",
      "metadata": {
        "colab": {
          "base_uri": "https://localhost:8080/"
        },
        "id": "eaab4bde",
        "outputId": "87a10ed7-755d-4ffd-9dff-ad46df234c5b"
      },
      "outputs": [
        {
          "output_type": "execute_result",
          "data": {
            "text/plain": [
              "(8,)"
            ]
          },
          "metadata": {},
          "execution_count": 5
        }
      ],
      "source": [
        "y.shape"
      ]
    },
    {
      "cell_type": "code",
      "execution_count": 6,
      "id": "9a3c6b94",
      "metadata": {
        "colab": {
          "base_uri": "https://localhost:8080/"
        },
        "id": "9a3c6b94",
        "outputId": "9ba0bd37-1232-4ba9-cec3-efc9b96ffcf6"
      },
      "outputs": [
        {
          "output_type": "execute_result",
          "data": {
            "text/plain": [
              "()"
            ]
          },
          "metadata": {},
          "execution_count": 6
        }
      ],
      "source": [
        "X[0].shape"
      ]
    },
    {
      "cell_type": "code",
      "execution_count": 7,
      "id": "09bf1244",
      "metadata": {
        "colab": {
          "base_uri": "https://localhost:8080/"
        },
        "id": "09bf1244",
        "outputId": "dac27b07-e562-4b9c-93a1-48e4a517de9b"
      },
      "outputs": [
        {
          "output_type": "execute_result",
          "data": {
            "text/plain": [
              "()"
            ]
          },
          "metadata": {},
          "execution_count": 7
        }
      ],
      "source": [
        "y[0].shape"
      ]
    },
    {
      "cell_type": "markdown",
      "id": "13331453",
      "metadata": {
        "id": "13331453"
      },
      "source": [
        "X[0] and y[0]'s shapes are () this because these are scalar"
      ]
    },
    {
      "cell_type": "code",
      "execution_count": 8,
      "id": "353914d7",
      "metadata": {
        "colab": {
          "base_uri": "https://localhost:8080/"
        },
        "id": "353914d7",
        "outputId": "821088a4-f484-4d69-e62f-263b37133028"
      },
      "outputs": [
        {
          "output_type": "stream",
          "name": "stdout",
          "text": [
            "Epoch 1/5\n",
            "1/1 [==============================] - 1s 652ms/step - loss: 9.4606 - mae: 9.4606\n",
            "Epoch 2/5\n",
            "1/1 [==============================] - 0s 19ms/step - loss: 9.3280 - mae: 9.3280\n",
            "Epoch 3/5\n",
            "1/1 [==============================] - 0s 12ms/step - loss: 9.1955 - mae: 9.1955\n",
            "Epoch 4/5\n",
            "1/1 [==============================] - 0s 10ms/step - loss: 9.0630 - mae: 9.0630\n",
            "Epoch 5/5\n",
            "1/1 [==============================] - 0s 13ms/step - loss: 8.9305 - mae: 8.9305\n"
          ]
        },
        {
          "output_type": "execute_result",
          "data": {
            "text/plain": [
              "<keras.callbacks.History at 0x7f151af46ec0>"
            ]
          },
          "metadata": {},
          "execution_count": 8
        }
      ],
      "source": [
        "tf.random.set_seed(42)\n",
        "\n",
        "model = tf.keras.Sequential([\n",
        "    tf.keras.layers.Dense(1)\n",
        "])\n",
        "\n",
        "model.compile(loss=tf.keras.losses.mae, \n",
        "             optimizer=tf.keras.optimizers.SGD(),\n",
        "             metrics=[\"mae\"])\n",
        "\n",
        "# axis = -1 given because we want the new dimension on the last position\n",
        "# for this model we could have used axis=1; it would give same result\n",
        "# but for general rule we used axis = -1\n",
        "model.fit(tf.expand_dims(X, axis=-1), y, epochs=5)"
      ]
    },
    {
      "cell_type": "code",
      "execution_count": 9,
      "id": "ade7e908",
      "metadata": {
        "colab": {
          "base_uri": "https://localhost:8080/"
        },
        "id": "ade7e908",
        "outputId": "8e66626c-cf35-41f0-d692-18c9ad634842"
      },
      "outputs": [
        {
          "output_type": "stream",
          "name": "stdout",
          "text": [
            "1/1 [==============================] - 0s 106ms/step\n"
          ]
        },
        {
          "output_type": "execute_result",
          "data": {
            "text/plain": [
              "array([[6.6956425]], dtype=float32)"
            ]
          },
          "metadata": {},
          "execution_count": 9
        }
      ],
      "source": [
        "model.predict([5])"
      ]
    },
    {
      "cell_type": "code",
      "execution_count": 10,
      "id": "91cc906e",
      "metadata": {
        "colab": {
          "base_uri": "https://localhost:8080/"
        },
        "id": "91cc906e",
        "outputId": "5646ca9b-a6b2-4311-f5e3-f5838c00a1fa"
      },
      "outputs": [
        {
          "output_type": "stream",
          "name": "stdout",
          "text": [
            "1/1 [==============================] - 0s 45ms/step\n"
          ]
        },
        {
          "output_type": "execute_result",
          "data": {
            "text/plain": [
              "array([[22.645184]], dtype=float32)"
            ]
          },
          "metadata": {},
          "execution_count": 10
        }
      ],
      "source": [
        "# make predictions\n",
        "model.predict([17])"
      ]
    },
    {
      "cell_type": "markdown",
      "source": [
        "# Improving model"
      ],
      "metadata": {
        "id": "DLaWhgkDD6tT"
      },
      "id": "DLaWhgkDD6tT"
    },
    {
      "cell_type": "code",
      "source": [
        "tf.random.set_global_generator(42)\n",
        "\n",
        "model = tf.keras.Sequential([\n",
        "    tf.keras.layers.Dense(1)\n",
        "])\n",
        "\n",
        "model.compile(loss=\"mae\",\n",
        "              optimizer=tf.keras.optimizers.SGD(),\n",
        "              metrics=[\"mae\"])\n",
        "\n",
        "model.fit(tf.expand_dims(X, axis=-1), y, epochs=100)"
      ],
      "metadata": {
        "colab": {
          "base_uri": "https://localhost:8080/"
        },
        "id": "BUcFznHoCrUy",
        "outputId": "52c6dd13-069f-482a-bd0b-583d88e9a325"
      },
      "id": "BUcFznHoCrUy",
      "execution_count": 11,
      "outputs": [
        {
          "output_type": "stream",
          "name": "stdout",
          "text": [
            "Epoch 1/100\n",
            "1/1 [==============================] - 0s 390ms/step - loss: 18.9350 - mae: 18.9350\n",
            "Epoch 2/100\n",
            "1/1 [==============================] - 0s 10ms/step - loss: 18.6537 - mae: 18.6537\n",
            "Epoch 3/100\n",
            "1/1 [==============================] - 0s 11ms/step - loss: 18.3725 - mae: 18.3725\n",
            "Epoch 4/100\n",
            "1/1 [==============================] - 0s 17ms/step - loss: 18.0912 - mae: 18.0912\n",
            "Epoch 5/100\n",
            "1/1 [==============================] - 0s 14ms/step - loss: 17.8100 - mae: 17.8100\n",
            "Epoch 6/100\n",
            "1/1 [==============================] - 0s 10ms/step - loss: 17.5287 - mae: 17.5287\n",
            "Epoch 7/100\n",
            "1/1 [==============================] - 0s 10ms/step - loss: 17.2475 - mae: 17.2475\n",
            "Epoch 8/100\n",
            "1/1 [==============================] - 0s 10ms/step - loss: 16.9662 - mae: 16.9662\n",
            "Epoch 9/100\n",
            "1/1 [==============================] - 0s 11ms/step - loss: 16.6850 - mae: 16.6850\n",
            "Epoch 10/100\n",
            "1/1 [==============================] - 0s 11ms/step - loss: 16.4037 - mae: 16.4037\n",
            "Epoch 11/100\n",
            "1/1 [==============================] - 0s 14ms/step - loss: 16.1225 - mae: 16.1225\n",
            "Epoch 12/100\n",
            "1/1 [==============================] - 0s 11ms/step - loss: 15.8412 - mae: 15.8412\n",
            "Epoch 13/100\n",
            "1/1 [==============================] - 0s 13ms/step - loss: 15.5600 - mae: 15.5600\n",
            "Epoch 14/100\n",
            "1/1 [==============================] - 0s 12ms/step - loss: 15.2787 - mae: 15.2787\n",
            "Epoch 15/100\n",
            "1/1 [==============================] - 0s 12ms/step - loss: 14.9975 - mae: 14.9975\n",
            "Epoch 16/100\n",
            "1/1 [==============================] - 0s 14ms/step - loss: 14.7546 - mae: 14.7546\n",
            "Epoch 17/100\n",
            "1/1 [==============================] - 0s 12ms/step - loss: 14.6221 - mae: 14.6221\n",
            "Epoch 18/100\n",
            "1/1 [==============================] - 0s 11ms/step - loss: 14.4896 - mae: 14.4896\n",
            "Epoch 19/100\n",
            "1/1 [==============================] - 0s 11ms/step - loss: 14.3571 - mae: 14.3571\n",
            "Epoch 20/100\n",
            "1/1 [==============================] - 0s 11ms/step - loss: 14.2246 - mae: 14.2246\n",
            "Epoch 21/100\n",
            "1/1 [==============================] - 0s 11ms/step - loss: 14.0921 - mae: 14.0921\n",
            "Epoch 22/100\n",
            "1/1 [==============================] - 0s 12ms/step - loss: 13.9596 - mae: 13.9596\n",
            "Epoch 23/100\n",
            "1/1 [==============================] - 0s 14ms/step - loss: 13.8271 - mae: 13.8271\n",
            "Epoch 24/100\n",
            "1/1 [==============================] - 0s 12ms/step - loss: 13.6946 - mae: 13.6946\n",
            "Epoch 25/100\n",
            "1/1 [==============================] - 0s 12ms/step - loss: 13.5621 - mae: 13.5621\n",
            "Epoch 26/100\n",
            "1/1 [==============================] - 0s 15ms/step - loss: 13.4296 - mae: 13.4296\n",
            "Epoch 27/100\n",
            "1/1 [==============================] - 0s 12ms/step - loss: 13.2971 - mae: 13.2971\n",
            "Epoch 28/100\n",
            "1/1 [==============================] - 0s 12ms/step - loss: 13.1646 - mae: 13.1646\n",
            "Epoch 29/100\n",
            "1/1 [==============================] - 0s 11ms/step - loss: 13.0321 - mae: 13.0321\n",
            "Epoch 30/100\n",
            "1/1 [==============================] - 0s 11ms/step - loss: 12.8996 - mae: 12.8996\n",
            "Epoch 31/100\n",
            "1/1 [==============================] - 0s 11ms/step - loss: 12.7671 - mae: 12.7671\n",
            "Epoch 32/100\n",
            "1/1 [==============================] - 0s 12ms/step - loss: 12.6346 - mae: 12.6346\n",
            "Epoch 33/100\n",
            "1/1 [==============================] - 0s 12ms/step - loss: 12.5021 - mae: 12.5021\n",
            "Epoch 34/100\n",
            "1/1 [==============================] - 0s 11ms/step - loss: 12.3696 - mae: 12.3696\n",
            "Epoch 35/100\n",
            "1/1 [==============================] - 0s 10ms/step - loss: 12.2371 - mae: 12.2371\n",
            "Epoch 36/100\n",
            "1/1 [==============================] - 0s 10ms/step - loss: 12.1046 - mae: 12.1046\n",
            "Epoch 37/100\n",
            "1/1 [==============================] - 0s 11ms/step - loss: 11.9721 - mae: 11.9721\n",
            "Epoch 38/100\n",
            "1/1 [==============================] - 0s 11ms/step - loss: 11.8396 - mae: 11.8396\n",
            "Epoch 39/100\n",
            "1/1 [==============================] - 0s 12ms/step - loss: 11.7071 - mae: 11.7071\n",
            "Epoch 40/100\n",
            "1/1 [==============================] - 0s 10ms/step - loss: 11.5746 - mae: 11.5746\n",
            "Epoch 41/100\n",
            "1/1 [==============================] - 0s 16ms/step - loss: 11.4421 - mae: 11.4421\n",
            "Epoch 42/100\n",
            "1/1 [==============================] - 0s 10ms/step - loss: 11.3096 - mae: 11.3096\n",
            "Epoch 43/100\n",
            "1/1 [==============================] - 0s 10ms/step - loss: 11.1771 - mae: 11.1771\n",
            "Epoch 44/100\n",
            "1/1 [==============================] - 0s 13ms/step - loss: 11.0446 - mae: 11.0446\n",
            "Epoch 45/100\n",
            "1/1 [==============================] - 0s 16ms/step - loss: 10.9121 - mae: 10.9121\n",
            "Epoch 46/100\n",
            "1/1 [==============================] - 0s 13ms/step - loss: 10.7796 - mae: 10.7796\n",
            "Epoch 47/100\n",
            "1/1 [==============================] - 0s 12ms/step - loss: 10.6471 - mae: 10.6471\n",
            "Epoch 48/100\n",
            "1/1 [==============================] - 0s 11ms/step - loss: 10.5146 - mae: 10.5146\n",
            "Epoch 49/100\n",
            "1/1 [==============================] - 0s 14ms/step - loss: 10.3821 - mae: 10.3821\n",
            "Epoch 50/100\n",
            "1/1 [==============================] - 0s 12ms/step - loss: 10.2496 - mae: 10.2496\n",
            "Epoch 51/100\n",
            "1/1 [==============================] - 0s 11ms/step - loss: 10.1171 - mae: 10.1171\n",
            "Epoch 52/100\n",
            "1/1 [==============================] - 0s 11ms/step - loss: 9.9846 - mae: 9.9846\n",
            "Epoch 53/100\n",
            "1/1 [==============================] - 0s 16ms/step - loss: 9.8521 - mae: 9.8521\n",
            "Epoch 54/100\n",
            "1/1 [==============================] - 0s 11ms/step - loss: 9.7196 - mae: 9.7196\n",
            "Epoch 55/100\n",
            "1/1 [==============================] - 0s 11ms/step - loss: 9.5871 - mae: 9.5871\n",
            "Epoch 56/100\n",
            "1/1 [==============================] - 0s 12ms/step - loss: 9.4546 - mae: 9.4546\n",
            "Epoch 57/100\n",
            "1/1 [==============================] - 0s 18ms/step - loss: 9.3221 - mae: 9.3221\n",
            "Epoch 58/100\n",
            "1/1 [==============================] - 0s 12ms/step - loss: 9.1896 - mae: 9.1896\n",
            "Epoch 59/100\n",
            "1/1 [==============================] - 0s 10ms/step - loss: 9.0571 - mae: 9.0571\n",
            "Epoch 60/100\n",
            "1/1 [==============================] - 0s 11ms/step - loss: 8.9246 - mae: 8.9246\n",
            "Epoch 61/100\n",
            "1/1 [==============================] - 0s 11ms/step - loss: 8.7921 - mae: 8.7921\n",
            "Epoch 62/100\n",
            "1/1 [==============================] - 0s 12ms/step - loss: 8.6596 - mae: 8.6596\n",
            "Epoch 63/100\n",
            "1/1 [==============================] - 0s 12ms/step - loss: 8.5271 - mae: 8.5271\n",
            "Epoch 64/100\n",
            "1/1 [==============================] - 0s 11ms/step - loss: 8.3946 - mae: 8.3946\n",
            "Epoch 65/100\n",
            "1/1 [==============================] - 0s 11ms/step - loss: 8.2621 - mae: 8.2621\n",
            "Epoch 66/100\n",
            "1/1 [==============================] - 0s 11ms/step - loss: 8.1296 - mae: 8.1296\n",
            "Epoch 67/100\n",
            "1/1 [==============================] - 0s 11ms/step - loss: 7.9971 - mae: 7.9971\n",
            "Epoch 68/100\n",
            "1/1 [==============================] - 0s 11ms/step - loss: 7.8646 - mae: 7.8646\n",
            "Epoch 69/100\n",
            "1/1 [==============================] - 0s 11ms/step - loss: 7.7321 - mae: 7.7321\n",
            "Epoch 70/100\n",
            "1/1 [==============================] - 0s 10ms/step - loss: 7.5996 - mae: 7.5996\n",
            "Epoch 71/100\n",
            "1/1 [==============================] - 0s 10ms/step - loss: 7.4671 - mae: 7.4671\n",
            "Epoch 72/100\n",
            "1/1 [==============================] - 0s 13ms/step - loss: 7.3346 - mae: 7.3346\n",
            "Epoch 73/100\n",
            "1/1 [==============================] - 0s 11ms/step - loss: 7.2021 - mae: 7.2021\n",
            "Epoch 74/100\n",
            "1/1 [==============================] - 0s 11ms/step - loss: 7.0696 - mae: 7.0696\n",
            "Epoch 75/100\n",
            "1/1 [==============================] - 0s 13ms/step - loss: 6.9731 - mae: 6.9731\n",
            "Epoch 76/100\n",
            "1/1 [==============================] - 0s 12ms/step - loss: 6.9675 - mae: 6.9675\n",
            "Epoch 77/100\n",
            "1/1 [==============================] - 0s 11ms/step - loss: 6.9619 - mae: 6.9619\n",
            "Epoch 78/100\n",
            "1/1 [==============================] - 0s 11ms/step - loss: 6.9563 - mae: 6.9563\n",
            "Epoch 79/100\n",
            "1/1 [==============================] - 0s 13ms/step - loss: 6.9506 - mae: 6.9506\n",
            "Epoch 80/100\n",
            "1/1 [==============================] - 0s 12ms/step - loss: 6.9450 - mae: 6.9450\n",
            "Epoch 81/100\n",
            "1/1 [==============================] - 0s 11ms/step - loss: 6.9394 - mae: 6.9394\n",
            "Epoch 82/100\n",
            "1/1 [==============================] - 0s 11ms/step - loss: 6.9338 - mae: 6.9338\n",
            "Epoch 83/100\n",
            "1/1 [==============================] - 0s 11ms/step - loss: 6.9281 - mae: 6.9281\n",
            "Epoch 84/100\n",
            "1/1 [==============================] - 0s 10ms/step - loss: 6.9225 - mae: 6.9225\n",
            "Epoch 85/100\n",
            "1/1 [==============================] - 0s 11ms/step - loss: 6.9169 - mae: 6.9169\n",
            "Epoch 86/100\n",
            "1/1 [==============================] - 0s 12ms/step - loss: 6.9113 - mae: 6.9113\n",
            "Epoch 87/100\n",
            "1/1 [==============================] - 0s 11ms/step - loss: 6.9056 - mae: 6.9056\n",
            "Epoch 88/100\n",
            "1/1 [==============================] - 0s 11ms/step - loss: 6.9000 - mae: 6.9000\n",
            "Epoch 89/100\n",
            "1/1 [==============================] - 0s 11ms/step - loss: 6.8944 - mae: 6.8944\n",
            "Epoch 90/100\n",
            "1/1 [==============================] - 0s 11ms/step - loss: 6.8888 - mae: 6.8888\n",
            "Epoch 91/100\n",
            "1/1 [==============================] - 0s 10ms/step - loss: 6.8831 - mae: 6.8831\n",
            "Epoch 92/100\n",
            "1/1 [==============================] - 0s 10ms/step - loss: 6.8775 - mae: 6.8775\n",
            "Epoch 93/100\n",
            "1/1 [==============================] - 0s 11ms/step - loss: 6.8719 - mae: 6.8719\n",
            "Epoch 94/100\n",
            "1/1 [==============================] - 0s 14ms/step - loss: 6.8663 - mae: 6.8663\n",
            "Epoch 95/100\n",
            "1/1 [==============================] - 0s 11ms/step - loss: 6.8606 - mae: 6.8606\n",
            "Epoch 96/100\n",
            "1/1 [==============================] - 0s 11ms/step - loss: 6.8550 - mae: 6.8550\n",
            "Epoch 97/100\n",
            "1/1 [==============================] - 0s 11ms/step - loss: 6.8494 - mae: 6.8494\n",
            "Epoch 98/100\n",
            "1/1 [==============================] - 0s 11ms/step - loss: 6.8438 - mae: 6.8438\n",
            "Epoch 99/100\n",
            "1/1 [==============================] - 0s 11ms/step - loss: 6.8381 - mae: 6.8381\n",
            "Epoch 100/100\n",
            "1/1 [==============================] - 0s 11ms/step - loss: 6.8325 - mae: 6.8325\n"
          ]
        },
        {
          "output_type": "execute_result",
          "data": {
            "text/plain": [
              "<keras.callbacks.History at 0x7f151841c520>"
            ]
          },
          "metadata": {},
          "execution_count": 11
        }
      ]
    },
    {
      "cell_type": "code",
      "source": [
        "model.predict([17.0])"
      ],
      "metadata": {
        "colab": {
          "base_uri": "https://localhost:8080/"
        },
        "id": "2mGypqVBFOdc",
        "outputId": "56e34b17-4c3f-46ef-dd40-bec15fce786d"
      },
      "id": "2mGypqVBFOdc",
      "execution_count": 12,
      "outputs": [
        {
          "output_type": "stream",
          "name": "stdout",
          "text": [
            "1/1 [==============================] - 0s 76ms/step\n"
          ]
        },
        {
          "output_type": "execute_result",
          "data": {
            "text/plain": [
              "array([[29.36248]], dtype=float32)"
            ]
          },
          "metadata": {},
          "execution_count": 12
        }
      ]
    },
    {
      "cell_type": "markdown",
      "source": [
        "# Evaluating a model"
      ],
      "metadata": {
        "id": "TOlUtsGNGPtm"
      },
      "id": "TOlUtsGNGPtm"
    },
    {
      "cell_type": "markdown",
      "source": [
        "**Creating a large dataset**"
      ],
      "metadata": {
        "id": "oAG2PaDnGcOa"
      },
      "id": "oAG2PaDnGcOa"
    },
    {
      "cell_type": "code",
      "source": [
        "X = np.arange(-100, 100, 4)\n",
        "X"
      ],
      "metadata": {
        "colab": {
          "base_uri": "https://localhost:8080/"
        },
        "id": "EgLfhc3gGTjo",
        "outputId": "5bfedfc7-0a20-4791-8a6a-4abd2ff2dbd0"
      },
      "id": "EgLfhc3gGTjo",
      "execution_count": 13,
      "outputs": [
        {
          "output_type": "execute_result",
          "data": {
            "text/plain": [
              "array([-100,  -96,  -92,  -88,  -84,  -80,  -76,  -72,  -68,  -64,  -60,\n",
              "        -56,  -52,  -48,  -44,  -40,  -36,  -32,  -28,  -24,  -20,  -16,\n",
              "        -12,   -8,   -4,    0,    4,    8,   12,   16,   20,   24,   28,\n",
              "         32,   36,   40,   44,   48,   52,   56,   60,   64,   68,   72,\n",
              "         76,   80,   84,   88,   92,   96])"
            ]
          },
          "metadata": {},
          "execution_count": 13
        }
      ]
    },
    {
      "cell_type": "code",
      "source": [
        "y = X + 10\n",
        "y"
      ],
      "metadata": {
        "colab": {
          "base_uri": "https://localhost:8080/"
        },
        "id": "jTfPFwO1Gogd",
        "outputId": "908a2fe3-8e65-41de-d33a-eff612fffb83"
      },
      "id": "jTfPFwO1Gogd",
      "execution_count": 14,
      "outputs": [
        {
          "output_type": "execute_result",
          "data": {
            "text/plain": [
              "array([-90, -86, -82, -78, -74, -70, -66, -62, -58, -54, -50, -46, -42,\n",
              "       -38, -34, -30, -26, -22, -18, -14, -10,  -6,  -2,   2,   6,  10,\n",
              "        14,  18,  22,  26,  30,  34,  38,  42,  46,  50,  54,  58,  62,\n",
              "        66,  70,  74,  78,  82,  86,  90,  94,  98, 102, 106])"
            ]
          },
          "metadata": {},
          "execution_count": 14
        }
      ]
    },
    {
      "cell_type": "markdown",
      "source": [
        "**Split data into train and test set**"
      ],
      "metadata": {
        "id": "IpmgbSz7HAnS"
      },
      "id": "IpmgbSz7HAnS"
    },
    {
      "cell_type": "code",
      "source": [
        "len(X)"
      ],
      "metadata": {
        "colab": {
          "base_uri": "https://localhost:8080/"
        },
        "id": "rj4TmGo-G9H9",
        "outputId": "00b91ae8-b59a-4c05-b549-e68a55027f4a"
      },
      "id": "rj4TmGo-G9H9",
      "execution_count": 15,
      "outputs": [
        {
          "output_type": "execute_result",
          "data": {
            "text/plain": [
              "50"
            ]
          },
          "metadata": {},
          "execution_count": 15
        }
      ]
    },
    {
      "cell_type": "code",
      "source": [
        "X_train = X[:40]\n",
        "y_train = y[:40]\n",
        "\n",
        "X_test = X[40:]\n",
        "y_test = y[40:]\n",
        "\n",
        "len(X_train), len(X_test)"
      ],
      "metadata": {
        "colab": {
          "base_uri": "https://localhost:8080/"
        },
        "id": "g0FPMWsOG1jn",
        "outputId": "7c8325b0-9774-495c-8d80-7d629b59669f"
      },
      "id": "g0FPMWsOG1jn",
      "execution_count": 16,
      "outputs": [
        {
          "output_type": "execute_result",
          "data": {
            "text/plain": [
              "(40, 10)"
            ]
          },
          "metadata": {},
          "execution_count": 16
        }
      ]
    },
    {
      "cell_type": "markdown",
      "source": [
        "**Visualizing the data**"
      ],
      "metadata": {
        "id": "5Np5-RwhLAbH"
      },
      "id": "5Np5-RwhLAbH"
    },
    {
      "cell_type": "code",
      "source": [
        "plt.figure(figsize=(10, 7))\n",
        "\n",
        "plt.scatter(X_train, y_train, c='b', label='Training data')\n",
        "\n",
        "plt.scatter(X_test, y_test, c='g', label='testing data')\n",
        "\n",
        "plt.legend()\n",
        "plt.show()"
      ],
      "metadata": {
        "colab": {
          "base_uri": "https://localhost:8080/",
          "height": 599
        },
        "id": "ertn5XYaLH8e",
        "outputId": "ced0d7ef-014e-4770-970e-be3659f9c409"
      },
      "id": "ertn5XYaLH8e",
      "execution_count": 17,
      "outputs": [
        {
          "output_type": "display_data",
          "data": {
            "text/plain": [
              "<Figure size 1000x700 with 1 Axes>"
            ],
            "image/png": "[encoded data removed]"
          },
          "metadata": {}
        }
      ]
    },
    {
      "cell_type": "code",
      "source": [
        "tf.random.set_seed(42)\n",
        "\n",
        "model = tf.keras.Sequential([\n",
        "    tf.keras.layers.Dense(1)\n",
        "])\n",
        "\n",
        "model.compile(loss=\"mae\",\n",
        "              optimizer=tf.keras.optimizers.SGD(),\n",
        "              metrics=\"mae\")"
      ],
      "metadata": {
        "id": "4Oxo-4DHMGa8"
      },
      "id": "4Oxo-4DHMGa8",
      "execution_count": 18,
      "outputs": []
    },
    {
      "cell_type": "markdown",
      "source": [
        "**Visualizing the model**"
      ],
      "metadata": {
        "id": "q7JqXUh6Nj6E"
      },
      "id": "q7JqXUh6Nj6E"
    },
    {
      "cell_type": "code",
      "source": [
        "model.summary()"
      ],
      "metadata": {
        "colab": {
          "base_uri": "https://localhost:8080/",
          "height": 321
        },
        "id": "Obi1ssO-L9fx",
        "outputId": "1da24827-6de4-4cb2-9ca8-31e639428260"
      },
      "id": "Obi1ssO-L9fx",
      "execution_count": 19,
      "outputs": [
        {
          "output_type": "error",
          "ename": "ValueError",
          "evalue": "ignored",
          "traceback": [
            "\u001b[0;31m---------------------------------------------------------------------------\u001b[0m",
            "\u001b[0;31mValueError\u001b[0m                                Traceback (most recent call last)",
            "\u001b[0;32m<ipython-input-19-5f15418b3570>\u001b[0m in \u001b[0;36m<cell line: 1>\u001b[0;34m()\u001b[0m\n\u001b[0;32m----> 1\u001b[0;31m \u001b[0mmodel\u001b[0m\u001b[0;34m.\u001b[0m\u001b[0msummary\u001b[0m\u001b[0;34m(\u001b[0m\u001b[0;34m)\u001b[0m\u001b[0;34m\u001b[0m\u001b[0;34m\u001b[0m\u001b[0m\n\u001b[0m",
            "\u001b[0;32m/usr/local/lib/python3.10/dist-packages/keras/engine/training.py\u001b[0m in \u001b[0;36msummary\u001b[0;34m(self, line_length, positions, print_fn, expand_nested, show_trainable, layer_range)\u001b[0m\n\u001b[1;32m   3227\u001b[0m         \"\"\"\n\u001b[1;32m   3228\u001b[0m         \u001b[0;32mif\u001b[0m \u001b[0;32mnot\u001b[0m \u001b[0mself\u001b[0m\u001b[0;34m.\u001b[0m\u001b[0mbuilt\u001b[0m\u001b[0;34m:\u001b[0m\u001b[0;34m\u001b[0m\u001b[0;34m\u001b[0m\u001b[0m\n\u001b[0;32m-> 3229\u001b[0;31m             raise ValueError(\n\u001b[0m\u001b[1;32m   3230\u001b[0m                 \u001b[0;34m\"This model has not yet been built. \"\u001b[0m\u001b[0;34m\u001b[0m\u001b[0;34m\u001b[0m\u001b[0m\n\u001b[1;32m   3231\u001b[0m                 \u001b[0;34m\"Build the model first by calling `build()` or by calling \"\u001b[0m\u001b[0;34m\u001b[0m\u001b[0;34m\u001b[0m\u001b[0m\n",
            "\u001b[0;31mValueError\u001b[0m: This model has not yet been built. Build the model first by calling `build()` or by calling the model on a batch of data."
          ]
        }
      ]
    },
    {
      "cell_type": "markdown",
      "source": [
        "- *model is giving error, because we did not fit our model*\n",
        "- *to solve this we can define the input shape\n",
        "in the dense layer*"
      ],
      "metadata": {
        "id": "l_FLXk--N_e9"
      },
      "id": "l_FLXk--N_e9"
    },
    {
      "cell_type": "code",
      "source": [
        "tf.random.set_seed(42)\n",
        "\n",
        "model = tf.keras.Sequential([\n",
        "  tf.keras.layers.Dense(1, input_shape=[1])   # defining input shape\n",
        "])\n",
        "\n",
        "model.compile(loss=\"mae\",\n",
        "              optimizer=tf.keras.optimizers.SGD(),\n",
        "              metrics=[\"mae\"])"
      ],
      "metadata": {
        "id": "Tad8fu7zOyOs"
      },
      "id": "Tad8fu7zOyOs",
      "execution_count": 20,
      "outputs": []
    },
    {
      "cell_type": "code",
      "source": [
        "model.summary()"
      ],
      "metadata": {
        "colab": {
          "base_uri": "https://localhost:8080/"
        },
        "id": "jIVnLd5OPqiI",
        "outputId": "66662593-dad1-49b5-f57a-8ecbbc9ee324"
      },
      "id": "jIVnLd5OPqiI",
      "execution_count": 21,
      "outputs": [
        {
          "output_type": "stream",
          "name": "stdout",
          "text": [
            "Model: \"sequential_3\"\n",
            "_________________________________________________________________\n",
            " Layer (type)                Output Shape              Param #   \n",
            "=================================================================\n",
            " dense_3 (Dense)             (None, 1)                 2         \n",
            "                                                                 \n",
            "=================================================================\n",
            "Total params: 2\n",
            "Trainable params: 2\n",
            "Non-trainable params: 0\n",
            "_________________________________________________________________\n"
          ]
        }
      ]
    },
    {
      "cell_type": "code",
      "source": [
        "# tf.random.set_seed(42)\n",
        "\n",
        "# model = tf.keras.Sequential([\n",
        "#     tf.keras.layers.Dense(3, input_shape=[1])\n",
        "# ])\n",
        "\n",
        "# model.compile(loss=\"mae\",\n",
        "#            optimizer=tf.keras.optimizers.SGD(),\n",
        "#            metrics=\"mae\")"
      ],
      "metadata": {
        "id": "dfmgTA0FKwrw"
      },
      "id": "dfmgTA0FKwrw",
      "execution_count": 22,
      "outputs": []
    },
    {
      "cell_type": "code",
      "source": [
        "model.summary()"
      ],
      "metadata": {
        "colab": {
          "base_uri": "https://localhost:8080/"
        },
        "id": "9vheXYCXQ63w",
        "outputId": "700ccfc0-fa7b-4de5-dde9-7906411f5e63"
      },
      "id": "9vheXYCXQ63w",
      "execution_count": 23,
      "outputs": [
        {
          "output_type": "stream",
          "name": "stdout",
          "text": [
            "Model: \"sequential_3\"\n",
            "_________________________________________________________________\n",
            " Layer (type)                Output Shape              Param #   \n",
            "=================================================================\n",
            " dense_3 (Dense)             (None, 1)                 2         \n",
            "                                                                 \n",
            "=================================================================\n",
            "Total params: 2\n",
            "Trainable params: 2\n",
            "Non-trainable params: 0\n",
            "_________________________________________________________________\n"
          ]
        }
      ]
    },
    {
      "cell_type": "code",
      "source": [
        "model.fit(X_train, y_train, epochs=100, verbose=0)"
      ],
      "metadata": {
        "colab": {
          "base_uri": "https://localhost:8080/"
        },
        "id": "U4o45kiOF2HY",
        "outputId": "e294ebb2-2702-48aa-924a-0b5ddaec5417"
      },
      "id": "U4o45kiOF2HY",
      "execution_count": 24,
      "outputs": [
        {
          "output_type": "execute_result",
          "data": {
            "text/plain": [
              "<keras.callbacks.History at 0x7f151820d060>"
            ]
          },
          "metadata": {},
          "execution_count": 24
        }
      ]
    },
    {
      "cell_type": "code",
      "source": [
        "model.summary()"
      ],
      "metadata": {
        "colab": {
          "base_uri": "https://localhost:8080/"
        },
        "id": "PBkAb4FuYg2g",
        "outputId": "565c7392-5c44-4513-fb1c-e4c68fa7cfed"
      },
      "id": "PBkAb4FuYg2g",
      "execution_count": 25,
      "outputs": [
        {
          "output_type": "stream",
          "name": "stdout",
          "text": [
            "Model: \"sequential_3\"\n",
            "_________________________________________________________________\n",
            " Layer (type)                Output Shape              Param #   \n",
            "=================================================================\n",
            " dense_3 (Dense)             (None, 1)                 2         \n",
            "                                                                 \n",
            "=================================================================\n",
            "Total params: 2\n",
            "Trainable params: 2\n",
            "Non-trainable params: 0\n",
            "_________________________________________________________________\n"
          ]
        }
      ]
    },
    {
      "cell_type": "code",
      "source": [
        "from tensorflow.keras.utils import plot_model\n",
        "plot_model(model, show_shapes=True)"
      ],
      "metadata": {
        "colab": {
          "base_uri": "https://localhost:8080/",
          "height": 201
        },
        "id": "iLpuhhCeR78R",
        "outputId": "1f9c5769-ebc3-4a21-99b4-09edf8c9f6dc"
      },
      "id": "iLpuhhCeR78R",
      "execution_count": 26,
      "outputs": [
        {
          "output_type": "execute_result",
          "data": {
            "image/png": "[encoded data removed]",
            "text/plain": [
              "<IPython.core.display.Image object>"
            ]
          },
          "metadata": {},
          "execution_count": 26
        }
      ]
    },
    {
      "cell_type": "markdown",
      "source": [
        "# Visualizing the predictions"
      ],
      "metadata": {
        "id": "x4Tp8WTaYmk1"
      },
      "id": "x4Tp8WTaYmk1"
    },
    {
      "cell_type": "code",
      "source": [
        "y_preds = model.predict(X_test)"
      ],
      "metadata": {
        "colab": {
          "base_uri": "https://localhost:8080/"
        },
        "id": "ug8kR15xYk8d",
        "outputId": "b9838b72-f9e9-46a7-e60b-89681782547e"
      },
      "id": "ug8kR15xYk8d",
      "execution_count": 27,
      "outputs": [
        {
          "output_type": "stream",
          "name": "stdout",
          "text": [
            "1/1 [==============================] - 0s 54ms/step\n"
          ]
        }
      ]
    },
    {
      "cell_type": "code",
      "source": [
        "y_preds"
      ],
      "metadata": {
        "colab": {
          "base_uri": "https://localhost:8080/"
        },
        "id": "GmXCY-_9YtRz",
        "outputId": "95af6d51-5735-4fbb-8bdc-606acfa985e6"
      },
      "id": "GmXCY-_9YtRz",
      "execution_count": 28,
      "outputs": [
        {
          "output_type": "execute_result",
          "data": {
            "text/plain": [
              "array([[44.403595],\n",
              "       [47.277042],\n",
              "       [50.15049 ],\n",
              "       [53.023937],\n",
              "       [55.897385],\n",
              "       [58.770832],\n",
              "       [61.644283],\n",
              "       [64.51773 ],\n",
              "       [67.391174],\n",
              "       [70.264626]], dtype=float32)"
            ]
          },
          "metadata": {},
          "execution_count": 28
        }
      ]
    },
    {
      "cell_type": "code",
      "source": [
        "def plot_predictions(train_data=X_train, train_labels=y_train, test_data=X_test,\n",
        "                     test_labels=y_test, predictions=y_preds):\n",
        "  plt.figure(figsize=(10,7))\n",
        "\n",
        "  plt.scatter(train_data, train_labels, c='b', label=\"Training data\")\n",
        "\n",
        "  plt.scatter(test_data, test_labels, c='g', label=\"Testing data\")\n",
        "\n",
        "  plt.scatter(test_data, predictions, c='r', label=\"Predictions\")\n",
        "\n",
        "  plt.legend()\n",
        "  plt.show()"
      ],
      "metadata": {
        "id": "J2xRmmszYv0t"
      },
      "id": "J2xRmmszYv0t",
      "execution_count": 29,
      "outputs": []
    },
    {
      "cell_type": "code",
      "source": [
        "plot_predictions(train_data=X_train, train_labels=y_train, test_data=X_test,\n",
        "                     test_labels=y_test, predictions=y_preds)"
      ],
      "metadata": {
        "colab": {
          "base_uri": "https://localhost:8080/",
          "height": 599
        },
        "id": "EWehjVpdZ8jY",
        "outputId": "ab2c1f69-ab73-43ed-b299-3c3acaea9761"
      },
      "id": "EWehjVpdZ8jY",
      "execution_count": 30,
      "outputs": [
        {
          "output_type": "display_data",
          "data": {
            "text/plain": [
              "<Figure size 1000x700 with 1 Axes>"
            ],
            "image/png": "[encoded data removed]"
          },
          "metadata": {}
        }
      ]
    },
    {
      "cell_type": "markdown",
      "source": [
        "# Evaluating predictions"
      ],
      "metadata": {
        "id": "o_8UKCufaMA-"
      },
      "id": "o_8UKCufaMA-"
    },
    {
      "cell_type": "code",
      "source": [
        "model.evaluate(X_test, y_test)"
      ],
      "metadata": {
        "colab": {
          "base_uri": "https://localhost:8080/"
        },
        "id": "jGRykMkKaDgc",
        "outputId": "7f697e29-71f7-44aa-e9fc-00ead6f09f57"
      },
      "id": "jGRykMkKaDgc",
      "execution_count": 31,
      "outputs": [
        {
          "output_type": "stream",
          "name": "stdout",
          "text": [
            "1/1 [==============================] - 0s 170ms/step - loss: 30.6659 - mae: 30.6659\n"
          ]
        },
        {
          "output_type": "execute_result",
          "data": {
            "text/plain": [
              "[30.665889739990234, 30.665889739990234]"
            ]
          },
          "metadata": {},
          "execution_count": 31
        }
      ]
    },
    {
      "cell_type": "code",
      "source": [
        "mae = tf.metrics.mean_absolute_error(y_true=y_test, y_pred=y_preds)\n",
        "mae"
      ],
      "metadata": {
        "colab": {
          "base_uri": "https://localhost:8080/"
        },
        "id": "iazCDufsab1i",
        "outputId": "ac5b38bc-2694-4a61-bbc9-d00b4801b1d1"
      },
      "id": "iazCDufsab1i",
      "execution_count": 32,
      "outputs": [
        {
          "output_type": "execute_result",
          "data": {
            "text/plain": [
              "<tf.Tensor: shape=(10,), dtype=float32, numpy=\n",
              "array([43.596405, 40.722958, 37.84951 , 34.976063, 32.102615, 29.229168,\n",
              "       26.355717, 23.48227 , 20.608826, 17.7883  ], dtype=float32)>"
            ]
          },
          "metadata": {},
          "execution_count": 32
        }
      ]
    },
    {
      "cell_type": "markdown",
      "source": [
        "*'mae' should have given one value, instead its giving list of values*"
      ],
      "metadata": {
        "id": "DisSDmg5byui"
      },
      "id": "DisSDmg5byui"
    },
    {
      "cell_type": "code",
      "source": [
        "y_test.shape, y_preds.shape"
      ],
      "metadata": {
        "colab": {
          "base_uri": "https://localhost:8080/"
        },
        "id": "o-DGLh6qa3Ys",
        "outputId": "6dd511b1-c301-4f87-8737-31918ccffdba"
      },
      "id": "o-DGLh6qa3Ys",
      "execution_count": 33,
      "outputs": [
        {
          "output_type": "execute_result",
          "data": {
            "text/plain": [
              "((10,), (10, 1))"
            ]
          },
          "metadata": {},
          "execution_count": 33
        }
      ]
    },
    {
      "cell_type": "code",
      "source": [
        "y_test = y_test.reshape(10,1)\n",
        "y_test.shape"
      ],
      "metadata": {
        "colab": {
          "base_uri": "https://localhost:8080/"
        },
        "id": "Be9e0203a1uq",
        "outputId": "11aced7b-8e6b-4df2-bad9-471042bf2943"
      },
      "id": "Be9e0203a1uq",
      "execution_count": 34,
      "outputs": [
        {
          "output_type": "execute_result",
          "data": {
            "text/plain": [
              "(10, 1)"
            ]
          },
          "metadata": {},
          "execution_count": 34
        }
      ]
    },
    {
      "cell_type": "code",
      "source": [
        "mae = tf.metrics.mean_absolute_error(y_true=y_test, y_pred=y_preds)\n",
        "mae"
      ],
      "metadata": {
        "colab": {
          "base_uri": "https://localhost:8080/"
        },
        "id": "IBUBOZlQbFPD",
        "outputId": "236f33d8-1f1d-426e-8be2-cc418883ecde"
      },
      "id": "IBUBOZlQbFPD",
      "execution_count": 35,
      "outputs": [
        {
          "output_type": "execute_result",
          "data": {
            "text/plain": [
              "<tf.Tensor: shape=(10,), dtype=float32, numpy=\n",
              "array([25.596405, 26.722958, 27.84951 , 28.976063, 30.102615, 31.229168,\n",
              "       32.355717, 33.48227 , 34.608826, 35.735374], dtype=float32)>"
            ]
          },
          "metadata": {},
          "execution_count": 35
        }
      ]
    },
    {
      "cell_type": "code",
      "source": [
        "y_test = y_test.reshape(10)\n",
        "y_preds = y_preds.reshape(10)"
      ],
      "metadata": {
        "id": "3TaP0XtLbLmS"
      },
      "id": "3TaP0XtLbLmS",
      "execution_count": 36,
      "outputs": []
    },
    {
      "cell_type": "code",
      "source": [
        "mae = tf.metrics.mean_absolute_error(y_true=y_test, y_pred=y_preds)\n",
        "mae"
      ],
      "metadata": {
        "colab": {
          "base_uri": "https://localhost:8080/"
        },
        "id": "qYNw-nrvbY5e",
        "outputId": "2969bde9-1e8a-436f-f517-c5f2967b8923"
      },
      "id": "qYNw-nrvbY5e",
      "execution_count": 37,
      "outputs": [
        {
          "output_type": "execute_result",
          "data": {
            "text/plain": [
              "<tf.Tensor: shape=(), dtype=float32, numpy=30.66589>"
            ]
          },
          "metadata": {},
          "execution_count": 37
        }
      ]
    },
    {
      "cell_type": "markdown",
      "source": [
        "*Now \"mae\" worked*"
      ],
      "metadata": {
        "id": "QCMjqzXrbe3l"
      },
      "id": "QCMjqzXrbe3l"
    },
    {
      "cell_type": "code",
      "source": [
        "# Calculate the MSE\n",
        "mse = tf.metrics.mean_squared_error(y_true=y_test,\n",
        "                                    y_pred=y_preds)\n",
        "mse\n",
        "     "
      ],
      "metadata": {
        "colab": {
          "base_uri": "https://localhost:8080/"
        },
        "id": "eWAd79LYblUk",
        "outputId": "72fd3cb1-325e-4829-ddc4-2ed0674fa8b6"
      },
      "id": "eWAd79LYblUk",
      "execution_count": 38,
      "outputs": [
        {
          "output_type": "execute_result",
          "data": {
            "text/plain": [
              "<tf.Tensor: shape=(), dtype=float32, numpy=950.86707>"
            ]
          },
          "metadata": {},
          "execution_count": 38
        }
      ]
    },
    {
      "cell_type": "markdown",
      "source": [
        "# Improving our model"
      ],
      "metadata": {
        "id": "TD12NM4Rc8ww"
      },
      "id": "TD12NM4Rc8ww"
    },
    {
      "cell_type": "code",
      "source": [
        "X_train = X_train.reshape(40, 1)\n",
        "y_train = y_train.reshape(40, 1)"
      ],
      "metadata": {
        "id": "RAalrotJkXKb"
      },
      "id": "RAalrotJkXKb",
      "execution_count": 45,
      "outputs": []
    },
    {
      "cell_type": "code",
      "source": [
        "tf.random.set_seed(42)\n",
        "\n",
        "model = tf.keras.Sequential([\n",
        "  tf.keras.layers.Dense(10),\n",
        "  tf.keras.layers.Dense(1)\n",
        "])\n",
        "\n",
        "model.compile(loss=\"mae\",\n",
        "              optimizer=tf.keras.optimizers.SGD(),\n",
        "              metrics=\"mae\")\n",
        "\n",
        "history = model.fit(X_train, y_train, epochs=100, verbose=0)"
      ],
      "metadata": {
        "id": "-_J7fvF_ceLZ"
      },
      "id": "-_J7fvF_ceLZ",
      "execution_count": 58,
      "outputs": []
    },
    {
      "cell_type": "code",
      "source": [
        "model.predict([17])"
      ],
      "metadata": {
        "colab": {
          "base_uri": "https://localhost:8080/"
        },
        "id": "ot6zIPqyjudL",
        "outputId": "57d740ac-1f10-4135-c4c7-cc419efe7c0a"
      },
      "id": "ot6zIPqyjudL",
      "execution_count": 59,
      "outputs": [
        {
          "output_type": "stream",
          "name": "stdout",
          "text": [
            "1/1 [==============================] - 0s 78ms/step\n"
          ]
        },
        {
          "output_type": "execute_result",
          "data": {
            "text/plain": [
              "array([[21.235317]], dtype=float32)"
            ]
          },
          "metadata": {},
          "execution_count": 59
        }
      ]
    },
    {
      "cell_type": "code",
      "source": [
        "import pandas as pd"
      ],
      "metadata": {
        "id": "1VvG-fLrlxI_"
      },
      "id": "1VvG-fLrlxI_",
      "execution_count": 60,
      "outputs": []
    },
    {
      "cell_type": "code",
      "source": [
        "pd.DataFrame(history.history).plot()\n",
        "plt.xlabel(\"epochs\")\n",
        "plt.ylabel(\"loss\")"
      ],
      "metadata": {
        "id": "u3dsGp7uba3c",
        "colab": {
          "base_uri": "https://localhost:8080/",
          "height": 466
        },
        "outputId": "c26eb37d-03d0-49c4-f1ef-76c2bd3aa784"
      },
      "id": "u3dsGp7uba3c",
      "execution_count": 61,
      "outputs": [
        {
          "output_type": "execute_result",
          "data": {
            "text/plain": [
              "Text(0, 0.5, 'loss')"
            ]
          },
          "metadata": {},
          "execution_count": 61
        },
        {
          "output_type": "display_data",
          "data": {
            "text/plain": [
              "<Figure size 640x480 with 1 Axes>"
            ],
            "image/png": "[encoded data removed]"
          },
          "metadata": {}
        }
      ]
    },
    {
      "cell_type": "code",
      "source": [],
      "metadata": {
        "id": "CBDVIEg3mDXE"
      },
      "id": "CBDVIEg3mDXE",
      "execution_count": null,
      "outputs": []
    }
  ],
  "metadata": {
    "kernelspec": {
      "display_name": "Python 3 (ipykernel)",
      "language": "python",
      "name": "python3"
    },
    "language_info": {
      "codemirror_mode": {
        "name": "ipython",
        "version": 3
      },
      "file_extension": ".py",
      "mimetype": "text/x-python",
      "name": "python",
      "nbconvert_exporter": "python",
      "pygments_lexer": "ipython3",
      "version": "3.9.1"
    },
    "colab": {
      "provenance": []
    },
    "accelerator": "TPU",
    "gpuClass": "standard"
  },
  "nbformat": 4,
  "nbformat_minor": 5
}